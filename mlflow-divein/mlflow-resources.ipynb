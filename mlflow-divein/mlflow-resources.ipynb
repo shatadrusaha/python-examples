{
 "cells": [
  {
   "cell_type": "markdown",
   "id": "2d507bfc",
   "metadata": {},
   "source": [
    "Start an mlflow server\n",
    "\n",
    "\n",
    "[Link-#1](https://mlflow.org/docs/latest/ml/tracking/quickstart) <br>\n",
    "[Link-#2](https://youtu.be/cjeCAoW83_U?si=xZ663D9-AuIU5QyD)\n",
    "\n",
    "Run a local Tracking Server -\n",
    "- Start a local MLflow Tracking Server, which will be connected to for logging. From a terminal, run either of them:\n",
    "\n",
    "    `mlflow server --host 127.0.0.1 --port 8080` <br>\n",
    "    `mlflow server --host localhost --port 8080`\n",
    "\n",
    "Set the Tracking Server URI -\n",
    "- Setup the MLflow Tracking Server URI to point to the local server. This is done in the code below:\n",
    "\n",
    "    `mlflow.set_tracking_uri(uri=\"http://<host>:<port>\")` <br>\n",
    "    `mlflow.set_tracking_uri(uri=\"http://localhost:8080\")`\n"
   ]
  },
  {
   "cell_type": "markdown",
   "id": "1db9752a",
   "metadata": {},
   "source": [
    "Stop an mlflow server/ui\n",
    "\n",
    "Assume the mlflow server/ui is running on `port 8080`. Default for mlflow is `port 5000`.\n",
    "\n",
    "```bash\n",
    "# Find the process using port 8080.\n",
    "lsof -i :8080\n",
    "\n",
    "# Stop the process (replace <PID> with the actual process ID).\n",
    "kill <PID>\n",
    "\n",
    "# Force kill.\n",
    "kill -9 <PID>\n",
    "\n",
    "# Check for MLflow processes directly.\n",
    "ps aux | grep mlflow\n",
    "\n",
    "# Kill all processes using port 8080 in a single command.\n",
    "lsof -ti :8080 | xargs kill # Mac/Linux\n",
    "\n",
    "# Force kill.\n",
    "lsof -ti :8080 | xargs kill -9\n",
    "```\n",
    "\n",
    "__Explanation:__\n",
    "\n",
    "`lsof -ti :8080` lists all PIDs using `port 8080`.\n",
    "`xargs kill` sends the kill signal to all those PIDs.\n",
    "\n",
    "__Caution:__\n",
    "\n",
    "This will terminate all processes using `port 8080`, not just MLflow. Make sure you are not killing anything important.\n",
    "\n",
    "_N.B.:_\n",
    "\n",
    "_If you started MLflow in a terminal, you can also stop it by pressing `Ctrl+C` in that terminal window._"
   ]
  },
  {
   "cell_type": "markdown",
   "id": "1c0db464",
   "metadata": {},
   "source": [
    "Python API documentation [link](https://mlflow.org/docs/latest/api_reference/python_api/index.html) for `mlflow`."
   ]
  }
 ],
 "metadata": {
  "language_info": {
   "name": "python"
  }
 },
 "nbformat": 4,
 "nbformat_minor": 5
}
