{
 "cells": [
  {
   "cell_type": "markdown",
   "id": "1c15f496",
   "metadata": {},
   "source": [
    "## Explore [_'Polars'_](https://pola.rs)\n",
    "\n",
    "### Install\n",
    "```bash\n",
    "uv add polars\n",
    "```\n",
    "\n",
    "___N.B.:___ \n",
    "- _Data can be represented in either of the following format -_\n",
    "    - _[`DataFrame`](https://docs.pola.rs/api/python/stable/reference/dataframe/index.html) - Two-dimensional data structure representing data as a table with rows and columns._\n",
    "    - _[`LazyFrame`](https://docs.pola.rs/api/python/stable/reference/lazyframe/index.html) - Representation of a Lazy computation graph/query against a DataFrame. This allows for whole-query optimisation in addition to parallelism, and is the preferred (and highest-performance) mode of operation for polars._\n",
    "- _`LazyFrame` methods have `scan` and `sink` keywords in the respective modules/functions, for I/O operations. e.g. `scan_csv`, `scan_delta`, `scan_parquet`, `sink_csv`, `sink_parquet`, etc._\n",
    "- _`collect()` method must be used when an operation/query is performed on `LazyFrame`._\n",
    "- _More information on `Lazy API` can be found [here](https://docs.pola.rs/user-guide/concepts/lazy-api/) and [here](https://docs.pola.rs/user-guide/lazy/)._\n",
    "\n",
    "\n",
    "### Load libraries"
   ]
  },
  {
   "cell_type": "code",
   "execution_count": 1,
   "id": "4effa45f",
   "metadata": {},
   "outputs": [],
   "source": [
    "import os\n",
    "import polars as pl\n",
    "import kagglehub"
   ]
  },
  {
   "cell_type": "markdown",
   "id": "f61729fa",
   "metadata": {},
   "source": [
    "### Load/Download (large) the dataset\n",
    "\n",
    "[Kaggle - Latest Data Science Job Salaries 2020 - 2025](https://www.kaggle.com/datasets/saurabhbadole/latest-data-science-job-salaries-2024/data)"
   ]
  },
  {
   "cell_type": "code",
   "execution_count": 53,
   "id": "631ab86e",
   "metadata": {},
   "outputs": [
    {
     "name": "stdout",
     "output_type": "stream",
     "text": [
      "Downloading from https://www.kaggle.com/api/v1/datasets/download/saurabhbadole/latest-data-science-job-salaries-2024?dataset_version_number=3...\n"
     ]
    },
    {
     "name": "stderr",
     "output_type": "stream",
     "text": [
      "100%|██████████| 1.48M/1.48M [00:00<00:00, 5.53MB/s]"
     ]
    },
    {
     "name": "stdout",
     "output_type": "stream",
     "text": [
      "Extracting files...\n",
      "Path to dataset files:  /Users/shaz/.cache/kagglehub/datasets/saurabhbadole/latest-data-science-job-salaries-2024/versions/3\n"
     ]
    },
    {
     "name": "stderr",
     "output_type": "stream",
     "text": [
      "\n"
     ]
    }
   ],
   "source": [
    "# Download latest version of the dataset.\n",
    "path_data = kagglehub.dataset_download(\"saurabhbadole/latest-data-science-job-salaries-2024\")\n",
    "print(f\"Path to dataset files: {path_data}\")"
   ]
  },
  {
   "cell_type": "code",
   "execution_count": null,
   "id": "1b894408",
   "metadata": {},
   "outputs": [
    {
     "name": "stdout",
     "output_type": "stream",
     "text": [
      "Shape of the DataFrame: (93597, 11)\n",
      "\n",
      "shape: (5, 11)\n",
      "┌───────────┬───────────┬───────────┬───────────┬───┬───────────┬───────────┬───────────┬──────────┐\n",
      "│ work_year ┆ experienc ┆ employmen ┆ job_title ┆ … ┆ employee_ ┆ remote_ra ┆ company_l ┆ company_ │\n",
      "│ ---       ┆ e_level   ┆ t_type    ┆ ---       ┆   ┆ residence ┆ tio       ┆ ocation   ┆ size     │\n",
      "│ i64       ┆ ---       ┆ ---       ┆ str       ┆   ┆ ---       ┆ ---       ┆ ---       ┆ ---      │\n",
      "│           ┆ str       ┆ str       ┆           ┆   ┆ str       ┆ i64       ┆ str       ┆ str      │\n",
      "╞═══════════╪═══════════╪═══════════╪═══════════╪═══╪═══════════╪═══════════╪═══════════╪══════════╡\n",
      "│ 2025      ┆ MI        ┆ FT        ┆ Research  ┆ … ┆ US        ┆ 0         ┆ US        ┆ M        │\n",
      "│           ┆           ┆           ┆ Scientist ┆   ┆           ┆           ┆           ┆          │\n",
      "│ 2025      ┆ MI        ┆ FT        ┆ Research  ┆ … ┆ US        ┆ 0         ┆ US        ┆ M        │\n",
      "│           ┆           ┆           ┆ Scientist ┆   ┆           ┆           ┆           ┆          │\n",
      "│ 2025      ┆ SE        ┆ FT        ┆ Research  ┆ … ┆ US        ┆ 0         ┆ US        ┆ M        │\n",
      "│           ┆           ┆           ┆ Scientist ┆   ┆           ┆           ┆           ┆          │\n",
      "│ 2025      ┆ SE        ┆ FT        ┆ Research  ┆ … ┆ US        ┆ 0         ┆ US        ┆ M        │\n",
      "│           ┆           ┆           ┆ Scientist ┆   ┆           ┆           ┆           ┆          │\n",
      "│ 2025      ┆ MI        ┆ FT        ┆ AI        ┆ … ┆ US        ┆ 100       ┆ US        ┆ M        │\n",
      "│           ┆           ┆           ┆ Engineer  ┆   ┆           ┆           ┆           ┆          │\n",
      "└───────────┴───────────┴───────────┴───────────┴───┴───────────┴───────────┴───────────┴──────────┘\n"
     ]
    }
   ],
   "source": [
    "# Get the 'csv' filename of the dataset.\n",
    "# path_data = '/Users/shaz/.cache/kagglehub/datasets/saurabhbadole/latest-data-science-job-salaries-2024/versions/3'\n",
    "filenames = os.listdir(path_data)\n",
    "filename_csv = [file for file in filenames if file.endswith('.csv')][0]\n",
    "\n",
    "# Load the dataset into a Polars DataFrame.\n",
    "df_salary = pl.read_csv(source=os.path.join(path_data, filename_csv))\n",
    "print(f\"Shape of the DataFrame: {df_salary.shape}\\n\")\n",
    "\n",
    "# Display the first few rows of the DataFrame.\n",
    "# display(df_ev.head())\n",
    "print(df_salary.head())"
   ]
  },
  {
   "cell_type": "markdown",
   "id": "5b64e5f4",
   "metadata": {},
   "source": [
    "### (OPTIONAL) Save and load the data in _'parquet'_ format locally\n",
    "\n",
    "- normal/regular method"
   ]
  },
  {
   "cell_type": "code",
   "execution_count": 3,
   "id": "0dabe26b",
   "metadata": {},
   "outputs": [
    {
     "name": "stdout",
     "output_type": "stream",
     "text": [
      "Shape of the `DataFrame`: (93597, 11)\n",
      "\n"
     ]
    }
   ],
   "source": [
    "# Define filename for 'parquet' file.\n",
    "filename_parquet = f\"df_{filename_csv.split('.')[0].lower()}.parquet\"\n",
    "\n",
    "# Save the data.\n",
    "df_salary.write_parquet(file=filename_parquet)\n",
    "\n",
    "# Read the data back from the 'parquet' file.\n",
    "df_salary = pl.read_parquet(source=filename_parquet)\n",
    "print(f\"Shape of the `DataFrame`: {df_salary.shape}\\n\")"
   ]
  },
  {
   "cell_type": "markdown",
   "id": "f5763537",
   "metadata": {},
   "source": [
    "- `lazy` method"
   ]
  },
  {
   "cell_type": "code",
   "execution_count": 4,
   "id": "1b9065a4",
   "metadata": {},
   "outputs": [
    {
     "name": "stdout",
     "output_type": "stream",
     "text": [
      "`type` of 'df_ev': polars.dataframe.frame.DataFrame\n",
      "`type` of 'df_ev_lazy': polars.lazyframe.frame.LazyFrame\n",
      "\n",
      "shape: (5, 11)\n",
      "┌───────────┬───────────┬───────────┬───────────┬───┬───────────┬───────────┬───────────┬──────────┐\n",
      "│ work_year ┆ experienc ┆ employmen ┆ job_title ┆ … ┆ employee_ ┆ remote_ra ┆ company_l ┆ company_ │\n",
      "│ ---       ┆ e_level   ┆ t_type    ┆ ---       ┆   ┆ residence ┆ tio       ┆ ocation   ┆ size     │\n",
      "│ i64       ┆ ---       ┆ ---       ┆ str       ┆   ┆ ---       ┆ ---       ┆ ---       ┆ ---      │\n",
      "│           ┆ str       ┆ str       ┆           ┆   ┆ str       ┆ i64       ┆ str       ┆ str      │\n",
      "╞═══════════╪═══════════╪═══════════╪═══════════╪═══╪═══════════╪═══════════╪═══════════╪══════════╡\n",
      "│ 2025      ┆ MI        ┆ FT        ┆ Research  ┆ … ┆ US        ┆ 0         ┆ US        ┆ M        │\n",
      "│           ┆           ┆           ┆ Scientist ┆   ┆           ┆           ┆           ┆          │\n",
      "│ 2025      ┆ MI        ┆ FT        ┆ Research  ┆ … ┆ US        ┆ 0         ┆ US        ┆ M        │\n",
      "│           ┆           ┆           ┆ Scientist ┆   ┆           ┆           ┆           ┆          │\n",
      "│ 2025      ┆ SE        ┆ FT        ┆ Research  ┆ … ┆ US        ┆ 0         ┆ US        ┆ M        │\n",
      "│           ┆           ┆           ┆ Scientist ┆   ┆           ┆           ┆           ┆          │\n",
      "│ 2025      ┆ SE        ┆ FT        ┆ Research  ┆ … ┆ US        ┆ 0         ┆ US        ┆ M        │\n",
      "│           ┆           ┆           ┆ Scientist ┆   ┆           ┆           ┆           ┆          │\n",
      "│ 2025      ┆ MI        ┆ FT        ┆ AI        ┆ … ┆ US        ┆ 100       ┆ US        ┆ M        │\n",
      "│           ┆           ┆           ┆ Engineer  ┆   ┆           ┆           ┆           ┆          │\n",
      "└───────────┴───────────┴───────────┴───────────┴───┴───────────┴───────────┴───────────┴──────────┘\n"
     ]
    }
   ],
   "source": [
    "# Define filename for `lazy` method.\n",
    "filename_lazy_parquet = f\"lf_{filename_csv.split('.')[0].lower()}.parquet\"\n",
    "\n",
    "# Convert the DataFrame to a lazy DataFrame and save it as a Parquet file.\n",
    "df_salary_lazy = df_salary.lazy()\n",
    "df_salary_lazy.sink_parquet(path=filename_lazy_parquet)\n",
    "\n",
    "# Read the lazy DataFrame from the Parquet file.\n",
    "df_salary_lazy = pl.scan_parquet(source=filename_lazy_parquet)\n",
    "\n",
    "# Convert the lazy DataFrame to a regular DataFrame.\n",
    "df_salary = df_salary_lazy.collect()\n",
    "print(f\"`type` of 'df_ev': {type(df_salary).__module__}.{type(df_salary).__name__}\")\n",
    "print(f\"`type` of 'df_ev_lazy': {type(df_salary_lazy).__module__}.{type(df_salary_lazy).__name__}\\n\")\n",
    "\n",
    "# Display the first few rows of the DataFrame.\n",
    "print(df_salary.head())"
   ]
  },
  {
   "cell_type": "markdown",
   "id": "7b0d2b92",
   "metadata": {},
   "source": [
    "### [Inspecting the `DataFrame`](https://docs.pola.rs/user-guide/concepts/data-types-and-structures/#inspecting-a-dataframe)\n",
    "\n",
    "- #### `head`\n",
    "\n",
    "    The function `head` shows the first 5 rows of a `DataFrame`, by default. This can be over-ridden by specifying the desired number of rows."
   ]
  },
  {
   "cell_type": "code",
   "execution_count": 6,
   "id": "78e0f74d",
   "metadata": {},
   "outputs": [
    {
     "name": "stdout",
     "output_type": "stream",
     "text": [
      "'default' usage of `head` method:\n",
      "shape: (5, 11)\n",
      "┌───────────┬───────────┬───────────┬───────────┬───┬───────────┬───────────┬───────────┬──────────┐\n",
      "│ work_year ┆ experienc ┆ employmen ┆ job_title ┆ … ┆ employee_ ┆ remote_ra ┆ company_l ┆ company_ │\n",
      "│ ---       ┆ e_level   ┆ t_type    ┆ ---       ┆   ┆ residence ┆ tio       ┆ ocation   ┆ size     │\n",
      "│ i64       ┆ ---       ┆ ---       ┆ str       ┆   ┆ ---       ┆ ---       ┆ ---       ┆ ---      │\n",
      "│           ┆ str       ┆ str       ┆           ┆   ┆ str       ┆ i64       ┆ str       ┆ str      │\n",
      "╞═══════════╪═══════════╪═══════════╪═══════════╪═══╪═══════════╪═══════════╪═══════════╪══════════╡\n",
      "│ 2025      ┆ MI        ┆ FT        ┆ Research  ┆ … ┆ US        ┆ 0         ┆ US        ┆ M        │\n",
      "│           ┆           ┆           ┆ Scientist ┆   ┆           ┆           ┆           ┆          │\n",
      "│ 2025      ┆ MI        ┆ FT        ┆ Research  ┆ … ┆ US        ┆ 0         ┆ US        ┆ M        │\n",
      "│           ┆           ┆           ┆ Scientist ┆   ┆           ┆           ┆           ┆          │\n",
      "│ 2025      ┆ SE        ┆ FT        ┆ Research  ┆ … ┆ US        ┆ 0         ┆ US        ┆ M        │\n",
      "│           ┆           ┆           ┆ Scientist ┆   ┆           ┆           ┆           ┆          │\n",
      "│ 2025      ┆ SE        ┆ FT        ┆ Research  ┆ … ┆ US        ┆ 0         ┆ US        ┆ M        │\n",
      "│           ┆           ┆           ┆ Scientist ┆   ┆           ┆           ┆           ┆          │\n",
      "│ 2025      ┆ MI        ┆ FT        ┆ AI        ┆ … ┆ US        ┆ 100       ┆ US        ┆ M        │\n",
      "│           ┆           ┆           ┆ Engineer  ┆   ┆           ┆           ┆           ┆          │\n",
      "└───────────┴───────────┴───────────┴───────────┴───┴───────────┴───────────┴───────────┴──────────┘\n",
      "\n",
      "'custom' usage of `head` method:\n",
      "shape: (10, 11)\n",
      "┌───────────┬───────────┬───────────┬───────────┬───┬───────────┬───────────┬───────────┬──────────┐\n",
      "│ work_year ┆ experienc ┆ employmen ┆ job_title ┆ … ┆ employee_ ┆ remote_ra ┆ company_l ┆ company_ │\n",
      "│ ---       ┆ e_level   ┆ t_type    ┆ ---       ┆   ┆ residence ┆ tio       ┆ ocation   ┆ size     │\n",
      "│ i64       ┆ ---       ┆ ---       ┆ str       ┆   ┆ ---       ┆ ---       ┆ ---       ┆ ---      │\n",
      "│           ┆ str       ┆ str       ┆           ┆   ┆ str       ┆ i64       ┆ str       ┆ str      │\n",
      "╞═══════════╪═══════════╪═══════════╪═══════════╪═══╪═══════════╪═══════════╪═══════════╪══════════╡\n",
      "│ 2025      ┆ MI        ┆ FT        ┆ Research  ┆ … ┆ US        ┆ 0         ┆ US        ┆ M        │\n",
      "│           ┆           ┆           ┆ Scientist ┆   ┆           ┆           ┆           ┆          │\n",
      "│ 2025      ┆ MI        ┆ FT        ┆ Research  ┆ … ┆ US        ┆ 0         ┆ US        ┆ M        │\n",
      "│           ┆           ┆           ┆ Scientist ┆   ┆           ┆           ┆           ┆          │\n",
      "│ 2025      ┆ SE        ┆ FT        ┆ Research  ┆ … ┆ US        ┆ 0         ┆ US        ┆ M        │\n",
      "│           ┆           ┆           ┆ Scientist ┆   ┆           ┆           ┆           ┆          │\n",
      "│ 2025      ┆ SE        ┆ FT        ┆ Research  ┆ … ┆ US        ┆ 0         ┆ US        ┆ M        │\n",
      "│           ┆           ┆           ┆ Scientist ┆   ┆           ┆           ┆           ┆          │\n",
      "│ 2025      ┆ MI        ┆ FT        ┆ AI        ┆ … ┆ US        ┆ 100       ┆ US        ┆ M        │\n",
      "│           ┆           ┆           ┆ Engineer  ┆   ┆           ┆           ┆           ┆          │\n",
      "│ 2025      ┆ MI        ┆ FT        ┆ AI        ┆ … ┆ US        ┆ 100       ┆ US        ┆ M        │\n",
      "│           ┆           ┆           ┆ Engineer  ┆   ┆           ┆           ┆           ┆          │\n",
      "│ 2025      ┆ SE        ┆ FT        ┆ AI        ┆ … ┆ US        ┆ 0         ┆ US        ┆ M        │\n",
      "│           ┆           ┆           ┆ Engineer  ┆   ┆           ┆           ┆           ┆          │\n",
      "│ 2025      ┆ SE        ┆ FT        ┆ AI        ┆ … ┆ US        ┆ 0         ┆ US        ┆ M        │\n",
      "│           ┆           ┆           ┆ Engineer  ┆   ┆           ┆           ┆           ┆          │\n",
      "│ 2025      ┆ SE        ┆ FT        ┆ Manager   ┆ … ┆ US        ┆ 0         ┆ US        ┆ M        │\n",
      "│ 2025      ┆ SE        ┆ FT        ┆ Manager   ┆ … ┆ US        ┆ 0         ┆ US        ┆ M        │\n",
      "└───────────┴───────────┴───────────┴───────────┴───┴───────────┴───────────┴───────────┴──────────┘\n",
      "\n"
     ]
    }
   ],
   "source": [
    "print(f\"'default' usage of `head` method:\\n{df_salary.head()}\\n\")\n",
    "\n",
    "print(f\"'custom' usage of `head` method:\\n{df_salary.head(10)}\\n\")"
   ]
  },
  {
   "cell_type": "markdown",
   "id": "9d8470c9",
   "metadata": {},
   "source": [
    "- #### `tail`\n",
    "\n",
    "    The function `tail` shows the last 5 rows of a `DataFrame`, by default and is similar to `head`. The default value can be over-ridden by specifying the desired number of rows."
   ]
  },
  {
   "cell_type": "code",
   "execution_count": 7,
   "id": "0148ea95",
   "metadata": {},
   "outputs": [
    {
     "name": "stdout",
     "output_type": "stream",
     "text": [
      "'default' usage of `tail` method:\n",
      "shape: (5, 11)\n",
      "┌───────────┬───────────┬───────────┬───────────┬───┬───────────┬───────────┬───────────┬──────────┐\n",
      "│ work_year ┆ experienc ┆ employmen ┆ job_title ┆ … ┆ employee_ ┆ remote_ra ┆ company_l ┆ company_ │\n",
      "│ ---       ┆ e_level   ┆ t_type    ┆ ---       ┆   ┆ residence ┆ tio       ┆ ocation   ┆ size     │\n",
      "│ i64       ┆ ---       ┆ ---       ┆ str       ┆   ┆ ---       ┆ ---       ┆ ---       ┆ ---      │\n",
      "│           ┆ str       ┆ str       ┆           ┆   ┆ str       ┆ i64       ┆ str       ┆ str      │\n",
      "╞═══════════╪═══════════╪═══════════╪═══════════╪═══╪═══════════╪═══════════╪═══════════╪══════════╡\n",
      "│ 2020      ┆ SE        ┆ FT        ┆ Data      ┆ … ┆ US        ┆ 100       ┆ US        ┆ L        │\n",
      "│           ┆           ┆           ┆ Scientist ┆   ┆           ┆           ┆           ┆          │\n",
      "│ 2021      ┆ MI        ┆ FT        ┆ Principal ┆ … ┆ US        ┆ 100       ┆ US        ┆ L        │\n",
      "│           ┆           ┆           ┆ Data      ┆   ┆           ┆           ┆           ┆          │\n",
      "│           ┆           ┆           ┆ Scientist ┆   ┆           ┆           ┆           ┆          │\n",
      "│ 2020      ┆ EN        ┆ FT        ┆ Data      ┆ … ┆ US        ┆ 100       ┆ US        ┆ S        │\n",
      "│           ┆           ┆           ┆ Scientist ┆   ┆           ┆           ┆           ┆          │\n",
      "│ 2020      ┆ EN        ┆ CT        ┆ Business  ┆ … ┆ US        ┆ 100       ┆ US        ┆ L        │\n",
      "│           ┆           ┆           ┆ Data      ┆   ┆           ┆           ┆           ┆          │\n",
      "│           ┆           ┆           ┆ Analyst   ┆   ┆           ┆           ┆           ┆          │\n",
      "│ 2021      ┆ SE        ┆ FT        ┆ Data      ┆ … ┆ IN        ┆ 50        ┆ IN        ┆ L        │\n",
      "│           ┆           ┆           ┆ Scientist ┆   ┆           ┆           ┆           ┆          │\n",
      "└───────────┴───────────┴───────────┴───────────┴───┴───────────┴───────────┴───────────┴──────────┘\n",
      "\n",
      "'custom' usage of `tail` method:\n",
      "shape: (10, 11)\n",
      "┌───────────┬───────────┬───────────┬───────────┬───┬───────────┬───────────┬───────────┬──────────┐\n",
      "│ work_year ┆ experienc ┆ employmen ┆ job_title ┆ … ┆ employee_ ┆ remote_ra ┆ company_l ┆ company_ │\n",
      "│ ---       ┆ e_level   ┆ t_type    ┆ ---       ┆   ┆ residence ┆ tio       ┆ ocation   ┆ size     │\n",
      "│ i64       ┆ ---       ┆ ---       ┆ str       ┆   ┆ ---       ┆ ---       ┆ ---       ┆ ---      │\n",
      "│           ┆ str       ┆ str       ┆           ┆   ┆ str       ┆ i64       ┆ str       ┆ str      │\n",
      "╞═══════════╪═══════════╪═══════════╪═══════════╪═══╪═══════════╪═══════════╪═══════════╪══════════╡\n",
      "│ 2021      ┆ SE        ┆ FT        ┆ Data      ┆ … ┆ JP        ┆ 0         ┆ JP        ┆ S        │\n",
      "│           ┆           ┆           ┆ Scientist ┆   ┆           ┆           ┆           ┆          │\n",
      "│ 2021      ┆ MI        ┆ FT        ┆ Data      ┆ … ┆ SG        ┆ 100       ┆ IL        ┆ M        │\n",
      "│           ┆           ┆           ┆ Scientist ┆   ┆           ┆           ┆           ┆          │\n",
      "│ 2021      ┆ MI        ┆ FT        ┆ Applied   ┆ … ┆ US        ┆ 50        ┆ US        ┆ L        │\n",
      "│           ┆           ┆           ┆ Machine   ┆   ┆           ┆           ┆           ┆          │\n",
      "│           ┆           ┆           ┆ Learning  ┆   ┆           ┆           ┆           ┆          │\n",
      "│           ┆           ┆           ┆ Scien…    ┆   ┆           ┆           ┆           ┆          │\n",
      "│ 2021      ┆ MI        ┆ FT        ┆ Data      ┆ … ┆ MT        ┆ 50        ┆ MT        ┆ L        │\n",
      "│           ┆           ┆           ┆ Engineer  ┆   ┆           ┆           ┆           ┆          │\n",
      "│ 2021      ┆ SE        ┆ FT        ┆ Data Spec ┆ … ┆ US        ┆ 100       ┆ US        ┆ L        │\n",
      "│           ┆           ┆           ┆ ialist    ┆   ┆           ┆           ┆           ┆          │\n",
      "│ 2020      ┆ SE        ┆ FT        ┆ Data      ┆ … ┆ US        ┆ 100       ┆ US        ┆ L        │\n",
      "│           ┆           ┆           ┆ Scientist ┆   ┆           ┆           ┆           ┆          │\n",
      "│ 2021      ┆ MI        ┆ FT        ┆ Principal ┆ … ┆ US        ┆ 100       ┆ US        ┆ L        │\n",
      "│           ┆           ┆           ┆ Data      ┆   ┆           ┆           ┆           ┆          │\n",
      "│           ┆           ┆           ┆ Scientist ┆   ┆           ┆           ┆           ┆          │\n",
      "│ 2020      ┆ EN        ┆ FT        ┆ Data      ┆ … ┆ US        ┆ 100       ┆ US        ┆ S        │\n",
      "│           ┆           ┆           ┆ Scientist ┆   ┆           ┆           ┆           ┆          │\n",
      "│ 2020      ┆ EN        ┆ CT        ┆ Business  ┆ … ┆ US        ┆ 100       ┆ US        ┆ L        │\n",
      "│           ┆           ┆           ┆ Data      ┆   ┆           ┆           ┆           ┆          │\n",
      "│           ┆           ┆           ┆ Analyst   ┆   ┆           ┆           ┆           ┆          │\n",
      "│ 2021      ┆ SE        ┆ FT        ┆ Data      ┆ … ┆ IN        ┆ 50        ┆ IN        ┆ L        │\n",
      "│           ┆           ┆           ┆ Scientist ┆   ┆           ┆           ┆           ┆          │\n",
      "└───────────┴───────────┴───────────┴───────────┴───┴───────────┴───────────┴───────────┴──────────┘\n",
      "\n"
     ]
    }
   ],
   "source": [
    "print(f\"'default' usage of `tail` method:\\n{df_salary.tail()}\\n\")\n",
    "\n",
    "print(f\"'custom' usage of `tail` method:\\n{df_salary.tail(10)}\\n\")"
   ]
  },
  {
   "cell_type": "markdown",
   "id": "03d47d3a",
   "metadata": {},
   "source": [
    "- #### `describe`\n",
    "\n",
    "    `describe` computes and displays the summary statistics for all columns of the `DataFrame`."
   ]
  },
  {
   "cell_type": "code",
   "execution_count": 8,
   "id": "9bcc3211",
   "metadata": {},
   "outputs": [
    {
     "name": "stdout",
     "output_type": "stream",
     "text": [
      "shape: (9, 12)\n",
      "┌───────────┬───────────┬───────────┬───────────┬───┬───────────┬───────────┬───────────┬──────────┐\n",
      "│ statistic ┆ work_year ┆ experienc ┆ employmen ┆ … ┆ employee_ ┆ remote_ra ┆ company_l ┆ company_ │\n",
      "│ ---       ┆ ---       ┆ e_level   ┆ t_type    ┆   ┆ residence ┆ tio       ┆ ocation   ┆ size     │\n",
      "│ str       ┆ f64       ┆ ---       ┆ ---       ┆   ┆ ---       ┆ ---       ┆ ---       ┆ ---      │\n",
      "│           ┆           ┆ str       ┆ str       ┆   ┆ str       ┆ f64       ┆ str       ┆ str      │\n",
      "╞═══════════╪═══════════╪═══════════╪═══════════╪═══╪═══════════╪═══════════╪═══════════╪══════════╡\n",
      "│ count     ┆ 93597.0   ┆ 93597     ┆ 93597     ┆ … ┆ 93597     ┆ 93597.0   ┆ 93597     ┆ 93597    │\n",
      "│ null_coun ┆ 0.0       ┆ 0         ┆ 0         ┆ … ┆ 0         ┆ 0.0       ┆ 0         ┆ 0        │\n",
      "│ t         ┆           ┆           ┆           ┆   ┆           ┆           ┆           ┆          │\n",
      "│ mean      ┆ 2024.0864 ┆ null      ┆ null      ┆ … ┆ null      ┆ 21.455816 ┆ null      ┆ null     │\n",
      "│           ┆ 34        ┆           ┆           ┆   ┆           ┆           ┆           ┆          │\n",
      "│ std       ┆ 0.641449  ┆ null      ┆ null      ┆ … ┆ null      ┆ 40.954704 ┆ null      ┆ null     │\n",
      "│ min       ┆ 2020.0    ┆ EN        ┆ CT        ┆ … ┆ AD        ┆ 0.0       ┆ AD        ┆ L        │\n",
      "│ 25%       ┆ 2024.0    ┆ null      ┆ null      ┆ … ┆ null      ┆ 0.0       ┆ null      ┆ null     │\n",
      "│ 50%       ┆ 2024.0    ┆ null      ┆ null      ┆ … ┆ null      ┆ 0.0       ┆ null      ┆ null     │\n",
      "│ 75%       ┆ 2024.0    ┆ null      ┆ null      ┆ … ┆ null      ┆ 0.0       ┆ null      ┆ null     │\n",
      "│ max       ┆ 2025.0    ┆ SE        ┆ PT        ┆ … ┆ ZM        ┆ 100.0     ┆ ZM        ┆ S        │\n",
      "└───────────┴───────────┴───────────┴───────────┴───┴───────────┴───────────┴───────────┴──────────┘\n",
      "{'statistic': shape: (9,)\n",
      "Series: 'statistic' [str]\n",
      "[\n",
      "\t\"count\"\n",
      "\t\"null_count\"\n",
      "\t\"mean\"\n",
      "\t\"std\"\n",
      "\t\"min\"\n",
      "\t\"25%\"\n",
      "\t\"50%\"\n",
      "\t\"75%\"\n",
      "\t\"max\"\n",
      "], 'work_year': shape: (9,)\n",
      "Series: 'work_year' [f64]\n",
      "[\n",
      "\t93597.0\n",
      "\t0.0\n",
      "\t2024.086434\n",
      "\t0.641449\n",
      "\t2020.0\n",
      "\t2024.0\n",
      "\t2024.0\n",
      "\t2024.0\n",
      "\t2025.0\n",
      "], 'experience_level': shape: (9,)\n",
      "Series: 'experience_level' [str]\n",
      "[\n",
      "\t\"93597\"\n",
      "\t\"0\"\n",
      "\tnull\n",
      "\tnull\n",
      "\t\"EN\"\n",
      "\tnull\n",
      "\tnull\n",
      "\tnull\n",
      "\t\"SE\"\n",
      "], 'employment_type': shape: (9,)\n",
      "Series: 'employment_type' [str]\n",
      "[\n",
      "\t\"93597\"\n",
      "\t\"0\"\n",
      "\tnull\n",
      "\tnull\n",
      "\t\"CT\"\n",
      "\tnull\n",
      "\tnull\n",
      "\tnull\n",
      "\t\"PT\"\n",
      "], 'job_title': shape: (9,)\n",
      "Series: 'job_title' [str]\n",
      "[\n",
      "\t\"93597\"\n",
      "\t\"0\"\n",
      "\tnull\n",
      "\tnull\n",
      "\t\"AI Architect\"\n",
      "\tnull\n",
      "\tnull\n",
      "\tnull\n",
      "\t\"Technology Integrator\"\n",
      "], 'salary': shape: (9,)\n",
      "Series: 'salary' [f64]\n",
      "[\n",
      "\t93597.0\n",
      "\t0.0\n",
      "\t162354.104661\n",
      "\t222142.544728\n",
      "\t14000.0\n",
      "\t106260.0\n",
      "\t147000.0\n",
      "\t199000.0\n",
      "\t3.04e7\n",
      "], 'salary_currency': shape: (9,)\n",
      "Series: 'salary_currency' [str]\n",
      "[\n",
      "\t\"93597\"\n",
      "\t\"0\"\n",
      "\tnull\n",
      "\tnull\n",
      "\t\"AUD\"\n",
      "\tnull\n",
      "\tnull\n",
      "\tnull\n",
      "\t\"ZAR\"\n",
      "], 'salary_in_usd': shape: (9,)\n",
      "Series: 'salary_in_usd' [f64]\n",
      "[\n",
      "\t93597.0\n",
      "\t0.0\n",
      "\t157547.696774\n",
      "\t73649.113729\n",
      "\t15000.0\n",
      "\t106250.0\n",
      "\t146232.0\n",
      "\t198000.0\n",
      "\t800000.0\n",
      "], 'employee_residence': shape: (9,)\n",
      "Series: 'employee_residence' [str]\n",
      "[\n",
      "\t\"93597\"\n",
      "\t\"0\"\n",
      "\tnull\n",
      "\tnull\n",
      "\t\"AD\"\n",
      "\tnull\n",
      "\tnull\n",
      "\tnull\n",
      "\t\"ZM\"\n",
      "], 'remote_ratio': shape: (9,)\n",
      "Series: 'remote_ratio' [f64]\n",
      "[\n",
      "\t93597.0\n",
      "\t0.0\n",
      "\t21.455816\n",
      "\t40.954704\n",
      "\t0.0\n",
      "\t0.0\n",
      "\t0.0\n",
      "\t0.0\n",
      "\t100.0\n",
      "], 'company_location': shape: (9,)\n",
      "Series: 'company_location' [str]\n",
      "[\n",
      "\t\"93597\"\n",
      "\t\"0\"\n",
      "\tnull\n",
      "\tnull\n",
      "\t\"AD\"\n",
      "\tnull\n",
      "\tnull\n",
      "\tnull\n",
      "\t\"ZM\"\n",
      "], 'company_size': shape: (9,)\n",
      "Series: 'company_size' [str]\n",
      "[\n",
      "\t\"93597\"\n",
      "\t\"0\"\n",
      "\tnull\n",
      "\tnull\n",
      "\t\"L\"\n",
      "\tnull\n",
      "\tnull\n",
      "\tnull\n",
      "\t\"S\"\n",
      "]}\n"
     ]
    }
   ],
   "source": [
    "print(df_salary.describe())\n",
    "\n",
    "print(df_salary.describe().to_dict())"
   ]
  },
  {
   "cell_type": "markdown",
   "id": "1d4673b7",
   "metadata": {},
   "source": [
    "- #### `glimpse`\n",
    "\n",
    "    The function `glimpse` is another function that shows the values of the first few rows of a `DataFrame`, but formats the output differently from `head`. Each line of the output corresponds to a single column, making it easier to take inspect wider dataframes."
   ]
  },
  {
   "cell_type": "code",
   "execution_count": 9,
   "id": "c1e17cef",
   "metadata": {},
   "outputs": [
    {
     "name": "stdout",
     "output_type": "stream",
     "text": [
      "Rows: 93597\n",
      "Columns: 11\n",
      "$ work_year          <i64> 2025, 2025, 2025, 2025, 2025\n",
      "$ experience_level   <str> 'MI', 'MI', 'SE', 'SE', 'MI'\n",
      "$ employment_type    <str> 'FT', 'FT', 'FT', 'FT', 'FT'\n",
      "$ job_title          <str> 'Research Scientist', 'Research Scientist', 'Research Scientist', 'Research Scientist', 'AI Engineer'\n",
      "$ salary             <i64> 208000, 147000, 173000, 117000, 100000\n",
      "$ salary_currency    <str> 'USD', 'USD', 'USD', 'USD', 'USD'\n",
      "$ salary_in_usd      <i64> 208000, 147000, 173000, 117000, 100000\n",
      "$ employee_residence <str> 'US', 'US', 'US', 'US', 'US'\n",
      "$ remote_ratio       <i64> 0, 0, 0, 0, 100\n",
      "$ company_location   <str> 'US', 'US', 'US', 'US', 'US'\n",
      "$ company_size       <str> 'M', 'M', 'M', 'M', 'M'\n",
      "\n"
     ]
    }
   ],
   "source": [
    "print(df_salary.glimpse(max_items_per_column=5, return_as_string=True))"
   ]
  },
  {
   "cell_type": "markdown",
   "id": "fff4dfa1",
   "metadata": {},
   "source": [
    "- #### `sample`\n",
    "\n",
    "    The `sample` function retrieves an arbitrary number of randomly selected rows from the `DataFrame`. \n",
    "    \n",
    "    _N.B.: The rows are not necessarily returned in the same order as they appear in the `DataFrame`._\n"
   ]
  },
  {
   "cell_type": "code",
   "execution_count": 10,
   "id": "5028f199",
   "metadata": {},
   "outputs": [
    {
     "name": "stdout",
     "output_type": "stream",
     "text": [
      "shape: (5, 11)\n",
      "┌───────────┬───────────┬───────────┬───────────┬───┬───────────┬───────────┬───────────┬──────────┐\n",
      "│ work_year ┆ experienc ┆ employmen ┆ job_title ┆ … ┆ employee_ ┆ remote_ra ┆ company_l ┆ company_ │\n",
      "│ ---       ┆ e_level   ┆ t_type    ┆ ---       ┆   ┆ residence ┆ tio       ┆ ocation   ┆ size     │\n",
      "│ i64       ┆ ---       ┆ ---       ┆ str       ┆   ┆ ---       ┆ ---       ┆ ---       ┆ ---      │\n",
      "│           ┆ str       ┆ str       ┆           ┆   ┆ str       ┆ i64       ┆ str       ┆ str      │\n",
      "╞═══════════╪═══════════╪═══════════╪═══════════╪═══╪═══════════╪═══════════╪═══════════╪══════════╡\n",
      "│ 2025      ┆ MI        ┆ FT        ┆ Power BI  ┆ … ┆ US        ┆ 100       ┆ US        ┆ M        │\n",
      "│           ┆           ┆           ┆ Developer ┆   ┆           ┆           ┆           ┆          │\n",
      "│ 2025      ┆ MI        ┆ FT        ┆ Associate ┆ … ┆ US        ┆ 100       ┆ US        ┆ M        │\n",
      "│ 2025      ┆ SE        ┆ FT        ┆ Machine   ┆ … ┆ US        ┆ 0         ┆ US        ┆ M        │\n",
      "│           ┆           ┆           ┆ Learning  ┆   ┆           ┆           ┆           ┆          │\n",
      "│           ┆           ┆           ┆ Engineer  ┆   ┆           ┆           ┆           ┆          │\n",
      "│ 2024      ┆ EN        ┆ FT        ┆ Data      ┆ … ┆ US        ┆ 0         ┆ US        ┆ M        │\n",
      "│           ┆           ┆           ┆ Analyst   ┆   ┆           ┆           ┆           ┆          │\n",
      "│ 2024      ┆ SE        ┆ FT        ┆ Data      ┆ … ┆ US        ┆ 0         ┆ US        ┆ M        │\n",
      "│           ┆           ┆           ┆ Engineer  ┆   ┆           ┆           ┆           ┆          │\n",
      "└───────────┴───────────┴───────────┴───────────┴───┴───────────┴───────────┴───────────┴──────────┘\n"
     ]
    }
   ],
   "source": [
    "print(df_salary.sample(n=5, with_replacement=False, seed=14))"
   ]
  },
  {
   "cell_type": "markdown",
   "id": "b98153a1",
   "metadata": {},
   "source": [
    "- #### `schema`\n",
    "\n",
    "    For `DataFrame`, the `schema` is a mapping of column or series names to the data types of those same columns or series.\n",
    "\n",
    "    Much like with series, Polars will infer the schema of a `DataFrame` when it is created. But, it can be used to override the inference system if needed.\n",
    "    \n",
    "    In Python, an explicit schema can be specified by using a dictionary to map column names to data types. The value `None` is used, if you do not wish to override inference for a given column.\n",
    "\n",
    "    ```python\n",
    "    df = pl.DataFrame(\n",
    "        data={\n",
    "            \"name\": [\"Alice\", \"Ben\", \"Chloe\", \"Daniel\"],\n",
    "            \"age\": [27, 39, 41, 43],\n",
    "            },\n",
    "        schema={\"name\": None, \"age\": pl.Int8},\n",
    "    )\n",
    "    print(df)\n",
    "    ```\n",
    "\n",
    "    The parameter `schema_overrides` tends to be more convenient, when only some/certain columns need to override the inference. It doesn't override the inference for the columns that have been excluded.\n",
    "\n",
    "    ```python\n",
    "    df = pl.DataFrame(\n",
    "        data={\n",
    "            \"name\": [\"Alice\", \"Ben\", \"Chloe\", \"Daniel\"],\n",
    "            \"age\": [27, 39, 41, 43],\n",
    "            },\n",
    "        schema_overrides={\"age\": pl.UInt8},\n",
    "    )\n",
    "    print(df)\n",
    "    ```"
   ]
  },
  {
   "cell_type": "code",
   "execution_count": 11,
   "id": "88343ad5",
   "metadata": {},
   "outputs": [
    {
     "name": "stdout",
     "output_type": "stream",
     "text": [
      "Schema([('work_year', Int64), ('experience_level', String), ('employment_type', String), ('job_title', String), ('salary', Int64), ('salary_currency', String), ('salary_in_usd', Int64), ('employee_residence', String), ('remote_ratio', Int64), ('company_location', String), ('company_size', String)])\n"
     ]
    }
   ],
   "source": [
    "print(df_salary.schema)"
   ]
  },
  {
   "cell_type": "code",
   "execution_count": 22,
   "id": "aee78583",
   "metadata": {},
   "outputs": [
    {
     "name": "stdout",
     "output_type": "stream",
     "text": [
      "New schema defination: \n",
      "{'experience_level': Categorical, 'employment_type': Categorical, 'job_title': Categorical, 'salary_currency': Categorical, 'employee_residence': Categorical, 'company_location': Categorical, 'company_size': Categorical, 'work_year': Int16, 'salary_in_usd': Float32, 'remote_ratio': UInt8}\n",
      "\n",
      "`schema` of the `DataFrame` after applying the new schema defination: \n",
      "Schema([('work_year', Int16), ('experience_level', Categorical(ordering='physical')), ('employment_type', Categorical(ordering='physical')), ('job_title', Categorical(ordering='physical')), ('salary', Int64), ('salary_currency', Categorical(ordering='physical')), ('salary_in_usd', Float32), ('employee_residence', Categorical(ordering='physical')), ('remote_ratio', UInt8), ('company_location', Categorical(ordering='physical')), ('company_size', Categorical(ordering='physical'))])\n",
      "\n"
     ]
    }
   ],
   "source": [
    "# Define the numeirc and categorical columns.\n",
    "cols_numeric = ['work_year', 'salary', 'salary_in_usd', 'remote_ratio',]\n",
    "cols_categorical = ['experience_level', 'employment_type', 'job_title', 'salary_currency', 'employee_residence', 'company_location', 'company_size']\n",
    "\n",
    "# Define the new schema for the `DataFrame`.\n",
    "schema_new = {col: pl.Categorical for col in cols_categorical}\n",
    "schema_new.update({\n",
    "    'work_year': pl.Int16,\n",
    "    'salary_in_usd': pl.Float32,\n",
    "    'remote_ratio': pl.UInt8,\n",
    "    }\n",
    ")\n",
    "print(f\"New schema defination: \\n{schema_new}\\n\")\n",
    "\n",
    "# Apply the new schema to the DataFrame.\n",
    "df_salary = df_salary.with_columns(\n",
    "    [pl.col(col_name).cast(data_type) for col_name, data_type in schema_new.items()]\n",
    ")\n",
    "print(f\"`schema` of the `DataFrame` after applying the new schema defination: \\n{df_salary.schema}\\n\")"
   ]
  },
  {
   "cell_type": "markdown",
   "id": "6f56cfda",
   "metadata": {},
   "source": [
    "### [Expressions and contexts](https://docs.pola.rs/user-guide/concepts/expressions-and-contexts/)\n",
    "\n",
    "Polars has developed its own `Domain Specific Language` (DSL) for transforming data. The language is very easy to use and allows for complex queries that remain human readable. Expressions and contexts are very important in achieving this readability while also allowing the Polars query engine to optimize your queries to make them run as fast as possible.\n",
    "\n",
    "- #### Expressions\n",
    "\n",
    "    In Polars, an `expression` is a lazy representation of a data transformation. Expressions are modular and flexible. Hence, they can be used as building blocks to build more complex expressions.\n",
    "\n",
    "    ```python\n",
    "    pl.col(\"weight\") / (pl.col(\"height\") ** 2)\n",
    "    ```\n",
    "\n",
    "    The code above expresses an abstract computation. This can be saved in a variable, to manipulate further or just print.\n",
    "\n",
    "    ```python\n",
    "    bmi_expr = pl.col(\"weight\") / (pl.col(\"height\") ** 2)\n",
    "    print(bmi_expr)\n",
    "\n",
    "    # [(col(\"weight\")) / (col(\"height\").pow([dyn int: 2]))]\n",
    "    ```\n",
    "\n",
    "    Since expressions are lazy, no computations have taken place yet. That's why `contexts` are needed."
   ]
  },
  {
   "cell_type": "code",
   "execution_count": 26,
   "id": "11c3715a",
   "metadata": {},
   "outputs": [
    {
     "name": "stdout",
     "output_type": "stream",
     "text": [
      "Expression for `salary_in_euro`: \n",
      "[(col(\"salary_in_usd\")) * (dyn float: 0.91)]\n",
      "\n",
      "Expression for `salary_in_euro` with `alias`: \n",
      "[(col(\"salary_in_usd\")) * (dyn float: 0.91)].alias(\"salary_in_euro\")\n",
      "\n"
     ]
    }
   ],
   "source": [
    "expr_salary_in_euro = pl.col('salary_in_usd') * 0.91\n",
    "\n",
    "print(f\"Expression for `salary_in_euro`: \\n{expr_salary_in_euro}\\n\")\n",
    "print(f\"Expression for `salary_in_euro` with `alias`: \\n{expr_salary_in_euro.alias('salary_in_euro')}\\n\")"
   ]
  },
  {
   "cell_type": "markdown",
   "id": "291864a9",
   "metadata": {},
   "source": [
    "- #### Contexts\n",
    "\n",
    "    Polars expressions need a context in which they are executed to produce a result. Depending on the context it is used in, the same Polars expression can produce different results. The four most common contexts that Polars provides are as follows:\n",
    "\n",
    "    - `select`\n",
    "\n",
    "        The selection context `select` applies expressions over columns. The context `select` may produce new columns that are aggregations, combinations of other columns, or literals.\n",
    "\n",
    "        The expressions in a context `select` must produce series that are all the same length or they must produce a scalar. Scalars will be broadcast to match the length of the remaining series.\n",
    "\n",
    "        Note that broadcasting can also occur within expressions.\n",
    "\n",
    "        The context `select` is very flexible and powerful and allows you to evaluate arbitrary expressions independent of, and in parallel to, each other."
   ]
  },
  {
   "cell_type": "code",
   "execution_count": 46,
   "id": "46044754",
   "metadata": {},
   "outputs": [
    {
     "name": "stdout",
     "output_type": "stream",
     "text": [
      "Shape of `df_salary`: (93597, 11)\n",
      "\n",
      "Shape of `df_select`: (93597, 7)\n",
      "\n",
      "shape: (5, 7)\n",
      "┌───────────┬──────────────┬──────────────┬──────────────┬─────────────┬─────────────┬─────────────┐\n",
      "│ work_year ┆ salary_in_us ┆ remote_ratio ┆ salary_in_eu ┆ mean_salary ┆ stddev_sala ┆ cv_salary_i │\n",
      "│ ---       ┆ d            ┆ ---          ┆ ro           ┆ _in_euro    ┆ ry_in_euro  ┆ n_euro      │\n",
      "│ i16       ┆ ---          ┆ u8           ┆ ---          ┆ ---         ┆ ---         ┆ ---         │\n",
      "│           ┆ f32          ┆              ┆ f32          ┆ f32         ┆ f32         ┆ f32         │\n",
      "╞═══════════╪══════════════╪══════════════╪══════════════╪═════════════╪═════════════╪═════════════╡\n",
      "│ 2025      ┆ 208000.0     ┆ 0            ┆ 189280.0     ┆ 143368.4062 ┆ 67020.69531 ┆ 0.467472    │\n",
      "│           ┆              ┆              ┆              ┆ 5           ┆ 2           ┆             │\n",
      "│ 2025      ┆ 147000.0     ┆ 0            ┆ 133770.0     ┆ 143368.4062 ┆ 67020.69531 ┆ 0.467472    │\n",
      "│           ┆              ┆              ┆              ┆ 5           ┆ 2           ┆             │\n",
      "│ 2025      ┆ 173000.0     ┆ 0            ┆ 157430.0     ┆ 143368.4062 ┆ 67020.69531 ┆ 0.467472    │\n",
      "│           ┆              ┆              ┆              ┆ 5           ┆ 2           ┆             │\n",
      "│ 2025      ┆ 117000.0     ┆ 0            ┆ 106470.0     ┆ 143368.4062 ┆ 67020.69531 ┆ 0.467472    │\n",
      "│           ┆              ┆              ┆              ┆ 5           ┆ 2           ┆             │\n",
      "│ 2025      ┆ 100000.0     ┆ 100          ┆ 91000.0      ┆ 143368.4062 ┆ 67020.69531 ┆ 0.467472    │\n",
      "│           ┆              ┆              ┆              ┆ 5           ┆ 2           ┆             │\n",
      "└───────────┴──────────────┴──────────────┴──────────────┴─────────────┴─────────────┴─────────────┘\n"
     ]
    }
   ],
   "source": [
    "df_select = df_salary.select(\n",
    "    pl.col('work_year'),\n",
    "    pl.col('salary_in_usd'),\n",
    "    pl.col('remote_ratio'),\n",
    "    expr_salary_in_euro.alias('salary_in_euro'),\n",
    "    mean_salary_in_euro = expr_salary_in_euro.mean(),\n",
    "    stddev_salary_in_euro = expr_salary_in_euro.std(),\n",
    "    cv_salary_in_euro = expr_salary_in_euro.std() / expr_salary_in_euro.mean(),\n",
    ")\n",
    "print(f\"Shape of `df_salary`: {df_salary.shape}\\n\")\n",
    "print(f\"Shape of `df_select`: {df_select.shape}\\n\")\n",
    "print(df_select.head())\n",
    "\n",
    "# df_select = df_salary.select(\n",
    "#     [\n",
    "#         pl.col('work_year'),\n",
    "#         pl.col('salary_in_usd'),\n",
    "#     ]\n",
    "# )"
   ]
  },
  {
   "cell_type": "code",
   "execution_count": 45,
   "id": "8a40edce",
   "metadata": {},
   "outputs": [
    {
     "name": "stdout",
     "output_type": "stream",
     "text": [
      "Shape of `df_salary`: (93597, 11)\n",
      "\n",
      "Shape of `df_select`: (93597, 1)\n",
      "\n",
      "shape: (5, 1)\n",
      "┌────────────────┐\n",
      "│ salary_in_euro │\n",
      "│ ---            │\n",
      "│ f32            │\n",
      "╞════════════════╡\n",
      "│ 189280.0       │\n",
      "│ 133770.0       │\n",
      "│ 157430.0       │\n",
      "│ 106470.0       │\n",
      "│ 91000.0        │\n",
      "└────────────────┘\n"
     ]
    }
   ],
   "source": [
    "df_select = df_salary.select(\n",
    "    expr_salary_in_euro.alias('salary_in_euro'),\n",
    ")\n",
    "print(f\"Shape of `df_salary`: {df_salary.shape}\\n\")\n",
    "print(f\"Shape of `df_select`: {df_select.shape}\\n\")\n",
    "print(df_select.head())"
   ]
  },
  {
   "cell_type": "markdown",
   "id": "cd18c313",
   "metadata": {},
   "source": [
    "- #### Contexts (cont.)\n",
    "\n",
    "    - `with_columns`\n",
    "\n",
    "        The context `with_columns` is very similar to the context `select`. The main difference between the two is that the context `with_columns` creates a new dataframe that contains the columns from the original dataframe and the new columns according to its input expressions. Whereas the context `select` only includes the columns selected by its input expressions.\n",
    "\n",
    "        Because of this difference between `select` and `with_columns`, the expressions used in a context `with_columns` must produce series that have the same length as the original columns in the dataframe. Whereas it is enough for the expressions in the context `select` to produce series that have the same length among them."
   ]
  },
  {
   "cell_type": "code",
   "execution_count": 44,
   "id": "11788a28",
   "metadata": {},
   "outputs": [
    {
     "name": "stdout",
     "output_type": "stream",
     "text": [
      "Shape of `df_salary`: (93597, 11)\n",
      "\n",
      "Shape of `df_withcolumns`: (93597, 12)\n",
      "\n",
      "shape: (5, 12)\n",
      "┌───────────┬───────────┬───────────┬───────────┬───┬───────────┬───────────┬───────────┬──────────┐\n",
      "│ work_year ┆ experienc ┆ employmen ┆ job_title ┆ … ┆ remote_ra ┆ company_l ┆ company_s ┆ salary_i │\n",
      "│ ---       ┆ e_level   ┆ t_type    ┆ ---       ┆   ┆ tio       ┆ ocation   ┆ ize       ┆ n_euro   │\n",
      "│ i16       ┆ ---       ┆ ---       ┆ cat       ┆   ┆ ---       ┆ ---       ┆ ---       ┆ ---      │\n",
      "│           ┆ cat       ┆ cat       ┆           ┆   ┆ u8        ┆ cat       ┆ cat       ┆ f32      │\n",
      "╞═══════════╪═══════════╪═══════════╪═══════════╪═══╪═══════════╪═══════════╪═══════════╪══════════╡\n",
      "│ 2025      ┆ MI        ┆ FT        ┆ Research  ┆ … ┆ 0         ┆ US        ┆ M         ┆ 189280.0 │\n",
      "│           ┆           ┆           ┆ Scientist ┆   ┆           ┆           ┆           ┆          │\n",
      "│ 2025      ┆ MI        ┆ FT        ┆ Research  ┆ … ┆ 0         ┆ US        ┆ M         ┆ 133770.0 │\n",
      "│           ┆           ┆           ┆ Scientist ┆   ┆           ┆           ┆           ┆          │\n",
      "│ 2025      ┆ SE        ┆ FT        ┆ Research  ┆ … ┆ 0         ┆ US        ┆ M         ┆ 157430.0 │\n",
      "│           ┆           ┆           ┆ Scientist ┆   ┆           ┆           ┆           ┆          │\n",
      "│ 2025      ┆ SE        ┆ FT        ┆ Research  ┆ … ┆ 0         ┆ US        ┆ M         ┆ 106470.0 │\n",
      "│           ┆           ┆           ┆ Scientist ┆   ┆           ┆           ┆           ┆          │\n",
      "│ 2025      ┆ MI        ┆ FT        ┆ AI        ┆ … ┆ 100       ┆ US        ┆ M         ┆ 91000.0  │\n",
      "│           ┆           ┆           ┆ Engineer  ┆   ┆           ┆           ┆           ┆          │\n",
      "└───────────┴───────────┴───────────┴───────────┴───┴───────────┴───────────┴───────────┴──────────┘\n"
     ]
    }
   ],
   "source": [
    "df_withcolumns = df_salary.with_columns(\n",
    "    expr_salary_in_euro.alias('salary_in_euro'),\n",
    ")\n",
    "print(f\"Shape of `df_salary`: {df_salary.shape}\\n\")\n",
    "print(f\"Shape of `df_withcolumns`: {df_withcolumns.shape}\\n\")\n",
    "print(df_withcolumns.head())"
   ]
  },
  {
   "cell_type": "markdown",
   "id": "a729f9e0",
   "metadata": {},
   "source": [
    "- #### Contexts (cont.)\n",
    "\n",
    "    - `filter`\n",
    "\n",
    "        The context `filter` filters the rows of a dataframe based on one or more expressions that evaluate to the Boolean data type.\n"
   ]
  },
  {
   "cell_type": "code",
   "execution_count": null,
   "id": "d797a7ab",
   "metadata": {},
   "outputs": [
    {
     "name": "stdout",
     "output_type": "stream",
     "text": [
      "Shape of `df_salary` (before filtering): (93597, 11)\n",
      "\n",
      "Shape of `df_filter` (after filtering): (72337, 11)\n",
      "\n",
      "shape: (5, 11)\n",
      "┌───────────┬───────────┬───────────┬───────────┬───┬───────────┬───────────┬───────────┬──────────┐\n",
      "│ work_year ┆ experienc ┆ employmen ┆ job_title ┆ … ┆ employee_ ┆ remote_ra ┆ company_l ┆ company_ │\n",
      "│ ---       ┆ e_level   ┆ t_type    ┆ ---       ┆   ┆ residence ┆ tio       ┆ ocation   ┆ size     │\n",
      "│ i16       ┆ ---       ┆ ---       ┆ cat       ┆   ┆ ---       ┆ ---       ┆ ---       ┆ ---      │\n",
      "│           ┆ cat       ┆ cat       ┆           ┆   ┆ cat       ┆ u8        ┆ cat       ┆ cat      │\n",
      "╞═══════════╪═══════════╪═══════════╪═══════════╪═══╪═══════════╪═══════════╪═══════════╪══════════╡\n",
      "│ 2025      ┆ MI        ┆ FT        ┆ Research  ┆ … ┆ US        ┆ 0         ┆ US        ┆ M        │\n",
      "│           ┆           ┆           ┆ Scientist ┆   ┆           ┆           ┆           ┆          │\n",
      "│ 2025      ┆ MI        ┆ FT        ┆ Research  ┆ … ┆ US        ┆ 0         ┆ US        ┆ M        │\n",
      "│           ┆           ┆           ┆ Scientist ┆   ┆           ┆           ┆           ┆          │\n",
      "│ 2025      ┆ SE        ┆ FT        ┆ Research  ┆ … ┆ US        ┆ 0         ┆ US        ┆ M        │\n",
      "│           ┆           ┆           ┆ Scientist ┆   ┆           ┆           ┆           ┆          │\n",
      "│ 2025      ┆ SE        ┆ FT        ┆ Research  ┆ … ┆ US        ┆ 0         ┆ US        ┆ M        │\n",
      "│           ┆           ┆           ┆ Scientist ┆   ┆           ┆           ┆           ┆          │\n",
      "│ 2025      ┆ SE        ┆ FT        ┆ AI        ┆ … ┆ US        ┆ 0         ┆ US        ┆ M        │\n",
      "│           ┆           ┆           ┆ Engineer  ┆   ┆           ┆           ┆           ┆          │\n",
      "└───────────┴───────────┴───────────┴───────────┴───┴───────────┴───────────┴───────────┴──────────┘\n"
     ]
    }
   ],
   "source": [
    "df_filter = df_salary.filter(\n",
    "    (pl.col('work_year') > 2020) & (pl.col('salary_in_usd') > 100000)\n",
    ")\n",
    "# df_filter = df_salary.filter(\n",
    "#     (pl.col('work_year') > 2020),\n",
    "#     (pl.col('salary_in_usd') > 100000)\n",
    "# )\n",
    "print(f\"Shape of `df_salary` (before filtering): {df_salary.shape}\\n\")\n",
    "print(f\"Shape of `df_filter` (after filtering): {df_filter.shape}\\n\")\n",
    "print(df_filter.head())"
   ]
  },
  {
   "cell_type": "code",
   "execution_count": 47,
   "id": "40333c6f",
   "metadata": {},
   "outputs": [
    {
     "name": "stdout",
     "output_type": "stream",
     "text": [
      "Shape of `df_salary` (before filtering): (93597, 11)\n",
      "\n",
      "Shape of `df_filter` (after filtering): (72337, 11)\n",
      "\n",
      "shape: (5, 11)\n",
      "┌───────────┬───────────┬───────────┬───────────┬───┬───────────┬───────────┬───────────┬──────────┐\n",
      "│ work_year ┆ experienc ┆ employmen ┆ job_title ┆ … ┆ employee_ ┆ remote_ra ┆ company_l ┆ company_ │\n",
      "│ ---       ┆ e_level   ┆ t_type    ┆ ---       ┆   ┆ residence ┆ tio       ┆ ocation   ┆ size     │\n",
      "│ i16       ┆ ---       ┆ ---       ┆ cat       ┆   ┆ ---       ┆ ---       ┆ ---       ┆ ---      │\n",
      "│           ┆ cat       ┆ cat       ┆           ┆   ┆ cat       ┆ u8        ┆ cat       ┆ cat      │\n",
      "╞═══════════╪═══════════╪═══════════╪═══════════╪═══╪═══════════╪═══════════╪═══════════╪══════════╡\n",
      "│ 2025      ┆ MI        ┆ FT        ┆ Research  ┆ … ┆ US        ┆ 0         ┆ US        ┆ M        │\n",
      "│           ┆           ┆           ┆ Scientist ┆   ┆           ┆           ┆           ┆          │\n",
      "│ 2025      ┆ MI        ┆ FT        ┆ Research  ┆ … ┆ US        ┆ 0         ┆ US        ┆ M        │\n",
      "│           ┆           ┆           ┆ Scientist ┆   ┆           ┆           ┆           ┆          │\n",
      "│ 2025      ┆ SE        ┆ FT        ┆ Research  ┆ … ┆ US        ┆ 0         ┆ US        ┆ M        │\n",
      "│           ┆           ┆           ┆ Scientist ┆   ┆           ┆           ┆           ┆          │\n",
      "│ 2025      ┆ SE        ┆ FT        ┆ Research  ┆ … ┆ US        ┆ 0         ┆ US        ┆ M        │\n",
      "│           ┆           ┆           ┆ Scientist ┆   ┆           ┆           ┆           ┆          │\n",
      "│ 2025      ┆ SE        ┆ FT        ┆ AI        ┆ … ┆ US        ┆ 0         ┆ US        ┆ M        │\n",
      "│           ┆           ┆           ┆ Engineer  ┆   ┆           ┆           ┆           ┆          │\n",
      "└───────────┴───────────┴───────────┴───────────┴───┴───────────┴───────────┴───────────┴──────────┘\n"
     ]
    }
   ],
   "source": [
    "df_filter = df_salary.filter(\n",
    "    (pl.col('work_year') > 2020),\n",
    "    (pl.col('salary_in_usd') > 100000)\n",
    ")\n",
    "print(f\"Shape of `df_salary` (before filtering): {df_salary.shape}\\n\")\n",
    "print(f\"Shape of `df_filter` (after filtering): {df_filter.shape}\\n\")\n",
    "print(df_filter.head())"
   ]
  },
  {
   "cell_type": "markdown",
   "id": "cc25b233",
   "metadata": {},
   "source": [
    "- #### Contexts (cont.)\n",
    "\n",
    "    - `group_by` and `agg` (aggregations)\n",
    "\n",
    "        In the context `group_by`, rows are grouped according to the unique values of the grouping expressions. You can then apply expressions to the resulting groups, which may be of variable lengths. An expression can be used to compute the groupings dynamically.\n",
    "\n",
    "        After using `group_by` we use `agg` to apply aggregating expressions to the groups. We can specify as many grouping expressions as we'd like and the context `group_by` will group the rows according to the distinct values across the expressions specified. \n",
    "\n",
    "        The resulting dataframe, after applying aggregating expressions, contains one column per each grouping expression on the left and then as many columns as needed to represent the results of the aggregating expressions. In turn, we can specify as many aggregating expressions as we want.\n",
    "\n",
    "        See also [`group_by_dynamic`](https://docs.pola.rs/user-guide/transformations/time-series/rolling/#using-expressions-in-group_by_dynamic) and [`rolling`](https://docs.pola.rs/user-guide/transformations/time-series/rolling/#grouping-by-rolling-windows) for other grouping contexts."
   ]
  },
  {
   "cell_type": "code",
   "execution_count": 60,
   "id": "3893b3cf",
   "metadata": {},
   "outputs": [
    {
     "name": "stdout",
     "output_type": "stream",
     "text": [
      "Shape of `df_salary`: (93597, 11)\n",
      "\n",
      "Shape of `df_groupby`: (36, 8)\n",
      "\n",
      "shape: (5, 8)\n",
      "┌───────────┬────────────┬────────────┬────────────┬───────────┬───────────┬───────────┬───────────┐\n",
      "│ work_year ┆ remote_rat ┆ is_salary_ ┆ mean_salar ┆ stddev_sa ┆ median_sa ┆ min_salar ┆ max_salar │\n",
      "│ ---       ┆ io         ┆ less_than_ ┆ y_in_usd   ┆ lary_in_u ┆ lary_in_u ┆ y_in_usd  ┆ y_in_usd  │\n",
      "│ i16       ┆ ---        ┆ 100k       ┆ ---        ┆ sd        ┆ sd        ┆ ---       ┆ ---       │\n",
      "│           ┆ u8         ┆ ---        ┆ f32        ┆ ---       ┆ ---       ┆ f32       ┆ f32       │\n",
      "│           ┆            ┆ bool       ┆            ┆ f32       ┆ f32       ┆           ┆           │\n",
      "╞═══════════╪════════════╪════════════╪════════════╪═══════════╪═══════════╪═══════════╪═══════════╡\n",
      "│ 2025      ┆ 0          ┆ false      ┆ 183402.937 ┆ 70081.929 ┆ 168900.0  ┆ 100000.0  ┆ 793136.0  │\n",
      "│           ┆            ┆            ┆ 5          ┆ 688       ┆           ┆           ┆           │\n",
      "│ 2025      ┆ 100        ┆ false      ┆ 168696.156 ┆ 72293.812 ┆ 160000.0  ┆ 100000.0  ┆ 750000.0  │\n",
      "│           ┆            ┆            ┆ 25         ┆ 5         ┆           ┆           ┆           │\n",
      "│ 2025      ┆ 100        ┆ true       ┆ 72573.0312 ┆ 21277.210 ┆ 78947.0   ┆ 15347.0   ┆ 99875.0   │\n",
      "│           ┆            ┆            ┆ 5          ┆ 938       ┆           ┆           ┆           │\n",
      "│ 2025      ┆ 0          ┆ true       ┆ 73023.0859 ┆ 18592.304 ┆ 75949.0   ┆ 15157.0   ┆ 99875.0   │\n",
      "│           ┆            ┆            ┆ 38         ┆ 688       ┆           ┆           ┆           │\n",
      "│ 2024      ┆ 50         ┆ true       ┆ 59626.0    ┆ 23132.859 ┆ 65833.0   ┆ 16666.0   ┆ 96666.0   │\n",
      "│           ┆            ┆            ┆            ┆ 375       ┆           ┆           ┆           │\n",
      "└───────────┴────────────┴────────────┴────────────┴───────────┴───────────┴───────────┴───────────┘\n"
     ]
    }
   ],
   "source": [
    "df_groupby = df_salary.group_by(\n",
    "    [\n",
    "        'work_year', # pl.col('work_year'),\n",
    "        'remote_ratio', # pl.col('remote_ratio'),\n",
    "        (pl.col('salary_in_usd')<100000).alias('is_salary_less_than_100k'),\n",
    "    ],\n",
    "    maintain_order=True,\n",
    ").agg(\n",
    "    [\n",
    "        pl.col('salary_in_usd').mean().alias('mean_salary_in_usd'),\n",
    "        pl.col('salary_in_usd').std().alias('stddev_salary_in_usd'),\n",
    "        pl.col('salary_in_usd').median().alias('median_salary_in_usd'),\n",
    "        pl.col('salary_in_usd').min().alias('min_salary_in_usd'),\n",
    "        pl.col('salary_in_usd').max().alias('max_salary_in_usd'),\n",
    "    ]\n",
    ")\n",
    "print(f\"Shape of `df_salary`: {df_salary.shape}\\n\")\n",
    "print(f\"Shape of `df_groupby`: {df_groupby.shape}\\n\")\n",
    "print(df_groupby.head())"
   ]
  },
  {
   "cell_type": "code",
   "execution_count": 54,
   "id": "77a085f7",
   "metadata": {},
   "outputs": [
    {
     "data": {
      "text/html": [
       "<div><style>\n",
       ".dataframe > thead > tr,\n",
       ".dataframe > tbody > tr {\n",
       "  text-align: right;\n",
       "  white-space: pre-wrap;\n",
       "}\n",
       "</style>\n",
       "<small>shape: (5, 11)</small><table border=\"1\" class=\"dataframe\"><thead><tr><th>work_year</th><th>experience_level</th><th>employment_type</th><th>job_title</th><th>salary</th><th>salary_currency</th><th>salary_in_usd</th><th>employee_residence</th><th>remote_ratio</th><th>company_location</th><th>company_size</th></tr><tr><td>i16</td><td>cat</td><td>cat</td><td>cat</td><td>i64</td><td>cat</td><td>f32</td><td>cat</td><td>u8</td><td>cat</td><td>cat</td></tr></thead><tbody><tr><td>2025</td><td>&quot;MI&quot;</td><td>&quot;FT&quot;</td><td>&quot;Research Scientist&quot;</td><td>208000</td><td>&quot;USD&quot;</td><td>208000.0</td><td>&quot;US&quot;</td><td>0</td><td>&quot;US&quot;</td><td>&quot;M&quot;</td></tr><tr><td>2025</td><td>&quot;MI&quot;</td><td>&quot;FT&quot;</td><td>&quot;Research Scientist&quot;</td><td>147000</td><td>&quot;USD&quot;</td><td>147000.0</td><td>&quot;US&quot;</td><td>0</td><td>&quot;US&quot;</td><td>&quot;M&quot;</td></tr><tr><td>2025</td><td>&quot;SE&quot;</td><td>&quot;FT&quot;</td><td>&quot;Research Scientist&quot;</td><td>173000</td><td>&quot;USD&quot;</td><td>173000.0</td><td>&quot;US&quot;</td><td>0</td><td>&quot;US&quot;</td><td>&quot;M&quot;</td></tr><tr><td>2025</td><td>&quot;SE&quot;</td><td>&quot;FT&quot;</td><td>&quot;Research Scientist&quot;</td><td>117000</td><td>&quot;USD&quot;</td><td>117000.0</td><td>&quot;US&quot;</td><td>0</td><td>&quot;US&quot;</td><td>&quot;M&quot;</td></tr><tr><td>2025</td><td>&quot;MI&quot;</td><td>&quot;FT&quot;</td><td>&quot;AI Engineer&quot;</td><td>100000</td><td>&quot;USD&quot;</td><td>100000.0</td><td>&quot;US&quot;</td><td>100</td><td>&quot;US&quot;</td><td>&quot;M&quot;</td></tr></tbody></table></div>"
      ],
      "text/plain": [
       "shape: (5, 11)\n",
       "┌───────────┬───────────┬───────────┬───────────┬───┬───────────┬───────────┬───────────┬──────────┐\n",
       "│ work_year ┆ experienc ┆ employmen ┆ job_title ┆ … ┆ employee_ ┆ remote_ra ┆ company_l ┆ company_ │\n",
       "│ ---       ┆ e_level   ┆ t_type    ┆ ---       ┆   ┆ residence ┆ tio       ┆ ocation   ┆ size     │\n",
       "│ i16       ┆ ---       ┆ ---       ┆ cat       ┆   ┆ ---       ┆ ---       ┆ ---       ┆ ---      │\n",
       "│           ┆ cat       ┆ cat       ┆           ┆   ┆ cat       ┆ u8        ┆ cat       ┆ cat      │\n",
       "╞═══════════╪═══════════╪═══════════╪═══════════╪═══╪═══════════╪═══════════╪═══════════╪══════════╡\n",
       "│ 2025      ┆ MI        ┆ FT        ┆ Research  ┆ … ┆ US        ┆ 0         ┆ US        ┆ M        │\n",
       "│           ┆           ┆           ┆ Scientist ┆   ┆           ┆           ┆           ┆          │\n",
       "│ 2025      ┆ MI        ┆ FT        ┆ Research  ┆ … ┆ US        ┆ 0         ┆ US        ┆ M        │\n",
       "│           ┆           ┆           ┆ Scientist ┆   ┆           ┆           ┆           ┆          │\n",
       "│ 2025      ┆ SE        ┆ FT        ┆ Research  ┆ … ┆ US        ┆ 0         ┆ US        ┆ M        │\n",
       "│           ┆           ┆           ┆ Scientist ┆   ┆           ┆           ┆           ┆          │\n",
       "│ 2025      ┆ SE        ┆ FT        ┆ Research  ┆ … ┆ US        ┆ 0         ┆ US        ┆ M        │\n",
       "│           ┆           ┆           ┆ Scientist ┆   ┆           ┆           ┆           ┆          │\n",
       "│ 2025      ┆ MI        ┆ FT        ┆ AI        ┆ … ┆ US        ┆ 100       ┆ US        ┆ M        │\n",
       "│           ┆           ┆           ┆ Engineer  ┆   ┆           ┆           ┆           ┆          │\n",
       "└───────────┴───────────┴───────────┴───────────┴───┴───────────┴───────────┴───────────┴──────────┘"
      ]
     },
     "execution_count": 54,
     "metadata": {},
     "output_type": "execute_result"
    }
   ],
   "source": [
    "df_salary.head()"
   ]
  },
  {
   "cell_type": "markdown",
   "id": "6db0ef85",
   "metadata": {},
   "source": [
    "### [Advanced Expressions](https://docs.pola.rs/user-guide/expressions/)"
   ]
  },
  {
   "cell_type": "code",
   "execution_count": null,
   "id": "e1669b95",
   "metadata": {},
   "outputs": [],
   "source": [
    "# TODO: Yet to be documented."
   ]
  },
  {
   "cell_type": "markdown",
   "id": "86a8070a",
   "metadata": {},
   "source": [
    "### [Transformation](https://docs.pola.rs/user-guide/transformations/)\n",
    "\n",
    "- `Joins`\n"
   ]
  },
  {
   "cell_type": "markdown",
   "id": "3bf5e36c",
   "metadata": {},
   "source": [
    "### Transformation (cont.)\n",
    "\n",
    "- `Concatenation`\n"
   ]
  },
  {
   "cell_type": "markdown",
   "id": "e7222fb5",
   "metadata": {},
   "source": [
    "### Transformation (cont.)\n",
    "\n",
    "- `Pivot`\n"
   ]
  },
  {
   "cell_type": "markdown",
   "id": "b9d378e8",
   "metadata": {},
   "source": [
    "### Transformation (cont.)\n",
    "\n",
    "- `Unpivot`"
   ]
  }
 ],
 "metadata": {
  "kernelspec": {
   "display_name": ".venv",
   "language": "python",
   "name": "python3"
  },
  "language_info": {
   "codemirror_mode": {
    "name": "ipython",
    "version": 3
   },
   "file_extension": ".py",
   "mimetype": "text/x-python",
   "name": "python",
   "nbconvert_exporter": "python",
   "pygments_lexer": "ipython3",
   "version": "3.11.10"
  }
 },
 "nbformat": 4,
 "nbformat_minor": 5
}
