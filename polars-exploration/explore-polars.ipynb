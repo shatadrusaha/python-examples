{
 "cells": [
  {
   "cell_type": "markdown",
   "id": "1c15f496",
   "metadata": {},
   "source": [
    "### Explore _'Polars'_\n",
    "\n",
    "#### Install.\n",
    "```bash\n",
    "uv add polars kagglehub\n",
    "```\n",
    "\n",
    "#### Load libraries."
   ]
  },
  {
   "cell_type": "code",
   "execution_count": 2,
   "id": "4effa45f",
   "metadata": {},
   "outputs": [],
   "source": [
    "import os\n",
    "import polars as pl\n",
    "import kagglehub"
   ]
  },
  {
   "cell_type": "markdown",
   "id": "f61729fa",
   "metadata": {},
   "source": [
    "#### Download (large) dataset."
   ]
  },
  {
   "cell_type": "code",
   "execution_count": null,
   "id": "097f87c3",
   "metadata": {},
   "outputs": [
    {
     "name": "stdout",
     "output_type": "stream",
     "text": [
      "Downloading from https://www.kaggle.com/api/v1/datasets/download/conorsully1/simulated-transactions?dataset_version_number=1...\n"
     ]
    },
    {
     "name": "stderr",
     "output_type": "stream",
     "text": [
      "100%|██████████| 5.33G/5.33G [07:27<00:00, 12.8MB/s]"
     ]
    },
    {
     "name": "stdout",
     "output_type": "stream",
     "text": [
      "Extracting files...\n"
     ]
    },
    {
     "name": "stderr",
     "output_type": "stream",
     "text": [
      "\n"
     ]
    },
    {
     "name": "stdout",
     "output_type": "stream",
     "text": [
      "Path to dataset files: /Users/shaz/.cache/kagglehub/datasets/conorsully1/simulated-transactions/versions/1\n"
     ]
    }
   ],
   "source": [
    "# Download latest version\n",
    "path_data = kagglehub.dataset_download(\"conorsully1/simulated-transactions\")\n",
    "print(\"Path to dataset files:\", path_data)# Path to dataset files: /Users/shaz/.cache/kagglehub/datasets/conorsully1/simulated-transactions/versions/1"
   ]
  },
  {
   "cell_type": "markdown",
   "id": "5b64e5f4",
   "metadata": {},
   "source": [
    "#### Save data in _'parquet'_ format."
   ]
  },
  {
   "cell_type": "code",
   "execution_count": 4,
   "id": "0dabe26b",
   "metadata": {},
   "outputs": [],
   "source": [
    "path_data = \"/Users/shaz/.cache/kagglehub/datasets/conorsully1/simulated-transactions/versions/1\"\n",
    "filename_csv = os.listdir(path_data)[0]\n",
    "filename_parquet = \"transactions.parquet\"\n",
    "\n",
    "df_csv = pl.scan_csv(source=os.path.join(path_data, os.listdir(path_data)[0]),)\n",
    "df_csv.sink_parquet(path=filename_parquet)"
   ]
  },
  {
   "cell_type": "markdown",
   "id": "0cbd5eff",
   "metadata": {},
   "source": [
    "#### Load the dataset."
   ]
  },
  {
   "cell_type": "code",
   "execution_count": 6,
   "id": "eeff5978",
   "metadata": {},
   "outputs": [
    {
     "name": "stdout",
     "output_type": "stream",
     "text": [
      "shape: (5, 10)\n",
      "┌────────────┬────────────┬──────────┬─────────────────┬───┬───────┬─────┬───────────────┬────────┐\n",
      "│ CUST_ID    ┆ START_DATE ┆ END_DATE ┆ TRANS_ID        ┆ … ┆ MONTH ┆ DAY ┆ EXP_TYPE      ┆ AMOUNT │\n",
      "│ ---        ┆ ---        ┆ ---      ┆ ---             ┆   ┆ ---   ┆ --- ┆ ---           ┆ ---    │\n",
      "│ str        ┆ str        ┆ str      ┆ str             ┆   ┆ i64   ┆ i64 ┆ str           ┆ f64    │\n",
      "╞════════════╪════════════╪══════════╪═════════════════╪═══╪═══════╪═════╪═══════════════╪════════╡\n",
      "│ CI6XLYUMQK ┆ 2015-05-01 ┆ null     ┆ T8I9ZB5A6X90UG8 ┆ … ┆ 9     ┆ 11  ┆ Motor/Travel  ┆ 20.27  │\n",
      "│ CI6XLYUMQK ┆ 2015-05-01 ┆ null     ┆ TZ4JSLS7SC7FO9H ┆ … ┆ 2     ┆ 8   ┆ Motor/Travel  ┆ 12.85  │\n",
      "│ CI6XLYUMQK ┆ 2015-05-01 ┆ null     ┆ TTUKRDDJ6B6F42H ┆ … ┆ 8     ┆ 1   ┆ Housing       ┆ 383.8  │\n",
      "│ CI6XLYUMQK ┆ 2015-05-01 ┆ null     ┆ TDUHFRUKGPPI6HD ┆ … ┆ 3     ┆ 16  ┆ Entertainment ┆ 5.72   │\n",
      "│ CI6XLYUMQK ┆ 2015-05-01 ┆ null     ┆ T0JBZHBMSVRFMMD ┆ … ┆ 5     ┆ 15  ┆ Entertainment ┆ 11.06  │\n",
      "└────────────┴────────────┴──────────┴─────────────────┴───┴───────┴─────┴───────────────┴────────┘\n"
     ]
    }
   ],
   "source": [
    "df_transactions = pl.scan_parquet(source=filename_parquet)\n",
    "print(df_transactions.head().collect())"
   ]
  }
 ],
 "metadata": {
  "kernelspec": {
   "display_name": ".venv",
   "language": "python",
   "name": "python3"
  },
  "language_info": {
   "codemirror_mode": {
    "name": "ipython",
    "version": 3
   },
   "file_extension": ".py",
   "mimetype": "text/x-python",
   "name": "python",
   "nbconvert_exporter": "python",
   "pygments_lexer": "ipython3",
   "version": "3.11.10"
  }
 },
 "nbformat": 4,
 "nbformat_minor": 5
}
