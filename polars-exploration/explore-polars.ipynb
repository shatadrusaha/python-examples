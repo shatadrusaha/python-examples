{
 "cells": [
  {
   "cell_type": "markdown",
   "id": "1c15f496",
   "metadata": {},
   "source": [
    "## Explore [_'Polars'_](https://pola.rs)\n",
    "\n",
    "### Install.\n",
    "```bash\n",
    "uv add polars\n",
    "```\n",
    "\n",
    "___N.B.:___ \n",
    "- _Data can be represented in either of the following format -_\n",
    "    - _[`DataFrame`](https://docs.pola.rs/api/python/stable/reference/dataframe/index.html) - Two-dimensional data structure representing data as a table with rows and columns._\n",
    "    - _[`LazyFrame`](https://docs.pola.rs/api/python/stable/reference/lazyframe/index.html) - Representation of a Lazy computation graph/query against a DataFrame. This allows for whole-query optimisation in addition to parallelism, and is the preferred (and highest-performance) mode of operation for polars._\n",
    "- _`LazyFrame` methods have `scan` and `sink` keywords in the respective modules/functions, for I/O operations. e.g. `scan_csv`, `scan_delta`, `scan_parquet`, `sink_csv`, `sink_parquet`, etc._\n",
    "- _`collect()` method must be used when an operation/query is performed on `LazyFrame`._\n",
    "- _More information on `Lazy API` can be found [here](https://docs.pola.rs/user-guide/concepts/lazy-api/) and [here](https://docs.pola.rs/user-guide/lazy/)._\n",
    "\n",
    "\n",
    "### Load libraries."
   ]
  },
  {
   "cell_type": "code",
   "execution_count": 54,
   "id": "4effa45f",
   "metadata": {},
   "outputs": [],
   "source": [
    "import os\n",
    "import polars as pl\n",
    "import kagglehub"
   ]
  },
  {
   "cell_type": "markdown",
   "id": "f61729fa",
   "metadata": {},
   "source": [
    "### Load/Download (large) the dataset.\n",
    "\n",
    "[Kaggle - Latest Data Science Job Salaries 2020 - 2025](https://www.kaggle.com/datasets/saurabhbadole/latest-data-science-job-salaries-2024/data)"
   ]
  },
  {
   "cell_type": "code",
   "execution_count": null,
   "id": "631ab86e",
   "metadata": {},
   "outputs": [
    {
     "name": "stdout",
     "output_type": "stream",
     "text": [
      "Downloading from https://www.kaggle.com/api/v1/datasets/download/saurabhbadole/latest-data-science-job-salaries-2024?dataset_version_number=3...\n"
     ]
    },
    {
     "name": "stderr",
     "output_type": "stream",
     "text": [
      "100%|██████████| 1.48M/1.48M [00:00<00:00, 5.53MB/s]"
     ]
    },
    {
     "name": "stdout",
     "output_type": "stream",
     "text": [
      "Extracting files...\n",
      "Path to dataset files:  /Users/shaz/.cache/kagglehub/datasets/saurabhbadole/latest-data-science-job-salaries-2024/versions/3\n"
     ]
    },
    {
     "name": "stderr",
     "output_type": "stream",
     "text": [
      "\n"
     ]
    }
   ],
   "source": [
    "# Download latest version of the dataset.\n",
    "path_data = kagglehub.dataset_download(\"saurabhbadole/latest-data-science-job-salaries-2024\")\n",
    "print(f\"Path to dataset files: {path_data}\")"
   ]
  },
  {
   "cell_type": "code",
   "execution_count": 65,
   "id": "1b894408",
   "metadata": {},
   "outputs": [
    {
     "name": "stdout",
     "output_type": "stream",
     "text": [
      "Shape of the DataFrame: (93597, 11)\n",
      "\n",
      "shape: (5, 11)\n",
      "┌───────────┬───────────┬───────────┬───────────┬───┬───────────┬───────────┬───────────┬──────────┐\n",
      "│ work_year ┆ experienc ┆ employmen ┆ job_title ┆ … ┆ employee_ ┆ remote_ra ┆ company_l ┆ company_ │\n",
      "│ ---       ┆ e_level   ┆ t_type    ┆ ---       ┆   ┆ residence ┆ tio       ┆ ocation   ┆ size     │\n",
      "│ i64       ┆ ---       ┆ ---       ┆ str       ┆   ┆ ---       ┆ ---       ┆ ---       ┆ ---      │\n",
      "│           ┆ str       ┆ str       ┆           ┆   ┆ str       ┆ i64       ┆ str       ┆ str      │\n",
      "╞═══════════╪═══════════╪═══════════╪═══════════╪═══╪═══════════╪═══════════╪═══════════╪══════════╡\n",
      "│ 2025      ┆ MI        ┆ FT        ┆ Research  ┆ … ┆ US        ┆ 0         ┆ US        ┆ M        │\n",
      "│           ┆           ┆           ┆ Scientist ┆   ┆           ┆           ┆           ┆          │\n",
      "│ 2025      ┆ MI        ┆ FT        ┆ Research  ┆ … ┆ US        ┆ 0         ┆ US        ┆ M        │\n",
      "│           ┆           ┆           ┆ Scientist ┆   ┆           ┆           ┆           ┆          │\n",
      "│ 2025      ┆ SE        ┆ FT        ┆ Research  ┆ … ┆ US        ┆ 0         ┆ US        ┆ M        │\n",
      "│           ┆           ┆           ┆ Scientist ┆   ┆           ┆           ┆           ┆          │\n",
      "│ 2025      ┆ SE        ┆ FT        ┆ Research  ┆ … ┆ US        ┆ 0         ┆ US        ┆ M        │\n",
      "│           ┆           ┆           ┆ Scientist ┆   ┆           ┆           ┆           ┆          │\n",
      "│ 2025      ┆ MI        ┆ FT        ┆ AI        ┆ … ┆ US        ┆ 100       ┆ US        ┆ M        │\n",
      "│           ┆           ┆           ┆ Engineer  ┆   ┆           ┆           ┆           ┆          │\n",
      "└───────────┴───────────┴───────────┴───────────┴───┴───────────┴───────────┴───────────┴──────────┘\n"
     ]
    }
   ],
   "source": [
    "# Get the 'csv' filename of the dataset.\n",
    "# path_data = '/Users/shaz/.cache/kagglehub/datasets/saurabhbadole/latest-data-science-job-salaries-2024/versions/3'\n",
    "filenames = os.listdir(path_data)\n",
    "filename_csv = [file for file in filenames if file.endswith('.csv')][0]\n",
    "\n",
    "# Load the dataset into a Polars DataFrame.\n",
    "df_salary = pl.read_csv(source=os.path.join(path_data, filename_csv))\n",
    "print(f\"Shape of the DataFrame: {df_salary.shape}\\n\")\n",
    "\n",
    "# Display the first few rows of the DataFrame.\n",
    "# display(df_ev.head())\n",
    "print(df_salary.head())"
   ]
  },
  {
   "cell_type": "markdown",
   "id": "5b64e5f4",
   "metadata": {},
   "source": [
    "### (OPTIONAL) Save and load the data in _'parquet'_ format locally.\n",
    "\n",
    "- normal/regular method"
   ]
  },
  {
   "cell_type": "code",
   "execution_count": 69,
   "id": "a5abdf54",
   "metadata": {},
   "outputs": [
    {
     "data": {
      "text/plain": [
       "'df_datascience_salaries_2025.parquet'"
      ]
     },
     "execution_count": 69,
     "metadata": {},
     "output_type": "execute_result"
    }
   ],
   "source": [
    "filename_csv\n",
    "filename_csv.split('.')[0].lower()\n",
    "\n",
    "f\"df_{filename_csv.split('.')[0].lower()}.parquet\""
   ]
  },
  {
   "cell_type": "code",
   "execution_count": 71,
   "id": "0dabe26b",
   "metadata": {},
   "outputs": [
    {
     "name": "stdout",
     "output_type": "stream",
     "text": [
      "Shape of the `DataFrame`: (93597, 11)\n",
      "\n"
     ]
    }
   ],
   "source": [
    "# Define filename for 'parquet' file.\n",
    "# filename_parquet = 'df_electic_vehicle.parquet'\n",
    "filename_parquet = f\"df_{filename_csv.split('.')[0].lower()}.parquet\"\n",
    "\n",
    "# Save the data.\n",
    "df_salary.write_parquet(file=filename_parquet)\n",
    "\n",
    "# Read the data back from the 'parquet' file.\n",
    "df_salary = pl.read_parquet(source=filename_parquet)\n",
    "print(f\"Shape of the `DataFrame`: {df_salary.shape}\\n\")"
   ]
  },
  {
   "cell_type": "markdown",
   "id": "f5763537",
   "metadata": {},
   "source": [
    "- `lazy` method"
   ]
  },
  {
   "cell_type": "code",
   "execution_count": 72,
   "id": "1b9065a4",
   "metadata": {},
   "outputs": [
    {
     "name": "stdout",
     "output_type": "stream",
     "text": [
      "`type` of 'df_ev': polars.dataframe.frame.DataFrame\n",
      "`type` of 'df_ev_lazy': polars.lazyframe.frame.LazyFrame\n",
      "\n",
      "shape: (5, 11)\n",
      "┌───────────┬───────────┬───────────┬───────────┬───┬───────────┬───────────┬───────────┬──────────┐\n",
      "│ work_year ┆ experienc ┆ employmen ┆ job_title ┆ … ┆ employee_ ┆ remote_ra ┆ company_l ┆ company_ │\n",
      "│ ---       ┆ e_level   ┆ t_type    ┆ ---       ┆   ┆ residence ┆ tio       ┆ ocation   ┆ size     │\n",
      "│ i64       ┆ ---       ┆ ---       ┆ str       ┆   ┆ ---       ┆ ---       ┆ ---       ┆ ---      │\n",
      "│           ┆ str       ┆ str       ┆           ┆   ┆ str       ┆ i64       ┆ str       ┆ str      │\n",
      "╞═══════════╪═══════════╪═══════════╪═══════════╪═══╪═══════════╪═══════════╪═══════════╪══════════╡\n",
      "│ 2025      ┆ MI        ┆ FT        ┆ Research  ┆ … ┆ US        ┆ 0         ┆ US        ┆ M        │\n",
      "│           ┆           ┆           ┆ Scientist ┆   ┆           ┆           ┆           ┆          │\n",
      "│ 2025      ┆ MI        ┆ FT        ┆ Research  ┆ … ┆ US        ┆ 0         ┆ US        ┆ M        │\n",
      "│           ┆           ┆           ┆ Scientist ┆   ┆           ┆           ┆           ┆          │\n",
      "│ 2025      ┆ SE        ┆ FT        ┆ Research  ┆ … ┆ US        ┆ 0         ┆ US        ┆ M        │\n",
      "│           ┆           ┆           ┆ Scientist ┆   ┆           ┆           ┆           ┆          │\n",
      "│ 2025      ┆ SE        ┆ FT        ┆ Research  ┆ … ┆ US        ┆ 0         ┆ US        ┆ M        │\n",
      "│           ┆           ┆           ┆ Scientist ┆   ┆           ┆           ┆           ┆          │\n",
      "│ 2025      ┆ MI        ┆ FT        ┆ AI        ┆ … ┆ US        ┆ 100       ┆ US        ┆ M        │\n",
      "│           ┆           ┆           ┆ Engineer  ┆   ┆           ┆           ┆           ┆          │\n",
      "└───────────┴───────────┴───────────┴───────────┴───┴───────────┴───────────┴───────────┴──────────┘\n"
     ]
    }
   ],
   "source": [
    "# Define filename for `lazy` method.\n",
    "filename_lazy_parquet = f\"lf_{filename_csv.split('.')[0].lower()}.parquet\"\n",
    "\n",
    "# Convert the DataFrame to a lazy DataFrame and save it as a Parquet file.\n",
    "df_salary_lazy = df_salary.lazy()\n",
    "df_salary_lazy.sink_parquet(path=filename_lazy_parquet)\n",
    "\n",
    "# Read the lazy DataFrame from the Parquet file.\n",
    "df_salary_lazy = pl.scan_parquet(source=filename_lazy_parquet)\n",
    "\n",
    "# Convert the lazy DataFrame to a regular DataFrame.\n",
    "df_salary = df_salary_lazy.collect()\n",
    "print(f\"`type` of 'df_ev': {type(df_salary).__module__}.{type(df_salary).__name__}\")\n",
    "print(f\"`type` of 'df_ev_lazy': {type(df_salary_lazy).__module__}.{type(df_salary_lazy).__name__}\\n\")\n",
    "\n",
    "# Display the first few rows of the DataFrame.\n",
    "print(df_salary.head())"
   ]
  },
  {
   "cell_type": "markdown",
   "id": "7b0d2b92",
   "metadata": {},
   "source": [
    "### Inspecting the `DataFrame`.\n",
    "\n",
    "- #### `head`\n",
    "\n",
    "    The function `head` shows the first 5 rows of a `DataFrame`, by default. This can be over-ridden by specifying the desired number of rows."
   ]
  },
  {
   "cell_type": "code",
   "execution_count": 73,
   "id": "78e0f74d",
   "metadata": {},
   "outputs": [
    {
     "name": "stdout",
     "output_type": "stream",
     "text": [
      "'default' usage of `head` method:\n",
      "shape: (5, 11)\n",
      "┌───────────┬───────────┬───────────┬───────────┬───┬───────────┬───────────┬───────────┬──────────┐\n",
      "│ work_year ┆ experienc ┆ employmen ┆ job_title ┆ … ┆ employee_ ┆ remote_ra ┆ company_l ┆ company_ │\n",
      "│ ---       ┆ e_level   ┆ t_type    ┆ ---       ┆   ┆ residence ┆ tio       ┆ ocation   ┆ size     │\n",
      "│ i64       ┆ ---       ┆ ---       ┆ str       ┆   ┆ ---       ┆ ---       ┆ ---       ┆ ---      │\n",
      "│           ┆ str       ┆ str       ┆           ┆   ┆ str       ┆ i64       ┆ str       ┆ str      │\n",
      "╞═══════════╪═══════════╪═══════════╪═══════════╪═══╪═══════════╪═══════════╪═══════════╪══════════╡\n",
      "│ 2025      ┆ MI        ┆ FT        ┆ Research  ┆ … ┆ US        ┆ 0         ┆ US        ┆ M        │\n",
      "│           ┆           ┆           ┆ Scientist ┆   ┆           ┆           ┆           ┆          │\n",
      "│ 2025      ┆ MI        ┆ FT        ┆ Research  ┆ … ┆ US        ┆ 0         ┆ US        ┆ M        │\n",
      "│           ┆           ┆           ┆ Scientist ┆   ┆           ┆           ┆           ┆          │\n",
      "│ 2025      ┆ SE        ┆ FT        ┆ Research  ┆ … ┆ US        ┆ 0         ┆ US        ┆ M        │\n",
      "│           ┆           ┆           ┆ Scientist ┆   ┆           ┆           ┆           ┆          │\n",
      "│ 2025      ┆ SE        ┆ FT        ┆ Research  ┆ … ┆ US        ┆ 0         ┆ US        ┆ M        │\n",
      "│           ┆           ┆           ┆ Scientist ┆   ┆           ┆           ┆           ┆          │\n",
      "│ 2025      ┆ MI        ┆ FT        ┆ AI        ┆ … ┆ US        ┆ 100       ┆ US        ┆ M        │\n",
      "│           ┆           ┆           ┆ Engineer  ┆   ┆           ┆           ┆           ┆          │\n",
      "└───────────┴───────────┴───────────┴───────────┴───┴───────────┴───────────┴───────────┴──────────┘\n",
      "\n",
      "'custom' usage of `head` method:\n",
      "shape: (10, 11)\n",
      "┌───────────┬───────────┬───────────┬───────────┬───┬───────────┬───────────┬───────────┬──────────┐\n",
      "│ work_year ┆ experienc ┆ employmen ┆ job_title ┆ … ┆ employee_ ┆ remote_ra ┆ company_l ┆ company_ │\n",
      "│ ---       ┆ e_level   ┆ t_type    ┆ ---       ┆   ┆ residence ┆ tio       ┆ ocation   ┆ size     │\n",
      "│ i64       ┆ ---       ┆ ---       ┆ str       ┆   ┆ ---       ┆ ---       ┆ ---       ┆ ---      │\n",
      "│           ┆ str       ┆ str       ┆           ┆   ┆ str       ┆ i64       ┆ str       ┆ str      │\n",
      "╞═══════════╪═══════════╪═══════════╪═══════════╪═══╪═══════════╪═══════════╪═══════════╪══════════╡\n",
      "│ 2025      ┆ MI        ┆ FT        ┆ Research  ┆ … ┆ US        ┆ 0         ┆ US        ┆ M        │\n",
      "│           ┆           ┆           ┆ Scientist ┆   ┆           ┆           ┆           ┆          │\n",
      "│ 2025      ┆ MI        ┆ FT        ┆ Research  ┆ … ┆ US        ┆ 0         ┆ US        ┆ M        │\n",
      "│           ┆           ┆           ┆ Scientist ┆   ┆           ┆           ┆           ┆          │\n",
      "│ 2025      ┆ SE        ┆ FT        ┆ Research  ┆ … ┆ US        ┆ 0         ┆ US        ┆ M        │\n",
      "│           ┆           ┆           ┆ Scientist ┆   ┆           ┆           ┆           ┆          │\n",
      "│ 2025      ┆ SE        ┆ FT        ┆ Research  ┆ … ┆ US        ┆ 0         ┆ US        ┆ M        │\n",
      "│           ┆           ┆           ┆ Scientist ┆   ┆           ┆           ┆           ┆          │\n",
      "│ 2025      ┆ MI        ┆ FT        ┆ AI        ┆ … ┆ US        ┆ 100       ┆ US        ┆ M        │\n",
      "│           ┆           ┆           ┆ Engineer  ┆   ┆           ┆           ┆           ┆          │\n",
      "│ 2025      ┆ MI        ┆ FT        ┆ AI        ┆ … ┆ US        ┆ 100       ┆ US        ┆ M        │\n",
      "│           ┆           ┆           ┆ Engineer  ┆   ┆           ┆           ┆           ┆          │\n",
      "│ 2025      ┆ SE        ┆ FT        ┆ AI        ┆ … ┆ US        ┆ 0         ┆ US        ┆ M        │\n",
      "│           ┆           ┆           ┆ Engineer  ┆   ┆           ┆           ┆           ┆          │\n",
      "│ 2025      ┆ SE        ┆ FT        ┆ AI        ┆ … ┆ US        ┆ 0         ┆ US        ┆ M        │\n",
      "│           ┆           ┆           ┆ Engineer  ┆   ┆           ┆           ┆           ┆          │\n",
      "│ 2025      ┆ SE        ┆ FT        ┆ Manager   ┆ … ┆ US        ┆ 0         ┆ US        ┆ M        │\n",
      "│ 2025      ┆ SE        ┆ FT        ┆ Manager   ┆ … ┆ US        ┆ 0         ┆ US        ┆ M        │\n",
      "└───────────┴───────────┴───────────┴───────────┴───┴───────────┴───────────┴───────────┴──────────┘\n",
      "\n"
     ]
    }
   ],
   "source": [
    "print(f\"'default' usage of `head` method:\\n{df_salary.head()}\\n\")\n",
    "\n",
    "print(f\"'custom' usage of `head` method:\\n{df_salary.head(10)}\\n\")"
   ]
  },
  {
   "cell_type": "markdown",
   "id": "9d8470c9",
   "metadata": {},
   "source": [
    "- #### `tail`\n",
    "\n",
    "    The function `tail` shows the last 5 rows of a `DataFrame`, by default and is similar to `head`. The default value can be over-ridden by specifying the desired number of rows."
   ]
  },
  {
   "cell_type": "code",
   "execution_count": 74,
   "id": "0148ea95",
   "metadata": {},
   "outputs": [
    {
     "name": "stdout",
     "output_type": "stream",
     "text": [
      "'default' usage of `tail` method:\n",
      "shape: (5, 11)\n",
      "┌───────────┬───────────┬───────────┬───────────┬───┬───────────┬───────────┬───────────┬──────────┐\n",
      "│ work_year ┆ experienc ┆ employmen ┆ job_title ┆ … ┆ employee_ ┆ remote_ra ┆ company_l ┆ company_ │\n",
      "│ ---       ┆ e_level   ┆ t_type    ┆ ---       ┆   ┆ residence ┆ tio       ┆ ocation   ┆ size     │\n",
      "│ i64       ┆ ---       ┆ ---       ┆ str       ┆   ┆ ---       ┆ ---       ┆ ---       ┆ ---      │\n",
      "│           ┆ str       ┆ str       ┆           ┆   ┆ str       ┆ i64       ┆ str       ┆ str      │\n",
      "╞═══════════╪═══════════╪═══════════╪═══════════╪═══╪═══════════╪═══════════╪═══════════╪══════════╡\n",
      "│ 2020      ┆ SE        ┆ FT        ┆ Data      ┆ … ┆ US        ┆ 100       ┆ US        ┆ L        │\n",
      "│           ┆           ┆           ┆ Scientist ┆   ┆           ┆           ┆           ┆          │\n",
      "│ 2021      ┆ MI        ┆ FT        ┆ Principal ┆ … ┆ US        ┆ 100       ┆ US        ┆ L        │\n",
      "│           ┆           ┆           ┆ Data      ┆   ┆           ┆           ┆           ┆          │\n",
      "│           ┆           ┆           ┆ Scientist ┆   ┆           ┆           ┆           ┆          │\n",
      "│ 2020      ┆ EN        ┆ FT        ┆ Data      ┆ … ┆ US        ┆ 100       ┆ US        ┆ S        │\n",
      "│           ┆           ┆           ┆ Scientist ┆   ┆           ┆           ┆           ┆          │\n",
      "│ 2020      ┆ EN        ┆ CT        ┆ Business  ┆ … ┆ US        ┆ 100       ┆ US        ┆ L        │\n",
      "│           ┆           ┆           ┆ Data      ┆   ┆           ┆           ┆           ┆          │\n",
      "│           ┆           ┆           ┆ Analyst   ┆   ┆           ┆           ┆           ┆          │\n",
      "│ 2021      ┆ SE        ┆ FT        ┆ Data      ┆ … ┆ IN        ┆ 50        ┆ IN        ┆ L        │\n",
      "│           ┆           ┆           ┆ Scientist ┆   ┆           ┆           ┆           ┆          │\n",
      "└───────────┴───────────┴───────────┴───────────┴───┴───────────┴───────────┴───────────┴──────────┘\n",
      "\n",
      "'custom' usage of `tail` method:\n",
      "shape: (10, 11)\n",
      "┌───────────┬───────────┬───────────┬───────────┬───┬───────────┬───────────┬───────────┬──────────┐\n",
      "│ work_year ┆ experienc ┆ employmen ┆ job_title ┆ … ┆ employee_ ┆ remote_ra ┆ company_l ┆ company_ │\n",
      "│ ---       ┆ e_level   ┆ t_type    ┆ ---       ┆   ┆ residence ┆ tio       ┆ ocation   ┆ size     │\n",
      "│ i64       ┆ ---       ┆ ---       ┆ str       ┆   ┆ ---       ┆ ---       ┆ ---       ┆ ---      │\n",
      "│           ┆ str       ┆ str       ┆           ┆   ┆ str       ┆ i64       ┆ str       ┆ str      │\n",
      "╞═══════════╪═══════════╪═══════════╪═══════════╪═══╪═══════════╪═══════════╪═══════════╪══════════╡\n",
      "│ 2021      ┆ SE        ┆ FT        ┆ Data      ┆ … ┆ JP        ┆ 0         ┆ JP        ┆ S        │\n",
      "│           ┆           ┆           ┆ Scientist ┆   ┆           ┆           ┆           ┆          │\n",
      "│ 2021      ┆ MI        ┆ FT        ┆ Data      ┆ … ┆ SG        ┆ 100       ┆ IL        ┆ M        │\n",
      "│           ┆           ┆           ┆ Scientist ┆   ┆           ┆           ┆           ┆          │\n",
      "│ 2021      ┆ MI        ┆ FT        ┆ Applied   ┆ … ┆ US        ┆ 50        ┆ US        ┆ L        │\n",
      "│           ┆           ┆           ┆ Machine   ┆   ┆           ┆           ┆           ┆          │\n",
      "│           ┆           ┆           ┆ Learning  ┆   ┆           ┆           ┆           ┆          │\n",
      "│           ┆           ┆           ┆ Scien…    ┆   ┆           ┆           ┆           ┆          │\n",
      "│ 2021      ┆ MI        ┆ FT        ┆ Data      ┆ … ┆ MT        ┆ 50        ┆ MT        ┆ L        │\n",
      "│           ┆           ┆           ┆ Engineer  ┆   ┆           ┆           ┆           ┆          │\n",
      "│ 2021      ┆ SE        ┆ FT        ┆ Data Spec ┆ … ┆ US        ┆ 100       ┆ US        ┆ L        │\n",
      "│           ┆           ┆           ┆ ialist    ┆   ┆           ┆           ┆           ┆          │\n",
      "│ 2020      ┆ SE        ┆ FT        ┆ Data      ┆ … ┆ US        ┆ 100       ┆ US        ┆ L        │\n",
      "│           ┆           ┆           ┆ Scientist ┆   ┆           ┆           ┆           ┆          │\n",
      "│ 2021      ┆ MI        ┆ FT        ┆ Principal ┆ … ┆ US        ┆ 100       ┆ US        ┆ L        │\n",
      "│           ┆           ┆           ┆ Data      ┆   ┆           ┆           ┆           ┆          │\n",
      "│           ┆           ┆           ┆ Scientist ┆   ┆           ┆           ┆           ┆          │\n",
      "│ 2020      ┆ EN        ┆ FT        ┆ Data      ┆ … ┆ US        ┆ 100       ┆ US        ┆ S        │\n",
      "│           ┆           ┆           ┆ Scientist ┆   ┆           ┆           ┆           ┆          │\n",
      "│ 2020      ┆ EN        ┆ CT        ┆ Business  ┆ … ┆ US        ┆ 100       ┆ US        ┆ L        │\n",
      "│           ┆           ┆           ┆ Data      ┆   ┆           ┆           ┆           ┆          │\n",
      "│           ┆           ┆           ┆ Analyst   ┆   ┆           ┆           ┆           ┆          │\n",
      "│ 2021      ┆ SE        ┆ FT        ┆ Data      ┆ … ┆ IN        ┆ 50        ┆ IN        ┆ L        │\n",
      "│           ┆           ┆           ┆ Scientist ┆   ┆           ┆           ┆           ┆          │\n",
      "└───────────┴───────────┴───────────┴───────────┴───┴───────────┴───────────┴───────────┴──────────┘\n",
      "\n"
     ]
    }
   ],
   "source": [
    "print(f\"'default' usage of `tail` method:\\n{df_salary.tail()}\\n\")\n",
    "\n",
    "print(f\"'custom' usage of `tail` method:\\n{df_salary.tail(10)}\\n\")"
   ]
  },
  {
   "cell_type": "markdown",
   "id": "03d47d3a",
   "metadata": {},
   "source": [
    "- #### `describe`\n",
    "\n",
    "    `describe` computes and displays the summary statistics for all columns of the `DataFrame`."
   ]
  },
  {
   "cell_type": "code",
   "execution_count": 75,
   "id": "9bcc3211",
   "metadata": {},
   "outputs": [
    {
     "name": "stdout",
     "output_type": "stream",
     "text": [
      "shape: (9, 12)\n",
      "┌───────────┬───────────┬───────────┬───────────┬───┬───────────┬───────────┬───────────┬──────────┐\n",
      "│ statistic ┆ work_year ┆ experienc ┆ employmen ┆ … ┆ employee_ ┆ remote_ra ┆ company_l ┆ company_ │\n",
      "│ ---       ┆ ---       ┆ e_level   ┆ t_type    ┆   ┆ residence ┆ tio       ┆ ocation   ┆ size     │\n",
      "│ str       ┆ f64       ┆ ---       ┆ ---       ┆   ┆ ---       ┆ ---       ┆ ---       ┆ ---      │\n",
      "│           ┆           ┆ str       ┆ str       ┆   ┆ str       ┆ f64       ┆ str       ┆ str      │\n",
      "╞═══════════╪═══════════╪═══════════╪═══════════╪═══╪═══════════╪═══════════╪═══════════╪══════════╡\n",
      "│ count     ┆ 93597.0   ┆ 93597     ┆ 93597     ┆ … ┆ 93597     ┆ 93597.0   ┆ 93597     ┆ 93597    │\n",
      "│ null_coun ┆ 0.0       ┆ 0         ┆ 0         ┆ … ┆ 0         ┆ 0.0       ┆ 0         ┆ 0        │\n",
      "│ t         ┆           ┆           ┆           ┆   ┆           ┆           ┆           ┆          │\n",
      "│ mean      ┆ 2024.0864 ┆ null      ┆ null      ┆ … ┆ null      ┆ 21.455816 ┆ null      ┆ null     │\n",
      "│           ┆ 34        ┆           ┆           ┆   ┆           ┆           ┆           ┆          │\n",
      "│ std       ┆ 0.641449  ┆ null      ┆ null      ┆ … ┆ null      ┆ 40.954704 ┆ null      ┆ null     │\n",
      "│ min       ┆ 2020.0    ┆ EN        ┆ CT        ┆ … ┆ AD        ┆ 0.0       ┆ AD        ┆ L        │\n",
      "│ 25%       ┆ 2024.0    ┆ null      ┆ null      ┆ … ┆ null      ┆ 0.0       ┆ null      ┆ null     │\n",
      "│ 50%       ┆ 2024.0    ┆ null      ┆ null      ┆ … ┆ null      ┆ 0.0       ┆ null      ┆ null     │\n",
      "│ 75%       ┆ 2024.0    ┆ null      ┆ null      ┆ … ┆ null      ┆ 0.0       ┆ null      ┆ null     │\n",
      "│ max       ┆ 2025.0    ┆ SE        ┆ PT        ┆ … ┆ ZM        ┆ 100.0     ┆ ZM        ┆ S        │\n",
      "└───────────┴───────────┴───────────┴───────────┴───┴───────────┴───────────┴───────────┴──────────┘\n",
      "{'statistic': shape: (9,)\n",
      "Series: 'statistic' [str]\n",
      "[\n",
      "\t\"count\"\n",
      "\t\"null_count\"\n",
      "\t\"mean\"\n",
      "\t\"std\"\n",
      "\t\"min\"\n",
      "\t\"25%\"\n",
      "\t\"50%\"\n",
      "\t\"75%\"\n",
      "\t\"max\"\n",
      "], 'work_year': shape: (9,)\n",
      "Series: 'work_year' [f64]\n",
      "[\n",
      "\t93597.0\n",
      "\t0.0\n",
      "\t2024.086434\n",
      "\t0.641449\n",
      "\t2020.0\n",
      "\t2024.0\n",
      "\t2024.0\n",
      "\t2024.0\n",
      "\t2025.0\n",
      "], 'experience_level': shape: (9,)\n",
      "Series: 'experience_level' [str]\n",
      "[\n",
      "\t\"93597\"\n",
      "\t\"0\"\n",
      "\tnull\n",
      "\tnull\n",
      "\t\"EN\"\n",
      "\tnull\n",
      "\tnull\n",
      "\tnull\n",
      "\t\"SE\"\n",
      "], 'employment_type': shape: (9,)\n",
      "Series: 'employment_type' [str]\n",
      "[\n",
      "\t\"93597\"\n",
      "\t\"0\"\n",
      "\tnull\n",
      "\tnull\n",
      "\t\"CT\"\n",
      "\tnull\n",
      "\tnull\n",
      "\tnull\n",
      "\t\"PT\"\n",
      "], 'job_title': shape: (9,)\n",
      "Series: 'job_title' [str]\n",
      "[\n",
      "\t\"93597\"\n",
      "\t\"0\"\n",
      "\tnull\n",
      "\tnull\n",
      "\t\"AI Architect\"\n",
      "\tnull\n",
      "\tnull\n",
      "\tnull\n",
      "\t\"Technology Integrator\"\n",
      "], 'salary': shape: (9,)\n",
      "Series: 'salary' [f64]\n",
      "[\n",
      "\t93597.0\n",
      "\t0.0\n",
      "\t162354.104661\n",
      "\t222142.544728\n",
      "\t14000.0\n",
      "\t106260.0\n",
      "\t147000.0\n",
      "\t199000.0\n",
      "\t3.04e7\n",
      "], 'salary_currency': shape: (9,)\n",
      "Series: 'salary_currency' [str]\n",
      "[\n",
      "\t\"93597\"\n",
      "\t\"0\"\n",
      "\tnull\n",
      "\tnull\n",
      "\t\"AUD\"\n",
      "\tnull\n",
      "\tnull\n",
      "\tnull\n",
      "\t\"ZAR\"\n",
      "], 'salary_in_usd': shape: (9,)\n",
      "Series: 'salary_in_usd' [f64]\n",
      "[\n",
      "\t93597.0\n",
      "\t0.0\n",
      "\t157547.696774\n",
      "\t73649.113729\n",
      "\t15000.0\n",
      "\t106250.0\n",
      "\t146232.0\n",
      "\t198000.0\n",
      "\t800000.0\n",
      "], 'employee_residence': shape: (9,)\n",
      "Series: 'employee_residence' [str]\n",
      "[\n",
      "\t\"93597\"\n",
      "\t\"0\"\n",
      "\tnull\n",
      "\tnull\n",
      "\t\"AD\"\n",
      "\tnull\n",
      "\tnull\n",
      "\tnull\n",
      "\t\"ZM\"\n",
      "], 'remote_ratio': shape: (9,)\n",
      "Series: 'remote_ratio' [f64]\n",
      "[\n",
      "\t93597.0\n",
      "\t0.0\n",
      "\t21.455816\n",
      "\t40.954704\n",
      "\t0.0\n",
      "\t0.0\n",
      "\t0.0\n",
      "\t0.0\n",
      "\t100.0\n",
      "], 'company_location': shape: (9,)\n",
      "Series: 'company_location' [str]\n",
      "[\n",
      "\t\"93597\"\n",
      "\t\"0\"\n",
      "\tnull\n",
      "\tnull\n",
      "\t\"AD\"\n",
      "\tnull\n",
      "\tnull\n",
      "\tnull\n",
      "\t\"ZM\"\n",
      "], 'company_size': shape: (9,)\n",
      "Series: 'company_size' [str]\n",
      "[\n",
      "\t\"93597\"\n",
      "\t\"0\"\n",
      "\tnull\n",
      "\tnull\n",
      "\t\"L\"\n",
      "\tnull\n",
      "\tnull\n",
      "\tnull\n",
      "\t\"S\"\n",
      "]}\n"
     ]
    }
   ],
   "source": [
    "print(df_salary.describe())\n",
    "\n",
    "print(df_salary.describe().to_dict())"
   ]
  },
  {
   "cell_type": "markdown",
   "id": "1d4673b7",
   "metadata": {},
   "source": [
    "- #### `glimpse`\n",
    "\n",
    "    The function `glimpse` is another function that shows the values of the first few rows of a `DataFrame`, but formats the output differently from `head`. Each line of the output corresponds to a single column, making it easier to take inspect wider dataframes."
   ]
  },
  {
   "cell_type": "code",
   "execution_count": 76,
   "id": "c1e17cef",
   "metadata": {},
   "outputs": [
    {
     "name": "stdout",
     "output_type": "stream",
     "text": [
      "Rows: 93597\n",
      "Columns: 11\n",
      "$ work_year          <i64> 2025, 2025, 2025, 2025, 2025\n",
      "$ experience_level   <str> 'MI', 'MI', 'SE', 'SE', 'MI'\n",
      "$ employment_type    <str> 'FT', 'FT', 'FT', 'FT', 'FT'\n",
      "$ job_title          <str> 'Research Scientist', 'Research Scientist', 'Research Scientist', 'Research Scientist', 'AI Engineer'\n",
      "$ salary             <i64> 208000, 147000, 173000, 117000, 100000\n",
      "$ salary_currency    <str> 'USD', 'USD', 'USD', 'USD', 'USD'\n",
      "$ salary_in_usd      <i64> 208000, 147000, 173000, 117000, 100000\n",
      "$ employee_residence <str> 'US', 'US', 'US', 'US', 'US'\n",
      "$ remote_ratio       <i64> 0, 0, 0, 0, 100\n",
      "$ company_location   <str> 'US', 'US', 'US', 'US', 'US'\n",
      "$ company_size       <str> 'M', 'M', 'M', 'M', 'M'\n",
      "\n"
     ]
    }
   ],
   "source": [
    "print(df_salary.glimpse(max_items_per_column=5, return_as_string=True))"
   ]
  },
  {
   "cell_type": "markdown",
   "id": "fff4dfa1",
   "metadata": {},
   "source": [
    "- #### `sample`\n",
    "\n",
    "    The `sample` function retrieves an arbitrary number of randomly selected rows from the `DataFrame`. \n",
    "    \n",
    "    _N.B.: The rows are not necessarily returned in the same order as they appear in the `DataFrame`._\n"
   ]
  },
  {
   "cell_type": "code",
   "execution_count": 77,
   "id": "5028f199",
   "metadata": {},
   "outputs": [
    {
     "name": "stdout",
     "output_type": "stream",
     "text": [
      "shape: (5, 11)\n",
      "┌───────────┬───────────┬───────────┬───────────┬───┬───────────┬───────────┬───────────┬──────────┐\n",
      "│ work_year ┆ experienc ┆ employmen ┆ job_title ┆ … ┆ employee_ ┆ remote_ra ┆ company_l ┆ company_ │\n",
      "│ ---       ┆ e_level   ┆ t_type    ┆ ---       ┆   ┆ residence ┆ tio       ┆ ocation   ┆ size     │\n",
      "│ i64       ┆ ---       ┆ ---       ┆ str       ┆   ┆ ---       ┆ ---       ┆ ---       ┆ ---      │\n",
      "│           ┆ str       ┆ str       ┆           ┆   ┆ str       ┆ i64       ┆ str       ┆ str      │\n",
      "╞═══════════╪═══════════╪═══════════╪═══════════╪═══╪═══════════╪═══════════╪═══════════╪══════════╡\n",
      "│ 2025      ┆ MI        ┆ FT        ┆ Power BI  ┆ … ┆ US        ┆ 100       ┆ US        ┆ M        │\n",
      "│           ┆           ┆           ┆ Developer ┆   ┆           ┆           ┆           ┆          │\n",
      "│ 2025      ┆ MI        ┆ FT        ┆ Associate ┆ … ┆ US        ┆ 100       ┆ US        ┆ M        │\n",
      "│ 2025      ┆ SE        ┆ FT        ┆ Machine   ┆ … ┆ US        ┆ 0         ┆ US        ┆ M        │\n",
      "│           ┆           ┆           ┆ Learning  ┆   ┆           ┆           ┆           ┆          │\n",
      "│           ┆           ┆           ┆ Engineer  ┆   ┆           ┆           ┆           ┆          │\n",
      "│ 2024      ┆ EN        ┆ FT        ┆ Data      ┆ … ┆ US        ┆ 0         ┆ US        ┆ M        │\n",
      "│           ┆           ┆           ┆ Analyst   ┆   ┆           ┆           ┆           ┆          │\n",
      "│ 2024      ┆ SE        ┆ FT        ┆ Data      ┆ … ┆ US        ┆ 0         ┆ US        ┆ M        │\n",
      "│           ┆           ┆           ┆ Engineer  ┆   ┆           ┆           ┆           ┆          │\n",
      "└───────────┴───────────┴───────────┴───────────┴───┴───────────┴───────────┴───────────┴──────────┘\n"
     ]
    }
   ],
   "source": [
    "print(df_salary.sample(n=5, with_replacement=False, seed=14))"
   ]
  },
  {
   "cell_type": "markdown",
   "id": "b50b587c",
   "metadata": {},
   "source": [
    "- #### `schema`\n",
    "\n",
    "    For `DataFrame`, the `schema` is a mapping of column or series names to the data types of those same columns or series."
   ]
  },
  {
   "cell_type": "code",
   "execution_count": 78,
   "id": "88343ad5",
   "metadata": {},
   "outputs": [
    {
     "name": "stdout",
     "output_type": "stream",
     "text": [
      "Schema([('work_year', Int64), ('experience_level', String), ('employment_type', String), ('job_title', String), ('salary', Int64), ('salary_currency', String), ('salary_in_usd', Int64), ('employee_residence', String), ('remote_ratio', Int64), ('company_location', String), ('company_size', String)])\n"
     ]
    }
   ],
   "source": [
    "print(df_salary.schema)"
   ]
  },
  {
   "cell_type": "markdown",
   "id": "b98153a1",
   "metadata": {},
   "source": [
    "- #### `schema` (cont.)\n",
    "\n",
    "    Much like with series, Polars will infer the schema of a `DataFrame` when it is created. But, it can be used to override the inference system if needed.\n",
    "    \n",
    "    In Python, an explicit schema can be specified by using a dictionary to map column names to data types. The value `None` is used, if you do not wish to override inference for a given column."
   ]
  },
  {
   "cell_type": "code",
   "execution_count": null,
   "id": "4b667d31",
   "metadata": {},
   "outputs": [],
   "source": [
    "df = pl.DataFrame(\n",
    "    {\n",
    "        \"name\": [\"Alice\", \"Ben\", \"Chloe\", \"Daniel\"],\n",
    "        \"age\": [27, 39, 41, 43],\n",
    "    },\n",
    "    schema={\"name\": None, \"age\": pl.Int8},\n",
    ")\n",
    "\n",
    "print(df)"
   ]
  },
  {
   "cell_type": "markdown",
   "id": "4542893e",
   "metadata": {},
   "source": [
    "- #### `schema` (cont.)\n",
    "\n",
    "    The parameter `schema_overrides` tends to be more convenient, when only some/certain columns need to override the inference. It doesn't override the inference for the columns that have been excluded."
   ]
  },
  {
   "cell_type": "code",
   "execution_count": null,
   "id": "941d119d",
   "metadata": {},
   "outputs": [],
   "source": [
    "df = pl.DataFrame(\n",
    "    {\n",
    "        \"name\": [\"Alice\", \"Ben\", \"Chloe\", \"Daniel\"],\n",
    "        \"age\": [27, 39, 41, 43],\n",
    "    },\n",
    "    schema_overrides={\"age\": pl.UInt8},\n",
    ")\n",
    "\n",
    "print(df)"
   ]
  },
  {
   "cell_type": "markdown",
   "id": "6f56cfda",
   "metadata": {},
   "source": [
    "### Expressions and contexts."
   ]
  }
 ],
 "metadata": {
  "kernelspec": {
   "display_name": ".venv",
   "language": "python",
   "name": "python3"
  },
  "language_info": {
   "codemirror_mode": {
    "name": "ipython",
    "version": 3
   },
   "file_extension": ".py",
   "mimetype": "text/x-python",
   "name": "python",
   "nbconvert_exporter": "python",
   "pygments_lexer": "ipython3",
   "version": "3.11.10"
  }
 },
 "nbformat": 4,
 "nbformat_minor": 5
}
