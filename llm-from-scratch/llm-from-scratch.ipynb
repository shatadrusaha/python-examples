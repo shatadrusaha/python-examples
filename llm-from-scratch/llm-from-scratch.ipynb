{
 "cells": [
  {
   "cell_type": "markdown",
   "id": "c44d6783",
   "metadata": {},
   "source": [
    "### Stage #1 - Building an LLM"
   ]
  },
  {
   "cell_type": "markdown",
   "id": "36366de0",
   "metadata": {},
   "source": [
    "- #### Step #1 - Data preparation and sampling"
   ]
  },
  {
   "cell_type": "code",
   "execution_count": 14,
   "id": "f66b0231",
   "metadata": {},
   "outputs": [],
   "source": [
    "# Import libraries\n",
    "import os\n",
    "import re\n",
    "# import sys"
   ]
  },
  {
   "cell_type": "code",
   "execution_count": 13,
   "id": "6ec9e553",
   "metadata": {},
   "outputs": [
    {
     "name": "stdout",
     "output_type": "stream",
     "text": [
      "folder_name = 'llm-from-scratch'\n",
      "file_name = 'the-verdict.txt'\n",
      "\n",
      "Total number of characters in 'the-verdict.txt': 20479\n",
      "\n",
      "First 1000 characters of 'the-verdict.txt':\n",
      "\n",
      "I HAD always thought Jack Gisburn rather a cheap genius--though a good fellow enough--so it was no great surprise to me to hear that, in the height of his glory, he had dropped his painting, married a rich widow, and established himself in a villa on the Riviera. (Though I rather thought it would have been Rome or Florence.)\n",
      "\n",
      "\"The height of his glory\"--that was what the women called it. I can hear Mrs. Gideon Thwing--his last Chicago sitter--deploring his unaccountable abdication. \"Of course it's going to send the value of my picture 'way up; but I don't think of that, Mr. Rickham--the loss to Arrt is all I think of.\" The word, on Mrs. Thwing's lips, multiplied its _rs_ as though they were reflected in an endless vista of mirrors. And it was not only the Mrs. Thwings who mourned. Had not the exquisite Hermia Croft, at the last Grafton Gallery show, stopped me before Gisburn's \"Moon-dancers\" to say, with tears in her eyes: \"We shall not look upon its like again\"?\n",
      "\n",
      "Well!--even through th\n",
      "\n"
     ]
    }
   ],
   "source": [
    "folder_name = 'llm-from-scratch'\n",
    "file_name = 'the-verdict.txt'\n",
    "print(f\"{folder_name = }\\n{file_name = }\\n\")\n",
    "\n",
    "# Read the text/book.\n",
    "with open(file=os.path.join(os.getcwd(), folder_name, file_name), mode='r', encoding='utf-8') as f:\n",
    "    text_raw = f.read()\n",
    "\n",
    "# Print the first 1000 characters of the text.\n",
    "n_chars = 1000\n",
    "print(f\"Total number of characters in '{file_name}': {len(text_raw)}\\n\")\n",
    "print(f\"First {n_chars} characters of '{file_name}':\\n\\n{text_raw[:1000]}\\n\")"
   ]
  },
  {
   "cell_type": "markdown",
   "id": "fe845b31",
   "metadata": {},
   "source": [
    "##### __Difference between `pattern=r'(\\s)'` and `pattern=r'\\s+'` when used with `re.split`:__\n",
    "\n",
    "`pattern=r'\\s+'`\n",
    "- __Meaning__: Matches one or more consecutive whitespace characters (spaces, tabs, newlines, etc.).\n",
    "- __Behavior in__ `re.split`: Splits the string at every sequence of whitespace, and does not include the whitespace in the result.\n",
    "- __Example__:\n",
    "    ```python\n",
    "    import re\n",
    "    text = \"Hello   world!\\nHow are you?\"\n",
    "    print(re.split(r'\\s+', text))\n",
    "    # Output: ['Hello', 'world!', 'How', 'are', 'you?']\n",
    "    ```\n",
    "\n",
    "`pattern=r'(\\s)'`\n",
    "- __Meaning__: Matches a single whitespace character, and the parentheses create a capturing group.\n",
    "- __Behavior in__ `re.split`: Splits the string at every single whitespace character, and includes the matched whitespace characters in the result as separate elements.\n",
    "- __Example__:\n",
    "    ```python\n",
    "    import re\n",
    "    text = \"Hello   world!\\nHow are you?\"\n",
    "    print(re.split(r'(\\s)', text))\n",
    "    # Output: ['Hello', ' ', '', ' ', '', ' ', 'world!', '\\n', 'How', ' ', 'are', ' ', 'you?']\n",
    "    ```\n",
    "\n",
    "__Summary Table:__\n",
    "\n",
    "| Pattern   | Splits on              | Includes whitespace in result? | Example Output                                      |\n",
    "|-----------|------------------------|--------------------------------|-----------------------------------------------------|\n",
    "| `r'\\s+'`  | Any run of whitespace  | No                             | `['Hello', 'world!', 'How', 'are', 'you?']`         |\n",
    "| `r'(\\s)'` | Each whitespace char   | Yes (as separate elements)     | `['Hello', ' ', '', ' ', '', ' ', ...]`             |\n",
    "\n",
    "__In short:__\n",
    "- Use `r'\\s+'` to split and discard whitespace.\n",
    "- Use `r'(\\s)'` to split and keep each whitespace character in the result.\n"
   ]
  },
  {
   "cell_type": "code",
   "execution_count": null,
   "id": "2c9e278d",
   "metadata": {},
   "outputs": [
    {
     "name": "stdout",
     "output_type": "stream",
     "text": [
      "Sample of 1000 characters from 'the-verdict.txt':\n",
      "\n",
      "I HAD always thought Jack Gisburn rather a cheap genius--though a good fellow enough--so it was no great surprise to me to hear that, in the height of his glory, he had dropped his painting, married a rich widow, and established himself in a villa on the Riviera. (Though I rather thought it would have been Rome or Florence.)\n",
      "\n",
      "\"The height of his glory\"--that was what the women called it. I can hear Mrs. Gideon Thwing--his last Chicago sitter--deploring his unaccountable abdication. \"Of course it's going to send the value of my picture 'way up; but I don't think of that, Mr. Rickham--the loss to Arrt is all I think of.\" The word, on Mrs. Thwing's lips, multiplied its _rs_ as though they were reflected in an endless vista of mirrors. And it was not only the Mrs. Thwings who mourned. Had not the exquisite Hermia Croft, at the last Grafton Gallery show, stopped me before Gisburn's \"Moon-dancers\" to say, with tears in her eyes: \"We shall not look upon its like again\"?\n",
      "\n",
      "Well!--even through th\n",
      "\n",
      "Pattern: r'\\s+'\n",
      "Number of tokens in the sample: 176\n",
      "First 40 tokens in the sample:\n",
      "['I', 'HAD', 'always', 'thought', 'Jack', 'Gisburn', 'rather', 'a', 'cheap', 'genius--though', 'a', 'good', 'fellow', 'enough--so', 'it', 'was', 'no', 'great', 'surprise', 'to', 'me', 'to', 'hear', 'that,', 'in', 'the', 'height', 'of', 'his', 'glory,', 'he', 'had', 'dropped', 'his', 'painting,', 'married', 'a', 'rich', 'widow,', 'and']\n",
      "\n",
      "Pattern: r'(\\s)'\n",
      "Number of tokens in the sample: 355\n",
      "First 40 tokens in the sample:\n",
      "['I', ' ', 'HAD', ' ', 'always', ' ', 'thought', ' ', 'Jack', ' ', 'Gisburn', ' ', 'rather', ' ', 'a', ' ', 'cheap', ' ', 'genius--though', ' ', 'a', ' ', 'good', ' ', 'fellow', ' ', 'enough--so', ' ', 'it', ' ', 'was', ' ', 'no', ' ', 'great', ' ', 'surprise', ' ', 'to', ' ']\n",
      "\n",
      "Pattern: r'\\s+|[,.]'\n",
      "Number of tokens in the sample: 197\n",
      "First 40 tokens in the sample:\n",
      "['I', 'HAD', 'always', 'thought', 'Jack', 'Gisburn', 'rather', 'a', 'cheap', 'genius--though', 'a', 'good', 'fellow', 'enough--so', 'it', 'was', 'no', 'great', 'surprise', 'to', 'me', 'to', 'hear', 'that', '', 'in', 'the', 'height', 'of', 'his', 'glory', '', 'he', 'had', 'dropped', 'his', 'painting', '', 'married', 'a']\n",
      "\n",
      "Pattern: r'(\\s+|[,.])'\n",
      "Number of tokens in the sample: 393\n",
      "First 40 tokens in the sample:\n",
      "['I', ' ', 'HAD', ' ', 'always', ' ', 'thought', ' ', 'Jack', ' ', 'Gisburn', ' ', 'rather', ' ', 'a', ' ', 'cheap', ' ', 'genius--though', ' ', 'a', ' ', 'good', ' ', 'fellow', ' ', 'enough--so', ' ', 'it', ' ', 'was', ' ', 'no', ' ', 'great', ' ', 'surprise', ' ', 'to', ' ']\n",
      "\n"
     ]
    }
   ],
   "source": [
    "# Create a sample of text.\n",
    "n_chars = 1000\n",
    "n_tokens = 40\n",
    "text_sample = text_raw[:n_chars]\n",
    "print(f\"Sample of {n_chars} characters from '{file_name}':\\n\\n{text_sample}\\n\")\n",
    "\n",
    "# Split at 'white-space' (\\s) characters (excluding).\n",
    "pattern = r'\\s+'\n",
    "# Split the text into tokens.\n",
    "text_tokens = re.split(pattern=pattern, string=text_sample)\n",
    "print(f\"Pattern: r'{pattern}'\")\n",
    "print(f\"Number of tokens in the sample: {len(text_tokens)}\")\n",
    "print(f\"First {n_tokens} tokens in the sample:\\n{text_tokens[:n_tokens]}\\n\") # Print the first 10 tokens.\n",
    "\n",
    "# Split at 'white-space' character (including).\n",
    "pattern = r'(\\s)'\n",
    "text_tokens = re.split(pattern=pattern, string=text_sample)\n",
    "print(f\"Pattern: r'{pattern}'\")\n",
    "print(f\"Number of tokens in the sample: {len(text_tokens)}\")\n",
    "print(f\"First {n_tokens} tokens in the sample:\\n{text_tokens[:n_tokens]}\\n\")\n",
    "\n",
    "# Split at 'white-space' characters (\\s) and commas and period [,.] (excluding)\n",
    "pattern = r'\\s+|[,.]'\n",
    "text_tokens = re.split(pattern=pattern, string=text_sample)\n",
    "print(f\"Pattern: r'{pattern}'\")\n",
    "print(f\"Number of tokens in the sample: {len(text_tokens)}\")\n",
    "print(f\"First {n_tokens} tokens in the sample:\\n{text_tokens[:n_tokens]}\\n\")\n",
    "\n",
    "# Split at 'white-space' character (\\s) and commas and period [,.] (including).\n",
    "pattern = r'(\\s+|[,.])'\n",
    "text_tokens = re.split(pattern=pattern, string=text_sample)\n",
    "print(f\"Pattern: r'{pattern}'\")\n",
    "print(f\"Number of tokens in the sample: {len(text_tokens)}\")\n",
    "print(f\"First {n_tokens} tokens in the sample:\\n{text_tokens[:n_tokens]}\\n\")"
   ]
  },
  {
   "cell_type": "code",
   "execution_count": 37,
   "id": "090b20b3",
   "metadata": {},
   "outputs": [
    {
     "name": "stdout",
     "output_type": "stream",
     "text": [
      "Pattern: r'\\s+|([,.:;?_!\"()\\'-]|--)'\n",
      "Number of tokens in the sample: 465\n",
      "First 40 tokens in the sample:\n",
      "['I', None, 'HAD', None, 'always', None, 'thought', None, 'Jack', None, 'Gisburn', None, 'rather', None, 'a', None, 'cheap', None, 'genius', '-', '', '-', 'though', None, 'a', None, 'good', None, 'fellow', None, 'enough', '-', '', '-', 'so', None, 'it', None, 'was', None]\n",
      "\n"
     ]
    }
   ],
   "source": [
    "# Split at 'white-space' character (\\s) (exclude them) and other special characters, like commas, period, etc. (include them).\n",
    "pattern = r'\\s+|([,.:;?_!\"()\\'-]|--)'\n",
    "text_tokens = re.split(pattern=pattern, string=text_sample)\n",
    "print(f\"Pattern: r'{pattern}'\")\n",
    "print(f\"Number of tokens in the sample: {len(text_tokens)}\")\n",
    "print(f\"First {n_tokens} tokens in the sample:\\n{text_tokens[:n_tokens]}\\n\")"
   ]
  },
  {
   "cell_type": "markdown",
   "id": "87112b84",
   "metadata": {},
   "source": [
    "- #### Step #2 - Attention mechanism"
   ]
  },
  {
   "cell_type": "markdown",
   "id": "90806b70",
   "metadata": {},
   "source": [
    "- #### Step #3 - LLM architecture"
   ]
  },
  {
   "cell_type": "markdown",
   "id": "40d981d8",
   "metadata": {},
   "source": [
    "### Stage #2 - Foundation model"
   ]
  },
  {
   "cell_type": "markdown",
   "id": "496e2044",
   "metadata": {},
   "source": [
    "- #### Step #1 - Training Loop"
   ]
  },
  {
   "cell_type": "markdown",
   "id": "96a531da",
   "metadata": {},
   "source": [
    "- #### Step #2 - Model evaluation"
   ]
  },
  {
   "cell_type": "markdown",
   "id": "c4050425",
   "metadata": {},
   "source": [
    "- #### Step #3 - Load pretrained weights"
   ]
  },
  {
   "cell_type": "markdown",
   "id": "90cb3e87",
   "metadata": {},
   "source": [
    "### Stage #3 - "
   ]
  },
  {
   "cell_type": "markdown",
   "id": "5d858ad8",
   "metadata": {},
   "source": [
    "- #### Step #1 - `TBC`"
   ]
  },
  {
   "cell_type": "markdown",
   "id": "48f22e90",
   "metadata": {},
   "source": [
    "- #### Step #2 - `TBC`"
   ]
  }
 ],
 "metadata": {
  "kernelspec": {
   "display_name": ".venv",
   "language": "python",
   "name": "python3"
  },
  "language_info": {
   "codemirror_mode": {
    "name": "ipython",
    "version": 3
   },
   "file_extension": ".py",
   "mimetype": "text/x-python",
   "name": "python",
   "nbconvert_exporter": "python",
   "pygments_lexer": "ipython3",
   "version": "3.11.10"
  }
 },
 "nbformat": 4,
 "nbformat_minor": 5
}
