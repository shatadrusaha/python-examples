{
 "cells": [
  {
   "cell_type": "markdown",
   "id": "c44d6783",
   "metadata": {},
   "source": [
    "### Stage #1 - Building an LLM"
   ]
  },
  {
   "cell_type": "markdown",
   "id": "36366de0",
   "metadata": {},
   "source": [
    "- #### Step #1 - Data preparation and sampling"
   ]
  },
  {
   "cell_type": "code",
   "execution_count": 1,
   "id": "6ec9e553",
   "metadata": {},
   "outputs": [
    {
     "name": "stdout",
     "output_type": "stream",
     "text": [
      "folder_name = 'llm-from-scratch'\n",
      "file_name = 'the-verdict.txt'\n",
      "\n",
      "Total number of characters in 'the-verdict.txt': 20479\n",
      "\n",
      "First 1000 characters of 'the-verdict.txt':\n",
      "\n",
      "I HAD always thought Jack Gisburn rather a cheap genius--though a good fellow enough--so it was no great surprise to me to hear that, in the height of his glory, he had dropped his painting, married a rich widow, and established himself in a villa on the Riviera. (Though I rather thought it would have been Rome or Florence.)\n",
      "\n",
      "\"The height of his glory\"--that was what the women called it. I can hear Mrs. Gideon Thwing--his last Chicago sitter--deploring his unaccountable abdication. \"Of course it's going to send the value of my picture 'way up; but I don't think of that, Mr. Rickham--the loss to Arrt is all I think of.\" The word, on Mrs. Thwing's lips, multiplied its _rs_ as though they were reflected in an endless vista of mirrors. And it was not only the Mrs. Thwings who mourned. Had not the exquisite Hermia Croft, at the last Grafton Gallery show, stopped me before Gisburn's \"Moon-dancers\" to say, with tears in her eyes: \"We shall not look upon its like again\"?\n",
      "\n",
      "Well!--even through th\n",
      "\n"
     ]
    }
   ],
   "source": [
    "import os\n",
    "import re\n",
    "\n",
    "folder_name = 'llm-from-scratch'\n",
    "file_name = 'the-verdict.txt'\n",
    "print(f\"{folder_name = }\\n{file_name = }\\n\")\n",
    "\n",
    "# Read the text/book.\n",
    "with open(file=os.path.join(os.getcwd(), folder_name, file_name), mode='r', encoding='utf-8') as f:\n",
    "    text_raw = f.read()\n",
    "\n",
    "# Print the first 1000 characters of the text.\n",
    "n_chars = 1000\n",
    "print(f\"Total number of characters in '{file_name}': {len(text_raw)}\\n\")\n",
    "print(f\"First {n_chars} characters of '{file_name}':\\n\\n{text_raw[:1000]}\\n\")"
   ]
  },
  {
   "cell_type": "markdown",
   "id": "fe845b31",
   "metadata": {},
   "source": [
    "__Difference between `pattern=r'(\\s)'` and `pattern=r'\\s+'` when used with `re.split`:__\n",
    "\n",
    "__`pattern=r'\\s+'`__\n",
    "- __Meaning__: Matches one or more consecutive whitespace characters (spaces, tabs, newlines, etc.).\n",
    "- __Behavior in__ `re.split`: Splits the string at every sequence of whitespace, and does not include the whitespace in the result.\n",
    "- __Example__:\n",
    "    ```python\n",
    "    import re\n",
    "    text = \"Hello   world!\\nHow are you?\"\n",
    "    print(re.split(r'\\s+', text))\n",
    "    # Output: ['Hello', 'world!', 'How', 'are', 'you?']\n",
    "    ```\n",
    "\n",
    "__`pattern=r'(\\s)'`__\n",
    "- __Meaning__: Matches a single whitespace character, and the parentheses create a capturing group.\n",
    "- __Behavior in__ `re.split`: Splits the string at every single whitespace character, and includes the matched whitespace characters in the result as separate elements.\n",
    "- __Example__:\n",
    "    ```python\n",
    "    import re\n",
    "    text = \"Hello   world!\\nHow are you?\"\n",
    "    print(re.split(r'(\\s)', text))\n",
    "    # Output: ['Hello', ' ', '', ' ', '', ' ', 'world!', '\\n', 'How', ' ', 'are', ' ', 'you?']\n",
    "    ```\n",
    "\n",
    "__Summary Table:__\n",
    "\n",
    "| Pattern   | Splits on              | Includes whitespace in result? | Example Output                                      |\n",
    "|-----------|------------------------|--------------------------------|-----------------------------------------------------|\n",
    "| `r'\\s+'`  | Any run of whitespace  | No                             | `['Hello', 'world!', 'How', 'are', 'you?']`         |\n",
    "| `r'(\\s)'` | Each whitespace char   | Yes (as separate elements)     | `['Hello', ' ', '', ' ', '', ' ', ...]`             |\n",
    "\n",
    "__In short:__\n",
    "- Use `r'\\s+'` to split and discard whitespace.\n",
    "- Use `r'(\\s)'` to split and keep each whitespace character in the result.\n"
   ]
  },
  {
   "cell_type": "code",
   "execution_count": 2,
   "id": "2c9e278d",
   "metadata": {},
   "outputs": [
    {
     "name": "stdout",
     "output_type": "stream",
     "text": [
      "Sample of 1000 characters from 'the-verdict.txt':\n",
      "\n",
      "I HAD always thought Jack Gisburn rather a cheap genius--though a good fellow enough--so it was no great surprise to me to hear that, in the height of his glory, he had dropped his painting, married a rich widow, and established himself in a villa on the Riviera. (Though I rather thought it would have been Rome or Florence.)\n",
      "\n",
      "\"The height of his glory\"--that was what the women called it. I can hear Mrs. Gideon Thwing--his last Chicago sitter--deploring his unaccountable abdication. \"Of course it's going to send the value of my picture 'way up; but I don't think of that, Mr. Rickham--the loss to Arrt is all I think of.\" The word, on Mrs. Thwing's lips, multiplied its _rs_ as though they were reflected in an endless vista of mirrors. And it was not only the Mrs. Thwings who mourned. Had not the exquisite Hermia Croft, at the last Grafton Gallery show, stopped me before Gisburn's \"Moon-dancers\" to say, with tears in her eyes: \"We shall not look upon its like again\"?\n",
      "\n",
      "Well!--even through th\n",
      "\n",
      "Pattern: r'\\s+'\n",
      "Number of tokens in the sample: 176\n",
      "First 40 tokens in the sample:\n",
      "['I', 'HAD', 'always', 'thought', 'Jack', 'Gisburn', 'rather', 'a', 'cheap', 'genius--though', 'a', 'good', 'fellow', 'enough--so', 'it', 'was', 'no', 'great', 'surprise', 'to', 'me', 'to', 'hear', 'that,', 'in', 'the', 'height', 'of', 'his', 'glory,', 'he', 'had', 'dropped', 'his', 'painting,', 'married', 'a', 'rich', 'widow,', 'and']\n",
      "\n",
      "Pattern: r'(\\s)'\n",
      "Number of tokens in the sample: 355\n",
      "First 40 tokens in the sample:\n",
      "['I', ' ', 'HAD', ' ', 'always', ' ', 'thought', ' ', 'Jack', ' ', 'Gisburn', ' ', 'rather', ' ', 'a', ' ', 'cheap', ' ', 'genius--though', ' ', 'a', ' ', 'good', ' ', 'fellow', ' ', 'enough--so', ' ', 'it', ' ', 'was', ' ', 'no', ' ', 'great', ' ', 'surprise', ' ', 'to', ' ']\n",
      "\n",
      "Pattern: r'\\s+|[,.]'\n",
      "Number of tokens in the sample: 197\n",
      "First 40 tokens in the sample:\n",
      "['I', 'HAD', 'always', 'thought', 'Jack', 'Gisburn', 'rather', 'a', 'cheap', 'genius--though', 'a', 'good', 'fellow', 'enough--so', 'it', 'was', 'no', 'great', 'surprise', 'to', 'me', 'to', 'hear', 'that', '', 'in', 'the', 'height', 'of', 'his', 'glory', '', 'he', 'had', 'dropped', 'his', 'painting', '', 'married', 'a']\n",
      "\n",
      "Pattern: r'(\\s+|[,.])'\n",
      "Number of tokens in the sample: 393\n",
      "First 40 tokens in the sample:\n",
      "['I', ' ', 'HAD', ' ', 'always', ' ', 'thought', ' ', 'Jack', ' ', 'Gisburn', ' ', 'rather', ' ', 'a', ' ', 'cheap', ' ', 'genius--though', ' ', 'a', ' ', 'good', ' ', 'fellow', ' ', 'enough--so', ' ', 'it', ' ', 'was', ' ', 'no', ' ', 'great', ' ', 'surprise', ' ', 'to', ' ']\n",
      "\n"
     ]
    }
   ],
   "source": [
    "# Create a sample of text.\n",
    "n_chars = 1000\n",
    "n_tokens = 40\n",
    "text_sample = text_raw[:n_chars]\n",
    "print(f\"Sample of {n_chars} characters from '{file_name}':\\n\\n{text_sample}\\n\")\n",
    "\n",
    "# Split at 'white-space' (\\s) characters (excluding).\n",
    "pattern = r'\\s+'\n",
    "# Split the text into tokens.\n",
    "text_tokens = re.split(pattern=pattern, string=text_sample)\n",
    "print(f\"Pattern: r'{pattern}'\")\n",
    "print(f\"Number of tokens in the sample: {len(text_tokens)}\")\n",
    "print(f\"First {n_tokens} tokens in the sample:\\n{text_tokens[:n_tokens]}\\n\") # Print the first 10 tokens.\n",
    "\n",
    "# Split at 'white-space' character (including).\n",
    "pattern = r'(\\s)'\n",
    "text_tokens = re.split(pattern=pattern, string=text_sample)\n",
    "print(f\"Pattern: r'{pattern}'\")\n",
    "print(f\"Number of tokens in the sample: {len(text_tokens)}\")\n",
    "print(f\"First {n_tokens} tokens in the sample:\\n{text_tokens[:n_tokens]}\\n\")\n",
    "\n",
    "# Split at 'white-space' characters (\\s) and commas and period [,.] (excluding)\n",
    "pattern = r'\\s+|[,.]'\n",
    "text_tokens = re.split(pattern=pattern, string=text_sample)\n",
    "print(f\"Pattern: r'{pattern}'\")\n",
    "print(f\"Number of tokens in the sample: {len(text_tokens)}\")\n",
    "print(f\"First {n_tokens} tokens in the sample:\\n{text_tokens[:n_tokens]}\\n\")\n",
    "\n",
    "# Split at 'white-space' character (\\s) and commas and period [,.] (including).\n",
    "pattern = r'(\\s+|[,.])'\n",
    "text_tokens = re.split(pattern=pattern, string=text_sample)\n",
    "print(f\"Pattern: r'{pattern}'\")\n",
    "print(f\"Number of tokens in the sample: {len(text_tokens)}\")\n",
    "print(f\"First {n_tokens} tokens in the sample:\\n{text_tokens[:n_tokens]}\\n\")"
   ]
  },
  {
   "cell_type": "markdown",
   "id": "e0cdff1a",
   "metadata": {},
   "source": [
    "__`pattern = r'\\s+|([,.:;?_!\"()\\'-]|--)'`__\n",
    "\n",
    "When the above pattern is used, `None` values are generated in the split result because the regex pattern uses a capturing group.\n",
    "\n",
    "When a capturing group is used in `re.split`, the matched text for the group is included in the result. If a split occurs on the part that matches `\\s+` (whitespace), the capturing group does not match anything. Hence, `re.split` inserts `None` in the result for that split.\n",
    "\n",
    "__How to Fix?__\n",
    "After splitting, filter out `None` values from your token list.\n",
    "\n",
    "```python\n",
    "import re\n",
    "\n",
    "text = \"Hello   world! How are you? -- I'm fine.\"\n",
    "pattern = r'\\s+|([,.:;?_!\\\"()\\'-]|--)'\n",
    "tokens = re.split(pattern, text)\n",
    "# Remove None and empty strings\n",
    "tokens = [tok for tok in tokens if tok not in (None, '')]\n",
    "print(tokens)\n",
    "# Output: ['Hello', 'world', '!', 'How', 'are', 'you', '?', '--', \"I'm\", 'fine', '.']\n",
    "```"
   ]
  },
  {
   "cell_type": "code",
   "execution_count": 3,
   "id": "090b20b3",
   "metadata": {},
   "outputs": [
    {
     "name": "stdout",
     "output_type": "stream",
     "text": [
      "Pattern: r'\\s+|([,.:;?_!\"()\\'-]|--)'\n",
      "Number of tokens in the sample: 9341\n",
      "First 40 tokens in the sample:\n",
      "['I', None, 'HAD', None, 'always', None, 'thought', None, 'Jack', None, 'Gisburn', None, 'rather', None, 'a', None, 'cheap', None, 'genius', '-', '', '-', 'though', None, 'a', None, 'good', None, 'fellow', None, 'enough', '-', '', '-', 'so', None, 'it', None, 'was', None]\n",
      "\n",
      "Number of tokens in the sample (after cleaning): 4863\n",
      "First 40 tokens in the sample (after cleaning):\n",
      "['I', 'HAD', 'always', 'thought', 'Jack', 'Gisburn', 'rather', 'a', 'cheap', 'genius', '-', '-', 'though', 'a', 'good', 'fellow', 'enough', '-', '-', 'so', 'it', 'was', 'no', 'great', 'surprise', 'to', 'me', 'to', 'hear', 'that', ',', 'in', 'the', 'height', 'of', 'his', 'glory', ',', 'he', 'had']\n",
      "\n"
     ]
    }
   ],
   "source": [
    "# Split at 'white-space' character (\\s) (exclude them) and other special characters, like commas, period, etc. (include them).\n",
    "pattern = r'\\s+|([,.:;?_!\"()\\'-]|--)'\n",
    "text_tokens = re.split(pattern=pattern, string=text_raw)\n",
    "print(f\"Pattern: r'{pattern}'\")\n",
    "print(f\"Number of tokens in the sample: {len(text_tokens)}\")\n",
    "print(f\"First {n_tokens} tokens in the sample:\\n{text_tokens[:n_tokens]}\\n\")\n",
    "\n",
    "# Remove None and empty strings.\n",
    "text_tokens = [token for token in text_tokens if token not in (None, '')]\n",
    "print(f\"Number of tokens in the sample (after cleaning): {len(text_tokens)}\")\n",
    "print(f\"First {n_tokens} tokens in the sample (after cleaning):\\n{text_tokens[:n_tokens]}\\n\")"
   ]
  },
  {
   "cell_type": "code",
   "execution_count": 4,
   "id": "09c76e99",
   "metadata": {},
   "outputs": [
    {
     "name": "stdout",
     "output_type": "stream",
     "text": [
      "Number of unique tokens in 'unique_tokens': 1139\n",
      "\n",
      "First 20 unique tokens in 'unique_tokens':\n",
      "['!', '\"', \"'\", '(', ')', ',', '-', '.', ':', ';', '?', 'A', 'Ah', 'Among', 'And', 'Are', 'Arrt', 'As', 'At', 'Be']\n",
      "\n",
      "First 20 items in 'vocab_token_ids':\n",
      "[('!', 0), ('\"', 1), (\"'\", 2), ('(', 3), (')', 4), (',', 5), ('-', 6), ('.', 7), (':', 8), (';', 9), ('?', 10), ('A', 11), ('Ah', 12), ('Among', 13), ('And', 14), ('Are', 15), ('Arrt', 16), ('As', 17), ('At', 18), ('Be', 19)]\n",
      "\n",
      "First 20 items in 'reverse_vocab_token_ids':\n",
      "[(0, '!'), (1, '\"'), (2, \"'\"), (3, '('), (4, ')'), (5, ','), (6, '-'), (7, '.'), (8, ':'), (9, ';'), (10, '?'), (11, 'A'), (12, 'Ah'), (13, 'Among'), (14, 'And'), (15, 'Are'), (16, 'Arrt'), (17, 'As'), (18, 'At'), (19, 'Be')]\n"
     ]
    }
   ],
   "source": [
    "# Get unique tokens for the text.\n",
    "n_token_ids = 20\n",
    "unique_tokens = sorted(set(text_tokens))\n",
    "print(f\"Number of unique tokens in 'unique_tokens': {len(unique_tokens)}\\n\")\n",
    "print(f\"First {n_token_ids} unique tokens in 'unique_tokens':\\n{unique_tokens[:n_token_ids]}\\n\")\n",
    "\n",
    "# Create a dictionary of token ids.\n",
    "vocab_token_ids = {\n",
    "    token: token_id\n",
    "    for token_id, token in enumerate(unique_tokens)\n",
    "}\n",
    "print(f\"First {n_token_ids} items in 'vocab_token_ids':\\n{list(vocab_token_ids.items())[:n_token_ids]}\\n\")\n",
    "\n",
    "# Create a reverse dictionary of token ids.\n",
    "reverse_vocab_token_ids = {\n",
    "    token_id: token\n",
    "    for token, token_id in vocab_token_ids.items()\n",
    "}\n",
    "print(f\"First {n_token_ids} items in 'reverse_vocab_token_ids':\\n{list(reverse_vocab_token_ids.items())[:n_token_ids]}\")"
   ]
  },
  {
   "cell_type": "markdown",
   "id": "7573d564",
   "metadata": {},
   "source": [
    "Explanation for \n",
    "```python\n",
    "text = re.sub(r'\\s+([,.:;?_!\"()\\'-]|--)', r'\\1', text)\n",
    "```\n",
    "\n",
    "- Pattern: `r'\\s+([,.:;?_!\"()\\'-]|--)'`\n",
    "\n",
    "    - `\\s+` matches one or more whitespace characters (spaces, tabs, newlines, etc.).\n",
    "    - `([,.:;?_!\"()\\'-]|--)` is a capturing group that matches any one of the listed punctuation marks or a double dash (--).\n",
    "\n",
    "- Replacement: `r'\\1'`\n",
    "    - `\\1` refers to the text matched by the capturing group (the punctuation).\n",
    "\n",
    "- What it does:\n",
    "    - __Finds__: Any whitespace that comes immediately before one of the listed punctuation marks.\n",
    "    - __Replaces__: The whitespace and the punctuation with just the punctuation (removes the whitespace before punctuation).\n",
    "\n",
    "- Example:\n",
    "    ```python\n",
    "    text = \"Hello , world ! How are you ? -- I'm fine .\"\n",
    "    text = re.sub(r'\\s+([,.:;?_!\"()\\'-]|--)', r'\\1', text)\n",
    "    print(text)\n",
    "    # Hello, world! How are you?-- I'm fine.\n",
    "    ```\n",
    "\n",
    "- Summary:\n",
    "\n",
    "    This line removes any whitespace that appears before punctuation, so punctuation is directly attached to the preceding word. This is useful for detokenizing text after splitting punctuation into separate tokens."
   ]
  },
  {
   "cell_type": "code",
   "execution_count": 5,
   "id": "e3dc625b",
   "metadata": {},
   "outputs": [],
   "source": [
    "# Create a tokeniser class - version1.\n",
    "class SimpleTokeniserV1:\n",
    "    def __init__(self, vocab, pattern=r'\\s+|([,.:;?_!\"()\\'-]|--)'):\n",
    "        self.vocab = vocab\n",
    "        self.reverse_vocab = {value: key for key, value in vocab.items()}\n",
    "        self.pattern = pattern\n",
    "    \n",
    "    def encoder(self, text):\n",
    "        tokens = re.split(pattern=self.pattern, string=text)\n",
    "        tokens = [token for token in tokens if token not in (None, '')]\n",
    "\n",
    "        token_ids = [self.vocab[token] for token in tokens]\n",
    "\n",
    "        return token_ids\n",
    "        \n",
    "    def decoder(self, token_ids):\n",
    "        text = ' '.join([self.reverse_vocab[token_id] for token_id in token_ids])\n",
    "        # _tokens = [self.reverse_vocab[_token_id] for _token_id in token_ids]\n",
    "        # _text = ' '.join(_tokens) # Join tokens with a space.\n",
    "        \n",
    "        # Remove white-space before special characters.\n",
    "        text = re.sub(''.join(self.pattern.split('|', maxsplit=1)), r'\\1', text)\n",
    "\n",
    "        return text"
   ]
  },
  {
   "cell_type": "code",
   "execution_count": 6,
   "id": "7a13a578",
   "metadata": {},
   "outputs": [
    {
     "name": "stdout",
     "output_type": "stream",
     "text": [
      "Encoded text:\n",
      "[1, 68, 325, 5, 903, 53, 2, 1071, 263, 752, 768, 365, 2, 979, 864, 996, 954, 118, 666, 6, 6, 1003, 864, 588, 118, 105, 42, 5, 1, 1087, 551, 735, 807, 5, 175, 535, 854, 483, 997, 980, 157, 949, 742, 736, 997, 965, 992, 7]\n",
      "\n",
      "Decoded text:\n",
      "\" My dear, since I' ve chucked painting people don' t say that stuff about me-- they say it about Victor Grindle,\" was his only protest, as he rose from the table and strolled out onto the sunlit terrace.\n"
     ]
    }
   ],
   "source": [
    "# Test 'SimpleTokeniserV1' class.\n",
    "# Create a sample of text.\n",
    "text_sample = \"\"\"\n",
    "\"My dear, since I've chucked painting people don't say that stuff about me--they say it about Victor Grindle,\" was his only protest, as he rose from the table and strolled out onto the sunlit terrace.\n",
    "\"\"\"\n",
    "\n",
    "# Create a tokeniser object.\n",
    "tokeniser = SimpleTokeniserV1(vocab=vocab_token_ids)\n",
    "\n",
    "# Encode the text.\n",
    "text_encoded = tokeniser.encoder(text=text_sample)\n",
    "print(f\"Encoded text:\\n{text_encoded}\\n\")\n",
    "\n",
    "# Decode the text.\n",
    "text_decoded = tokeniser.decoder(token_ids=text_encoded)\n",
    "print(f\"Decoded text:\\n{text_decoded}\")"
   ]
  },
  {
   "cell_type": "code",
   "execution_count": 7,
   "id": "b0ee5362",
   "metadata": {},
   "outputs": [
    {
     "name": "stdout",
     "output_type": "stream",
     "text": [
      "Number of unique tokens in 'unique_tokens_all': 1139\n",
      "\n",
      "Number of unique tokens in 'unique_tokens_all' afterwards: 1141\n",
      "\n",
      "Last 10 items in 'vocab_token_ids_all':\n",
      "[('year', 1131), ('years', 1132), ('yellow', 1133), ('yet', 1134), ('you', 1135), ('younger', 1136), ('your', 1137), ('yourself', 1138), ('<|unk|>', 1139), ('<|endoftext|>', 1140)]\n",
      "\n",
      "Last 10 items in 'reverse_vocab_token_ids_all':\n",
      "[(1131, 'year'), (1132, 'years'), (1133, 'yellow'), (1134, 'yet'), (1135, 'you'), (1136, 'younger'), (1137, 'your'), (1138, 'yourself'), (1139, '<|unk|>'), (1140, '<|endoftext|>')]\n"
     ]
    }
   ],
   "source": [
    "n_token_ids = 10\n",
    "\n",
    "# Create unique tokens and add tokens for unknown ('<|unk|>') and end-of-text (<|endoftext|>).\n",
    "unique_tokens_all = sorted(set(text_tokens))\n",
    "print(f\"Number of unique tokens in 'unique_tokens_all': {len(unique_tokens_all)}\\n\")\n",
    "unique_tokens_all.extend(['<|unk|>', '<|endoftext|>'])\n",
    "print(f\"Number of unique tokens in 'unique_tokens_all' afterwards: {len(unique_tokens_all)}\\n\")\n",
    "\n",
    "# Create a dictionary of token ids.\n",
    "vocab_token_ids_all = {\n",
    "    token: token_id\n",
    "    for token_id, token in enumerate(unique_tokens_all)\n",
    "}\n",
    "print(f\"Last {n_token_ids} items in 'vocab_token_ids_all':\\n{list(vocab_token_ids_all.items())[-n_token_ids:]}\\n\")\n",
    "\n",
    "# Create a reverse dictionary of token ids.\n",
    "reverse_vocab_token_ids_all = {\n",
    "    token_id: token\n",
    "    for token, token_id in vocab_token_ids_all.items()\n",
    "}\n",
    "print(f\"Last {n_token_ids} items in 'reverse_vocab_token_ids_all':\\n{list(reverse_vocab_token_ids_all.items())[-n_token_ids:]}\")"
   ]
  },
  {
   "cell_type": "code",
   "execution_count": 8,
   "id": "b31a663d",
   "metadata": {},
   "outputs": [],
   "source": [
    "# Create updated tokeniser class - version2.\n",
    "class SimpleTokeniserV2:\n",
    "    def __init__(self, vocab, pattern=r'\\s+|([,.:;?_!\"()\\'-]|--)'):\n",
    "        self.vocab = vocab\n",
    "        self.reverse_vocab = {value: key for key, value in vocab.items()}\n",
    "        self.pattern = pattern\n",
    "    \n",
    "    def encoder(self, text):\n",
    "        tokens = re.split(pattern=self.pattern, string=text)\n",
    "        tokens = [token for token in tokens if token not in (None, '')]\n",
    "\n",
    "        # Add unknown token for unknown tokens.\n",
    "        tokens = [\n",
    "            token if token in self.vocab else '<|unk|>' \n",
    "            for token in tokens\n",
    "        ]\n",
    "        token_ids = [self.vocab[token] for token in tokens]\n",
    "\n",
    "        return token_ids\n",
    "        \n",
    "    def decoder(self, token_ids):\n",
    "        text = ' '.join([self.reverse_vocab[token_id] for token_id in token_ids])\n",
    "        \n",
    "        # Remove white-space before special characters.\n",
    "        text = re.sub(''.join(self.pattern.split('|', maxsplit=1)), r'\\1', text)\n",
    "\n",
    "        return text"
   ]
  },
  {
   "cell_type": "code",
   "execution_count": 9,
   "id": "72b51c9e",
   "metadata": {},
   "outputs": [
    {
     "name": "stdout",
     "output_type": "stream",
     "text": [
      "Text sample with 'end-of-text' token:\n",
      "Hello, world...!!! <|endoftext|> Welcome to the world of LLMs.\n",
      "\n",
      "Encoded text:\n",
      "[1139, 5, 1139, 7, 7, 7, 0, 0, 0, 1140, 1139, 1025, 997, 1139, 726, 1139, 7]\n",
      "\n",
      "Decoded text:\n",
      "<|unk|>, <|unk|>...!!! <|endoftext|> <|unk|> to the <|unk|> of <|unk|>.\n"
     ]
    }
   ],
   "source": [
    "# Test 'SimpleTokeniserV2' class.\n",
    "# Create a sample of text.\n",
    "text_01 = \"\"\"Hello, world...!!!\"\"\"\n",
    "text_02 = \"\"\"Welcome to the world of LLMs.\"\"\"\n",
    "\n",
    "# Create 'end-of-text' token.\n",
    "text_sample = ' <|endoftext|> '.join((text_01, text_02))\n",
    "print(f\"Text sample with 'end-of-text' token:\\n{text_sample}\\n\")\n",
    "\n",
    "# Create a tokeniser object.\n",
    "tokeniser = SimpleTokeniserV2(vocab=vocab_token_ids_all)\n",
    "\n",
    "# Encode the text.\n",
    "text_encoded = tokeniser.encoder(text=text_sample)\n",
    "print(f\"Encoded text:\\n{text_encoded}\\n\")\n",
    "\n",
    "# Decode the text.\n",
    "text_decoded = tokeniser.decoder(token_ids=text_encoded)\n",
    "print(f\"Decoded text:\\n{text_decoded}\")"
   ]
  },
  {
   "cell_type": "markdown",
   "id": "13d2ad4a",
   "metadata": {},
   "source": [
    "Tokeniser - BPE (byte pair encoding)."
   ]
  },
  {
   "cell_type": "code",
   "execution_count": 10,
   "id": "736b13aa",
   "metadata": {},
   "outputs": [
    {
     "name": "stdout",
     "output_type": "stream",
     "text": [
      "importlib.metadata.version('tiktoken') = '0.9.0'\n"
     ]
    }
   ],
   "source": [
    "# uv add tiktoken\n",
    "import importlib\n",
    "import tiktoken\n",
    "\n",
    "print(f\"{importlib.metadata.version('tiktoken') = }\")"
   ]
  },
  {
   "cell_type": "markdown",
   "id": "73d596e6",
   "metadata": {},
   "source": [
    "```python\n",
    "?tiktoken.get_encoding\n",
    "# help(tiktoken.get_encoding)\n",
    "```\n",
    "\n",
    "```\n",
    "Signature: tiktoken.get_encoding(encoding_name: 'str') -> 'Encoding'\n",
    "Docstring: <no docstring>\n",
    "File:      ~/Study/github/python-examples/llm-from-scratch/.venv/lib/python3.11/site-packages/tiktoken/registry.py\n",
    "Type:      function\n",
    "```"
   ]
  },
  {
   "cell_type": "markdown",
   "id": "6fb146e8",
   "metadata": {},
   "source": [
    "Example"
   ]
  },
  {
   "cell_type": "code",
   "execution_count": 11,
   "id": "3e2b3970",
   "metadata": {},
   "outputs": [],
   "source": [
    "# Create a tokeniser instance with 'tiktoken'.\n",
    "tokeniser = tiktoken.get_encoding(encoding_name='gpt2')"
   ]
  },
  {
   "cell_type": "code",
   "execution_count": 12,
   "id": "734da371",
   "metadata": {},
   "outputs": [
    {
     "name": "stdout",
     "output_type": "stream",
     "text": [
      "Encoded text with 'line-break':\n",
      "[198, 15496, 11, 995, 986, 10185, 19134, 284, 262, 995, 286, 27140, 10128, 13, 198]\n",
      "\n",
      "Encoded text with 'line-break' and 'end-of-text':\n",
      "[198, 15496, 11, 995, 986, 10185, 220, 50256, 19134, 284, 262, 995, 286, 27140, 10128, 220, 50256, 13, 198]\n",
      "\n",
      "Encoded text without 'line-break' and with 'end-of-text':\n",
      "[15496, 11, 995, 986, 10185, 220, 50256, 19134, 284, 262, 995, 286, 27140, 10128, 220, 50256, 13]\n"
     ]
    }
   ],
   "source": [
    "# Define a sample text.\n",
    "text_sample = \"\"\"\n",
    "Hello, world...!!! Welcome to the world of LLMs.\n",
    "\"\"\"\n",
    "# Encode the text.\n",
    "text_encoded = tokeniser.encode(text=text_sample, allowed_special='all')\n",
    "print(f\"Encoded text with 'line-break':\\n{text_encoded}\\n\")\n",
    "\n",
    "text_sample = \"\"\"\n",
    "Hello, world...!!! <|endoftext|> Welcome to the world of LLMs <|endoftext|>.\n",
    "\"\"\"\n",
    "# Encode the text.\n",
    "text_encoded = tokeniser.encode(text=text_sample, allowed_special='all')\n",
    "print(f\"Encoded text with 'line-break' and 'end-of-text':\\n{text_encoded}\\n\")\n",
    "\n",
    "text_sample = \"\"\"Hello, world...!!! <|endoftext|> Welcome to the world of LLMs <|endoftext|>.\"\"\"\n",
    "# Encode the text.\n",
    "text_encoded = tokeniser.encode(text=text_sample, allowed_special='all')\n",
    "print(f\"Encoded text without 'line-break' and with 'end-of-text':\\n{text_encoded}\")"
   ]
  },
  {
   "cell_type": "code",
   "execution_count": 13,
   "id": "e85453f6",
   "metadata": {},
   "outputs": [
    {
     "name": "stdout",
     "output_type": "stream",
     "text": [
      "Encoded text:\n",
      "[198, 15496, 11, 995, 986, 10185, 220, 50256, 19134, 284, 262, 995, 286, 27140, 10128, 13, 198]\n",
      "\n",
      "Decoded text:\n",
      "\n",
      "Hello, world...!!! <|endoftext|> Welcome to the world of LLMs.\n",
      "\n"
     ]
    }
   ],
   "source": [
    "# Define a sample text.\n",
    "text_sample = \"\"\"\n",
    "Hello, world...!!! <|endoftext|> Welcome to the world of LLMs.\n",
    "\"\"\"\n",
    "\n",
    "# Encode the text.\n",
    "text_encoded = tokeniser.encode(text=text_sample, allowed_special='all')\n",
    "print(f\"Encoded text:\\n{text_encoded}\\n\")\n",
    "\n",
    "# Decode the text.\n",
    "text_decoded = tokeniser.decode(tokens=text_encoded)\n",
    "print(f\"Decoded text:\\n{text_decoded}\")"
   ]
  },
  {
   "cell_type": "code",
   "execution_count": 14,
   "id": "300ee916",
   "metadata": {},
   "outputs": [
    {
     "name": "stdout",
     "output_type": "stream",
     "text": [
      "Encoded 'random' text:\n",
      "[198, 11994, 11322, 70, 28747, 767, 4089, 41060, 10563, 4, 3, 73, 85, 6592, 366, 25, 4211, 43, 5769, 28104, 198]\n",
      "\n",
      "Decoded 'random' text:\n",
      "\n",
      "hsakhgkk 798796 ^%$jvja \":>>L)(*)\n",
      "\n"
     ]
    }
   ],
   "source": [
    "# Define random text.\n",
    "text_sample = \"\"\"\n",
    "hsakhgkk 798796 ^%$jvja \":>>L)(*)\n",
    "\"\"\"\n",
    "\n",
    "# Encode the text.\n",
    "text_encoded = tokeniser.encode(text=text_sample, allowed_special='all')\n",
    "print(f\"Encoded 'random' text:\\n{text_encoded}\\n\")\n",
    "\n",
    "# Decode the text.\n",
    "text_decoded = tokeniser.decode(tokens=text_encoded)\n",
    "print(f\"Decoded 'random' text:\\n{text_decoded}\")"
   ]
  },
  {
   "cell_type": "markdown",
   "id": "b2414159",
   "metadata": {},
   "source": [
    "Create `input-target` pairs."
   ]
  },
  {
   "cell_type": "code",
   "execution_count": 15,
   "id": "0c60fc48",
   "metadata": {},
   "outputs": [
    {
     "name": "stdout",
     "output_type": "stream",
     "text": [
      "I HAD always thought Jack Gisburn rather a cheap genius--though a good fellow enough--so it was no great surprise to me to hear that, in the height of his glory, he had dropped his painting, married a rich widow, and established himself in a villa on the Riviera. (Though I rather thought it would have been Rome or Florence.)\n",
      "\n",
      "\"The height of his glory\"--that was what the women called it. I can hear Mrs. Gideon Thwing--his last Chicago sitter--deploring his unaccountable abdication. \"Of course it'\n"
     ]
    }
   ],
   "source": [
    "print(text_raw[:500])"
   ]
  },
  {
   "cell_type": "code",
   "execution_count": 16,
   "id": "5dc95667",
   "metadata": {},
   "outputs": [
    {
     "name": "stdout",
     "output_type": "stream",
     "text": [
      "Sample of encoded text:\n",
      "[40, 367, 2885, 1464, 1807, 3619, 402, 271, 10899, 2138, 257, 7026, 15632, 438, 2016, 257, 922, 5891, 1576, 438, 568, 340, 373, 645, 1049, 5975, 284, 502, 284, 3285, 326, 11, 287, 262, 6001, 286, 465, 13476, 11, 339, 550, 5710, 465, 12036, 11, 6405, 257, 5527, 27075, 11, 290, 4920, 2241, 287, 257, 4489, 64, 319, 262, 34686, 41976, 13, 357, 10915, 314, 2138, 1807, 340, 561, 423, 587, 10598, 393, 28537, 2014, 198, 198, 1, 464, 6001, 286, 465, 13476, 1, 438, 5562, 373, 644, 262, 1466, 1444, 340, 13, 314, 460, 3285, 9074, 13, 46606, 536]\n",
      "\n",
      "Number of tokens in the text: 5145\n",
      "\n",
      "====================================================================================================\n",
      "\n",
      "Sample of decoded text:\n",
      "I HAD always thought Jack Gisburn rather a cheap genius--though a good fellow enough--so it was no great surprise to me to hear that, in the height of his glory, he had dropped his painting, married a rich widow, and established himself in a villa on the Riviera. (Though I rather thought it would have been Rome or Florence.)\n",
      "\n",
      "\"The height of his glory\"--that was what the women called it. I can hear Mrs. Gideon Th\n",
      "\n",
      "Random sample of decoded text:\n",
      " and established himself in a villa on the Riviera. (Though I rather thought it would have been Rome or Florence.)\n",
      "\n",
      "\"The height of his glory\"--that was what the women called it. I can hear Mrs. Gideon Th\n"
     ]
    }
   ],
   "source": [
    "text_encoded = tokeniser.encode(text=text_raw, allowed_special='all')\n",
    "print(f\"Sample of encoded text:\\n{text_encoded[:100]}\\n\")\n",
    "print(f\"Number of tokens in the text: {len(text_encoded)}\\n\")\n",
    "\n",
    "print(f\"{'=='*50}\\n\")\n",
    "print(f\"Sample of decoded text:\\n{tokeniser.decode(tokens=text_encoded[:100])}\\n\")\n",
    "print(f\"Random sample of decoded text:\\n{tokeniser.decode(tokens=text_encoded[50:100])}\")"
   ]
  },
  {
   "cell_type": "code",
   "execution_count": 17,
   "id": "3bfdd7c3",
   "metadata": {},
   "outputs": [
    {
     "name": "stdout",
     "output_type": "stream",
     "text": [
      "'x': [40, 367, 2885, 1464]\n",
      "'y': \t[367, 2885, 1464, 1807]\n",
      "\n",
      "====================================================================================================\n",
      "\n",
      "[40] ---> 367\n",
      "[40, 367] ---> 2885\n",
      "[40, 367, 2885] ---> 1464\n",
      "[40, 367, 2885, 1464] ---> 1807\n",
      "====================================================================================================\n",
      "\n",
      "I --->  H\n",
      "I H ---> AD\n",
      "I HAD --->  always\n",
      "I HAD always --->  thought\n"
     ]
    }
   ],
   "source": [
    "context_size = 4 # length of the input.\n",
    "\n",
    "x = text_encoded[:context_size]\n",
    "y = text_encoded[1:context_size + 1]\n",
    "\n",
    "print(f\"'x': {x}\")\n",
    "print(f\"'y': \\t{y}\\n\")\n",
    "\n",
    "print(f\"{'=='*50}\\n\")\n",
    "for i in range(1, context_size + 1):\n",
    "    x = text_encoded[:i]\n",
    "    y = text_encoded[i]\n",
    "    print(f\"{x} ---> {y}\")\n",
    "\n",
    "print(f\"{'=='*50}\\n\")\n",
    "for i in range(1, context_size + 1):\n",
    "    x = tokeniser.decode(tokens=text_encoded[:i])\n",
    "    y = tokeniser.decode(tokens=[text_encoded[i]])\n",
    "    print(f\"{x} ---> {y}\")\n"
   ]
  },
  {
   "cell_type": "markdown",
   "id": "1ba0f197",
   "metadata": {},
   "source": [
    "Implement a `DataLoader`"
   ]
  },
  {
   "cell_type": "code",
   "execution_count": 18,
   "id": "c8f3aa56",
   "metadata": {},
   "outputs": [],
   "source": [
    "# uv add torch torchvision\n",
    "import torch\n",
    "from torch.utils.data import Dataset, DataLoader\n",
    "\n",
    "class GPTDatasetV1(Dataset):\n",
    "    def __init__(self, text, tokeniser, context_length, stride):\n",
    "        self.input_ids = []\n",
    "        self.target_ids = []\n",
    "\n",
    "        # Tokenizes the entire text.\n",
    "        token_ids = tokeniser.encode(text=text, allowed_special='all')\n",
    "\n",
    "        # [i for i in range(0, (45 - 4), 4)]\n",
    "        # [0, 4, 8, 12, 16, 20, 24, 28, 32, 36, 40]\n",
    "\n",
    "        # Uses a sliding window to chunk the book into overlapping sequences of max_length.\n",
    "        for i in range(0, len(token_ids) - context_length, stride):\n",
    "            input_chunk = token_ids[i:i + context_length]\n",
    "            target_chunk = token_ids[i + 1:i + context_length + 1]\n",
    "            self.input_ids.append(torch.tensor(input_chunk))\n",
    "            self.target_ids.append(torch.tensor(target_chunk))\n",
    "\n",
    "    # Returns the total number of rows in the dataset.\n",
    "    def __len__(self):\n",
    "        return(len(self.input_ids))\n",
    "    \n",
    "    # Returns a single row from the dataset.\n",
    "    def __getitem__(self, idx):\n",
    "        return self.input_ids[idx], self.target_ids[idx]"
   ]
  },
  {
   "cell_type": "code",
   "execution_count": 19,
   "id": "e3b0aa8d",
   "metadata": {},
   "outputs": [],
   "source": [
    "# help(DataLoader)"
   ]
  },
  {
   "cell_type": "code",
   "execution_count": 20,
   "id": "335036af",
   "metadata": {},
   "outputs": [],
   "source": [
    "def create_dataloader_v1(\n",
    "        text, batch_size=4, context_length=256,\n",
    "        stride=128, shuffle=True, drop_last=True, num_workers=0\n",
    "):\n",
    "    # Initializes the tokenizer.\n",
    "    tokeniser = tiktoken.get_encoding(encoding_name='gpt2')\n",
    "\n",
    "    # Creates dataset.\n",
    "    dataset = GPTDatasetV1(\n",
    "        text=text, tokeniser=tokeniser,\n",
    "        context_length=context_length, stride=stride\n",
    "    )\n",
    "\n",
    "    # Creates dataloader.\n",
    "    dataloader = DataLoader(\n",
    "        dataset=dataset, # dataset from which to load the data.\n",
    "        batch_size=batch_size, # number of samples per batch to load.\n",
    "        shuffle=shuffle,\n",
    "        num_workers=num_workers, # number of subprocesses (CPU processes) to use for data loading.\n",
    "        drop_last=drop_last # drop the last incomplete batch, if the dataset size is not divisible by the batch size.\n",
    "    )\n",
    "\n",
    "    return dataloader"
   ]
  },
  {
   "cell_type": "code",
   "execution_count": 21,
   "id": "338f93a6",
   "metadata": {},
   "outputs": [
    {
     "name": "stdout",
     "output_type": "stream",
     "text": [
      "PyTorch version: 2.7.0\n",
      "\n",
      "First batch of input ids (x):\n",
      "tensor([[  40,  367, 2885, 1464]])\n",
      "\n",
      "First batch of target ids (y):\n",
      "tensor([[ 367, 2885, 1464, 1807]])\n",
      "\n",
      "Second batch of input ids (x):\n",
      "tensor([[ 367, 2885, 1464, 1807]])\n",
      "\n",
      "Second batch of target ids (y):\n",
      "tensor([[2885, 1464, 1807, 3619]])\n"
     ]
    }
   ],
   "source": [
    "# Check PyTorch version.\n",
    "print(f\"PyTorch version: {torch.__version__}\\n\")\n",
    "\n",
    "# Read the text/book.\n",
    "with open(file=os.path.join(os.getcwd(), folder_name, file_name), mode='r', encoding='utf-8') as f:\n",
    "    text_raw = f.read()\n",
    "\n",
    "# Load the text into a DataLoader.\n",
    "dataloader = create_dataloader_v1(\n",
    "    text=text_raw, batch_size=1, context_length=4,\n",
    "    stride=1, shuffle=False, num_workers=0\n",
    ")\n",
    "\n",
    "# Converts dataloader into a Python iterator to fetch the next entry via Python’s built-in next() function.\n",
    "data_iter = iter(dataloader)\n",
    "# list(data_iter)\n",
    "\n",
    "# Fetch the first entry from the dataloader.\n",
    "x, y = next(data_iter)\n",
    "\n",
    "# Print the first batch.\n",
    "print(f\"First batch of input ids (x):\\n{x}\\n\")\n",
    "print(f\"First batch of target ids (y):\\n{y}\\n\")\n",
    "\n",
    "# Fetch the second entry from the dataloader.\n",
    "x, y = next(data_iter)\n",
    "\n",
    "# Print the second batch.\n",
    "print(f\"Second batch of input ids (x):\\n{x}\\n\")\n",
    "print(f\"Second batch of target ids (y):\\n{y}\")\n",
    "\n",
    "# print(next(data_iter))"
   ]
  },
  {
   "cell_type": "code",
   "execution_count": 22,
   "id": "81392ea1",
   "metadata": {},
   "outputs": [
    {
     "name": "stdout",
     "output_type": "stream",
     "text": [
      "Sample of encoded text:\n",
      "[40, 367, 2885, 1464, 1807, 3619, 402, 271, 10899, 2138, 257, 7026, 15632, 438, 2016, 257, 922, 5891, 1576, 438, 568, 340, 373, 645, 1049, 5975, 284, 502, 284, 3285, 326, 11, 287, 262, 6001, 286, 465, 13476, 11, 339, 550, 5710, 465, 12036, 11, 6405, 257, 5527, 27075, 11, 290, 4920, 2241, 287, 257, 4489, 64, 319, 262, 34686, 41976, 13, 357, 10915, 314, 2138, 1807, 340, 561, 423, 587, 10598, 393, 28537, 2014, 198, 198, 1, 464, 6001, 286, 465, 13476, 1, 438, 5562, 373, 644, 262, 1466, 1444, 340, 13, 314, 460, 3285, 9074, 13, 46606, 536]\n"
     ]
    }
   ],
   "source": [
    "text_encoded = tokeniser.encode(text=text_raw, allowed_special='all')\n",
    "print(f\"Sample of encoded text:\\n{text_encoded[:100]}\")"
   ]
  },
  {
   "cell_type": "code",
   "execution_count": 23,
   "id": "04a6e877",
   "metadata": {},
   "outputs": [
    {
     "name": "stdout",
     "output_type": "stream",
     "text": [
      "batch_size = 4, stride = 1\n",
      "\n",
      "====================================================================================================\n",
      "\n",
      "First batch of input ids (x):\n",
      "tensor([[  40,  367, 2885, 1464],\n",
      "        [ 367, 2885, 1464, 1807],\n",
      "        [2885, 1464, 1807, 3619],\n",
      "        [1464, 1807, 3619,  402]])\n",
      "\n",
      "First batch of target ids (y):\n",
      "tensor([[ 367, 2885, 1464, 1807],\n",
      "        [2885, 1464, 1807, 3619],\n",
      "        [1464, 1807, 3619,  402],\n",
      "        [1807, 3619,  402,  271]])\n",
      "\n",
      "Second batch of input ids (x):\n",
      "tensor([[ 1807,  3619,   402,   271],\n",
      "        [ 3619,   402,   271, 10899],\n",
      "        [  402,   271, 10899,  2138],\n",
      "        [  271, 10899,  2138,   257]])\n",
      "\n",
      "Second batch of target ids (y):\n",
      "tensor([[ 3619,   402,   271, 10899],\n",
      "        [  402,   271, 10899,  2138],\n",
      "        [  271, 10899,  2138,   257],\n",
      "        [10899,  2138,   257,  7026]])\n"
     ]
    }
   ],
   "source": [
    "# Define batch size.\n",
    "batch_size, stride = 4, 1\n",
    "print(f\"{batch_size = }, {stride = }\\n\")\n",
    "print(f\"{'=='*50}\\n\")\n",
    "\n",
    "dataloader = create_dataloader_v1(\n",
    "    text=text_raw, batch_size=batch_size, context_length=4,\n",
    "    stride=stride, shuffle=False, num_workers=0\n",
    ")\n",
    "data_iter = iter(dataloader)\n",
    "\n",
    "# Print the first batch.\n",
    "x, y = next(data_iter)\n",
    "print(f\"First batch of input ids (x):\\n{x}\\n\")\n",
    "print(f\"First batch of target ids (y):\\n{y}\\n\")\n",
    "\n",
    "# Print the second batch.\n",
    "x, y = next(data_iter)\n",
    "print(f\"Second batch of input ids (x):\\n{x}\\n\")\n",
    "print(f\"Second batch of target ids (y):\\n{y}\")"
   ]
  },
  {
   "cell_type": "markdown",
   "id": "3245999a",
   "metadata": {},
   "source": [
    "Token/Vector embedding."
   ]
  },
  {
   "cell_type": "code",
   "execution_count": 24,
   "id": "b0cf8a29",
   "metadata": {},
   "outputs": [
    {
     "name": "stdout",
     "output_type": "stream",
     "text": [
      "Model path: /Users/shaz/gensim-data/word2vec-google-news-300/word2vec-google-news-300.gz\n",
      "\n",
      "Help on function load in module gensim.downloader:\n",
      "\n",
      "load(name, return_path=False)\n",
      "    Download (if needed) dataset/model and load it to memory (unless `return_path` is set).\n",
      "    \n",
      "    Parameters\n",
      "    ----------\n",
      "    name: str\n",
      "        Name of the model/dataset.\n",
      "    return_path: bool, optional\n",
      "        If True, return full path to file, otherwise, return loaded model / iterable dataset.\n",
      "    \n",
      "    Returns\n",
      "    -------\n",
      "    Model\n",
      "        Requested model, if `name` is model and `return_path` == False.\n",
      "    Dataset (iterable)\n",
      "        Requested dataset, if `name` is dataset and `return_path` == False.\n",
      "    str\n",
      "        Path to file with dataset / model, only when `return_path` == True.\n",
      "    \n",
      "    Raises\n",
      "    ------\n",
      "    Exception\n",
      "        Raised if `name` is incorrect.\n",
      "    \n",
      "    Examples\n",
      "    --------\n",
      "    Model example:\n",
      "    \n",
      "    .. sourcecode:: pycon\n",
      "    \n",
      "        >>> import gensim.downloader as api\n",
      "        >>>\n",
      "        >>> model = api.load(\"glove-twitter-25\")  # load glove vectors\n",
      "        >>> model.most_similar(\"cat\")  # show words that similar to word 'cat'\n",
      "    \n",
      "    Dataset example:\n",
      "    \n",
      "    .. sourcecode:: pycon\n",
      "    \n",
      "        >>> import gensim.downloader as api\n",
      "        >>>\n",
      "        >>> wiki = api.load(\"wiki-en\")  # load extracted Wikipedia dump, around 6 Gb\n",
      "        >>> for article in wiki:  # iterate over all wiki script\n",
      "        >>>     pass\n",
      "    \n",
      "    Download only example:\n",
      "    \n",
      "    .. sourcecode:: pycon\n",
      "    \n",
      "        >>> import gensim.downloader as api\n",
      "        >>>\n",
      "        >>> print(api.load(\"wiki-en\", return_path=True))  # output: /home/user/gensim-data/wiki-en/wiki-en.gz\n",
      "\n",
      "None\n"
     ]
    }
   ],
   "source": [
    "# uv add gensim\n",
    "# from gensim.models import Word2Vec\n",
    "import gensim.downloader as api\n",
    "\n",
    "model = api.load(name='word2vec-google-news-300', return_path=True)\n",
    "print(f\"Model path: {model}\\n\")\n",
    "\n",
    "print(help(api.load))"
   ]
  },
  {
   "cell_type": "code",
   "execution_count": 25,
   "id": "5f4db7db",
   "metadata": {},
   "outputs": [
    {
     "name": "stdout",
     "output_type": "stream",
     "text": [
      "Model type: <class 'gensim.models.keyedvectors.KeyedVectors'>\n"
     ]
    }
   ],
   "source": [
    "model = api.load(name='word2vec-google-news-300', return_path=False)\n",
    "print(f\"Model type: {type(model)}\")"
   ]
  },
  {
   "cell_type": "code",
   "execution_count": 26,
   "id": "7a807a91",
   "metadata": {},
   "outputs": [
    {
     "name": "stdout",
     "output_type": "stream",
     "text": [
      "Token/Vector embedding for the word 'cricket':\n",
      "[-3.67187500e-01 -1.21582031e-01  2.85156250e-01  8.15429688e-02\n",
      "  3.19824219e-02 -3.19824219e-02  1.34765625e-01 -2.73437500e-01\n",
      "  9.46044922e-03 -1.07421875e-01  2.48046875e-01 -6.05468750e-01\n",
      "  5.02929688e-02  2.98828125e-01  9.57031250e-02  1.39648438e-01\n",
      " -5.41992188e-02  2.91015625e-01  2.85156250e-01  1.51367188e-01\n",
      " -2.89062500e-01 -3.46679688e-02  1.81884766e-02 -3.92578125e-01\n",
      "  2.46093750e-01  2.51953125e-01 -9.86328125e-02  3.22265625e-01\n",
      "  4.49218750e-01 -1.36718750e-01 -2.34375000e-01  4.12597656e-02\n",
      " -2.15820312e-01  1.69921875e-01  2.56347656e-02  1.50146484e-02\n",
      " -3.75976562e-02  6.95800781e-03  4.00390625e-01  2.09960938e-01\n",
      "  1.17675781e-01 -4.19921875e-02  2.34375000e-01  2.03125000e-01\n",
      " -1.86523438e-01 -2.46093750e-01  3.12500000e-01 -2.59765625e-01\n",
      " -1.06933594e-01  1.04003906e-01 -1.79687500e-01  5.71289062e-02\n",
      " -7.41577148e-03 -5.59082031e-02  7.61718750e-02 -4.14062500e-01\n",
      " -3.65234375e-01 -3.35937500e-01 -1.54296875e-01 -2.39257812e-01\n",
      " -3.73046875e-01  2.27355957e-03 -3.51562500e-01  8.64257812e-02\n",
      "  1.26953125e-01  2.21679688e-01 -9.86328125e-02  1.08886719e-01\n",
      "  3.65234375e-01 -5.66406250e-02  5.66406250e-02 -1.09375000e-01\n",
      " -1.66992188e-01 -4.54101562e-02 -2.00195312e-01 -1.22558594e-01\n",
      "  1.31835938e-01 -1.31835938e-01  1.03027344e-01 -3.41796875e-01\n",
      " -1.57226562e-01  2.04101562e-01  4.39453125e-02  2.44140625e-01\n",
      " -3.19824219e-02  3.20312500e-01 -4.41894531e-02  1.08398438e-01\n",
      " -4.98046875e-02 -9.52148438e-03  2.46093750e-01 -5.59082031e-02\n",
      "  4.07714844e-02 -1.78222656e-02 -2.95410156e-02  1.65039062e-01\n",
      "  5.03906250e-01 -2.81250000e-01  9.81445312e-02  1.80664062e-02\n",
      " -1.83593750e-01  2.53906250e-01  2.25585938e-01  1.63574219e-02\n",
      "  1.81640625e-01  1.38671875e-01  3.33984375e-01  1.39648438e-01\n",
      "  1.45874023e-02 -2.89306641e-02 -8.39843750e-02  1.50390625e-01\n",
      "  1.67968750e-01  2.28515625e-01  3.59375000e-01  1.22558594e-01\n",
      " -3.28125000e-01 -1.56250000e-01  2.77343750e-01  1.77001953e-02\n",
      " -1.46484375e-01 -4.51660156e-03 -4.46777344e-02  1.75781250e-01\n",
      " -3.75000000e-01  1.16699219e-01 -1.39648438e-01  2.55859375e-01\n",
      " -1.96289062e-01 -2.57568359e-02 -5.41992188e-02 -2.51464844e-02\n",
      " -1.93359375e-01 -3.17382812e-02 -8.74023438e-02 -1.32812500e-01\n",
      " -2.12402344e-02  4.33593750e-01 -5.20019531e-02  3.46679688e-02\n",
      "  8.00781250e-02  3.41796875e-02  1.99218750e-01 -2.39257812e-02\n",
      " -2.37304688e-01  1.93359375e-01  7.32421875e-02 -2.87109375e-01\n",
      "  1.25000000e-01  8.44726562e-02  1.30859375e-01 -2.19726562e-01\n",
      " -1.61132812e-01 -2.63671875e-01 -5.46875000e-01 -2.96875000e-01\n",
      "  3.44238281e-02 -2.87109375e-01 -1.93359375e-01 -1.61132812e-01\n",
      " -3.84765625e-01 -2.14843750e-01 -6.22558594e-03 -1.27929688e-01\n",
      " -1.00097656e-01 -6.21093750e-01  3.78906250e-01 -4.58984375e-01\n",
      "  1.44531250e-01 -9.13085938e-02 -3.08593750e-01  2.23632812e-01\n",
      "  7.86132812e-02 -2.16796875e-01  8.78906250e-02 -1.66992188e-01\n",
      "  1.14746094e-02 -2.53906250e-01 -6.25000000e-02  6.04248047e-03\n",
      "  1.56250000e-01  4.37500000e-01 -2.23632812e-01 -2.32421875e-01\n",
      "  2.75390625e-01  2.39257812e-01  4.49218750e-02 -7.51953125e-02\n",
      "  5.74218750e-01 -2.61230469e-02 -1.21582031e-01  2.44140625e-01\n",
      " -3.37890625e-01  8.59375000e-02 -7.71484375e-02  4.85839844e-02\n",
      "  1.43554688e-01  4.25781250e-01 -4.29687500e-02 -1.08398438e-01\n",
      "  1.19628906e-01 -1.91406250e-01 -2.12890625e-01 -2.87109375e-01\n",
      " -1.14746094e-01 -2.04101562e-01 -2.06298828e-02 -2.53906250e-01\n",
      "  8.25195312e-02 -3.97949219e-02 -1.57226562e-01  1.34765625e-01\n",
      "  2.08007812e-01 -1.78710938e-01 -2.00195312e-02 -8.34960938e-02\n",
      " -1.20605469e-01  4.29687500e-02 -1.94335938e-01 -1.32812500e-01\n",
      " -2.17285156e-02 -2.35351562e-01 -3.63281250e-01  1.51367188e-01\n",
      "  9.32617188e-02  1.63085938e-01  1.02050781e-01 -4.27734375e-01\n",
      "  2.83203125e-01  2.74658203e-04 -3.20312500e-01  1.68457031e-02\n",
      "  4.06250000e-01 -5.24902344e-02  7.91015625e-02 -1.41601562e-01\n",
      "  5.27343750e-01 -1.26953125e-01  4.74609375e-01 -6.64062500e-02\n",
      "  3.41796875e-01 -1.78710938e-01  3.69140625e-01 -2.05078125e-01\n",
      "  5.82885742e-03 -1.84570312e-01 -8.88671875e-02 -1.81640625e-01\n",
      " -4.80957031e-02  4.39453125e-01  2.12890625e-01 -3.07617188e-02\n",
      "  9.32617188e-02  2.40234375e-01  2.39257812e-01  2.51953125e-01\n",
      " -1.98974609e-02  1.24511719e-01 -4.73632812e-02 -2.13623047e-02\n",
      "  3.12500000e-02  3.05175781e-02  2.79296875e-01  9.08203125e-02\n",
      " -2.02148438e-01 -2.19726562e-02 -2.63671875e-01  8.78906250e-02\n",
      " -1.07421875e-01 -2.49023438e-01 -1.22070312e-02  1.73828125e-01\n",
      " -9.91210938e-02  7.27539062e-02  2.59765625e-01 -4.60937500e-01\n",
      "  3.59375000e-01 -2.25585938e-01  1.87988281e-02 -2.19726562e-01\n",
      " -2.08984375e-01 -1.51367188e-01  8.64257812e-02  1.11694336e-02\n",
      "  6.93359375e-02 -2.99072266e-02  1.43554688e-01  1.89453125e-01\n",
      " -1.32812500e-01  4.72656250e-01 -1.40625000e-01 -2.52685547e-02\n",
      "  1.91406250e-01 -2.63671875e-01 -1.39648438e-01  1.09375000e-01\n",
      "  1.97753906e-02  2.49023438e-01 -1.42578125e-01  4.15039062e-02]\n",
      "\n",
      "====================================================================================================\n",
      "\n",
      "Shape of token/vector embedding for the word 'cricket': (300,)\n",
      "\n",
      "====================================================================================================\n",
      "\n",
      "Token/vector embedding for the word 'cricket' as a list:\n",
      "[-0.3671875, -0.12158203125, 0.28515625, 0.08154296875, 0.031982421875, -0.031982421875, 0.134765625, -0.2734375, 0.00946044921875, -0.107421875, 0.248046875, -0.60546875, 0.05029296875, 0.298828125, 0.095703125, 0.1396484375, -0.05419921875, 0.291015625, 0.28515625, 0.1513671875, -0.2890625, -0.03466796875, 0.0181884765625, -0.392578125, 0.24609375, 0.251953125, -0.0986328125, 0.322265625, 0.44921875, -0.13671875, -0.234375, 0.041259765625, -0.2158203125, 0.169921875, 0.025634765625, 0.0150146484375, -0.03759765625, 0.0069580078125, 0.400390625, 0.2099609375, 0.11767578125, -0.0419921875, 0.234375, 0.203125, -0.1865234375, -0.24609375, 0.3125, -0.259765625, -0.10693359375, 0.10400390625, -0.1796875, 0.05712890625, -0.007415771484375, -0.055908203125, 0.076171875, -0.4140625, -0.365234375, -0.3359375, -0.154296875, -0.2392578125, -0.373046875, 0.0022735595703125, -0.3515625, 0.08642578125, 0.126953125, 0.2216796875, -0.0986328125, 0.10888671875, 0.365234375, -0.056640625, 0.056640625, -0.109375, -0.1669921875, -0.04541015625, -0.2001953125, -0.12255859375, 0.1318359375, -0.1318359375, 0.10302734375, -0.341796875, -0.1572265625, 0.2041015625, 0.0439453125, 0.244140625, -0.031982421875, 0.3203125, -0.044189453125, 0.1083984375, -0.0498046875, -0.009521484375, 0.24609375, -0.055908203125, 0.040771484375, -0.017822265625, -0.029541015625, 0.1650390625, 0.50390625, -0.28125, 0.09814453125, 0.01806640625, -0.18359375, 0.25390625, 0.2255859375, 0.016357421875, 0.181640625, 0.138671875, 0.333984375, 0.1396484375, 0.01458740234375, -0.0289306640625, -0.083984375, 0.150390625, 0.16796875, 0.228515625, 0.359375, 0.12255859375, -0.328125, -0.15625, 0.27734375, 0.0177001953125, -0.146484375, -0.0045166015625, -0.044677734375, 0.17578125, -0.375, 0.11669921875, -0.1396484375, 0.255859375, -0.1962890625, -0.0257568359375, -0.05419921875, -0.025146484375, -0.193359375, -0.03173828125, -0.08740234375, -0.1328125, -0.021240234375, 0.43359375, -0.052001953125, 0.03466796875, 0.080078125, 0.0341796875, 0.19921875, -0.02392578125, -0.2373046875, 0.193359375, 0.0732421875, -0.287109375, 0.125, 0.08447265625, 0.130859375, -0.2197265625, -0.1611328125, -0.263671875, -0.546875, -0.296875, 0.034423828125, -0.287109375, -0.193359375, -0.1611328125, -0.384765625, -0.21484375, -0.0062255859375, -0.1279296875, -0.10009765625, -0.62109375, 0.37890625, -0.458984375, 0.14453125, -0.09130859375, -0.30859375, 0.2236328125, 0.07861328125, -0.216796875, 0.087890625, -0.1669921875, 0.011474609375, -0.25390625, -0.0625, 0.00604248046875, 0.15625, 0.4375, -0.2236328125, -0.232421875, 0.275390625, 0.2392578125, 0.044921875, -0.0751953125, 0.57421875, -0.026123046875, -0.12158203125, 0.244140625, -0.337890625, 0.0859375, -0.0771484375, 0.048583984375, 0.1435546875, 0.42578125, -0.04296875, -0.1083984375, 0.11962890625, -0.19140625, -0.212890625, -0.287109375, -0.11474609375, -0.2041015625, -0.0206298828125, -0.25390625, 0.08251953125, -0.039794921875, -0.1572265625, 0.134765625, 0.2080078125, -0.1787109375, -0.02001953125, -0.08349609375, -0.12060546875, 0.04296875, -0.1943359375, -0.1328125, -0.021728515625, -0.2353515625, -0.36328125, 0.1513671875, 0.09326171875, 0.1630859375, 0.10205078125, -0.427734375, 0.283203125, 0.000274658203125, -0.3203125, 0.016845703125, 0.40625, -0.052490234375, 0.0791015625, -0.1416015625, 0.52734375, -0.126953125, 0.474609375, -0.06640625, 0.341796875, -0.1787109375, 0.369140625, -0.205078125, 0.005828857421875, -0.1845703125, -0.0888671875, -0.181640625, -0.048095703125, 0.439453125, 0.212890625, -0.03076171875, 0.09326171875, 0.240234375, 0.2392578125, 0.251953125, -0.0198974609375, 0.12451171875, -0.04736328125, -0.0213623046875, 0.03125, 0.030517578125, 0.279296875, 0.0908203125, -0.2021484375, -0.02197265625, -0.263671875, 0.087890625, -0.107421875, -0.2490234375, -0.01220703125, 0.173828125, -0.09912109375, 0.07275390625, 0.259765625, -0.4609375, 0.359375, -0.2255859375, 0.018798828125, -0.2197265625, -0.208984375, -0.1513671875, 0.08642578125, 0.01116943359375, 0.0693359375, -0.0299072265625, 0.1435546875, 0.189453125, -0.1328125, 0.47265625, -0.140625, -0.0252685546875, 0.19140625, -0.263671875, -0.1396484375, 0.109375, 0.019775390625, 0.2490234375, -0.142578125, 0.04150390625]\n"
     ]
    }
   ],
   "source": [
    "# Print the token/vector embedding for the word 'cricket'.\n",
    "print(f\"Token/Vector embedding for the word 'cricket':\\n{model['cricket']}\\n\")\n",
    "print(f\"{'=='*50}\\n\")\n",
    "\n",
    "# Print the shape of token/vector embedding for the word 'cricket'.\n",
    "print(f\"Shape of token/vector embedding for the word 'cricket': {model['cricket'].shape}\\n\")\n",
    "print(f\"{'=='*50}\\n\")\n",
    "\n",
    "# Print the token/vector embedding for the word 'cricket' as a list.\n",
    "print(f\"Token/vector embedding for the word 'cricket' as a list:\\n{model['cricket'].tolist()}\")"
   ]
  },
  {
   "cell_type": "code",
   "execution_count": 27,
   "id": "3333c76c",
   "metadata": {},
   "outputs": [
    {
     "name": "stdout",
     "output_type": "stream",
     "text": [
      "Most similar words to 'cricket':\n",
      "[('cricketing', 0.8372224569320679), ('cricketers', 0.8165745139122009), ('Test_cricket', 0.8094819188117981), ('Twenty##_cricket', 0.8068488240242004), ('Twenty##', 0.7624265551567078), ('Cricket', 0.75413978099823), ('cricketer', 0.7372578382492065), ('twenty##', 0.7316356897354126), ('T##_cricket', 0.7304614186286926), ('West_Indies_cricket', 0.6987985968589783)]\n",
      "\n",
      "====================================================================================================\n",
      "\n",
      "Most similar words to 'cricket' with 'topn=5':\n",
      "[('cricketing', 0.8372224569320679), ('cricketers', 0.8165745139122009), ('Test_cricket', 0.8094819188117981), ('Twenty##_cricket', 0.8068488240242004), ('Twenty##', 0.7624265551567078)]\n",
      "\n",
      "====================================================================================================\n",
      "\n",
      "Most similar words for 'King + Woman - Man' with 'topn=10':\n",
      "[('Queen', 0.4929387867450714), ('Tupou_V.', 0.45174285769462585), ('Oprah_BFF_Gayle', 0.442213237285614), ('Jackson', 0.4402503967285156), ('NECN_Alison', 0.43312832713127136), ('Whitfield', 0.42834725975990295), ('Ida_Vandross', 0.42084527015686035), ('prosecutor_Dan_Satterberg', 0.420758992433548), ('martin_Luther_King', 0.42059651017189026), ('Coretta_King', 0.4202733635902405)]\n",
      "\n",
      "====================================================================================================\n",
      "\n",
      "Most similar words for 'king + woman - man' with 'topn=10':\n",
      "[('queen', 0.7118192911148071), ('monarch', 0.6189674735069275), ('princess', 0.5902431011199951), ('crown_prince', 0.5499460697174072), ('prince', 0.5377321243286133), ('kings', 0.5236844420433044), ('Queen_Consort', 0.5235945582389832), ('queens', 0.5181134343147278), ('sultan', 0.5098593235015869), ('monarchy', 0.5087411403656006)]\n"
     ]
    }
   ],
   "source": [
    "# help(model.most_similar)\n",
    "\n",
    "# Example of 'most_similar' method.\n",
    "print(f\"Most similar words to 'cricket':\\n{model.most_similar('cricket')}\\n\")\n",
    "print(f\"{'=='*50}\\n\")\n",
    "\n",
    "# Example of 'most_similar' method with 'topn' parameter.\n",
    "print(f\"Most similar words to 'cricket' with 'topn=5':\\n{model.most_similar('cricket', topn=5)}\\n\")\n",
    "print(f\"{'=='*50}\\n\")\n",
    "\n",
    "print(f\"Most similar words for 'King + Woman - Man' with 'topn=10':\\n{model.most_similar(positive=['King', 'Woman'], negative=['Man'], topn=10)}\\n\")\n",
    "print(f\"{'=='*50}\\n\")\n",
    "\n",
    "print(f\"Most similar words for 'king + woman - man' with 'topn=10':\\n{model.most_similar(positive=['king', 'woman'], negative=['man'], topn=10)}\")"
   ]
  },
  {
   "cell_type": "code",
   "execution_count": 28,
   "id": "2b859091",
   "metadata": {},
   "outputs": [
    {
     "name": "stdout",
     "output_type": "stream",
     "text": [
      "Similarity between 'king' and 'queen': 0.6510956287384033\n",
      "Similarity between 'man' and 'woman': 0.7664012312889099\n",
      "Similarity between 'earth' and 'planet': 0.680284857749939\n",
      "Similarity between 'cricket' and 'football': 0.4597463607788086\n",
      "\n",
      "====================================================================================================\n",
      "\n",
      "Similarity between 'paper' and 'water': 0.11408083885908127\n",
      "Similarity between 'house' and 'food': 0.12891855835914612\n",
      "Similarity between 'car' and 'pen': 0.021567028015851974\n",
      "Similarity between 'computer' and 'sword': 0.10954435169696808\n"
     ]
    }
   ],
   "source": [
    "# help(model.similarity)\n",
    "\n",
    "# Example of 'similarity' method.\n",
    "print(f\"Similarity between 'king' and 'queen': {model.similarity(w1='king', w2='queen')}\")\n",
    "print(f\"Similarity between 'man' and 'woman': {model.similarity(w1='man', w2='woman')}\")\n",
    "print(f\"Similarity between 'earth' and 'planet': {model.similarity(w1='earth', w2='planet')}\")\n",
    "print(f\"Similarity between 'cricket' and 'football': {model.similarity(w1='cricket', w2='football')}\\n\")\n",
    "\n",
    "print(f\"{'=='*50}\\n\")\n",
    "\n",
    "print(f\"Similarity between 'paper' and 'water': {model.similarity(w1='paper', w2='water')}\")\n",
    "print(f\"Similarity between 'house' and 'food': {model.similarity(w1='house', w2='food')}\")\n",
    "print(f\"Similarity between 'car' and 'pen': {model.similarity(w1='car', w2='pen')}\")\n",
    "print(f\"Similarity between 'computer' and 'sword': {model.similarity(w1='computer', w2='sword')}\")"
   ]
  },
  {
   "cell_type": "code",
   "execution_count": 29,
   "id": "19f254c7",
   "metadata": {},
   "outputs": [
    {
     "name": "stdout",
     "output_type": "stream",
     "text": [
      "Magnitude of vector difference between 'man' and 'woman': 1.7279510498046875\n",
      "Magnitude of vector difference between 'computer' and 'sword': 4.015575408935547\n"
     ]
    }
   ],
   "source": [
    "import numpy as np\n",
    "\n",
    "# Calculate the vector difference between two words.\n",
    "def vector_difference(model, word1, word2):\n",
    "    return model[word1] - model[word2]\n",
    "\n",
    "vec_diff_man_woman = vector_difference(model=model, word1='man', word2='woman')\n",
    "vec_diff_computer_sword = vector_difference(model=model, word1='computer', word2='sword')\n",
    "\n",
    "# print(f\"Vector difference between 'man' and 'woman':\\n{vec_diff_man_woman}\\n\")\n",
    "# print(f\"Vector difference between 'king' and 'queen':\\n{vec_diff_king_queen}\\n\")\n",
    "\n",
    "print(f\"Magnitude of vector difference between 'man' and 'woman': {np.linalg.norm(vec_diff_man_woman)}\")\n",
    "print(f\"Magnitude of vector difference between 'computer' and 'sword': {np.linalg.norm(vec_diff_computer_sword)}\")"
   ]
  },
  {
   "cell_type": "markdown",
   "id": "8f962b8e",
   "metadata": {},
   "source": [
    "Create token/vector embeddings"
   ]
  },
  {
   "cell_type": "code",
   "execution_count": 30,
   "id": "d6945957",
   "metadata": {},
   "outputs": [
    {
     "name": "stdout",
     "output_type": "stream",
     "text": [
      "Embedding layer weights:\n",
      "Parameter containing:\n",
      "tensor([[ 1.9269,  1.4873,  0.9007, -2.1055],\n",
      "        [ 0.6784, -1.2345, -0.0431, -1.6047],\n",
      "        [-0.7521,  1.6487, -0.3925, -1.4036],\n",
      "        [-0.7279, -0.5594, -0.7688,  0.7624],\n",
      "        [ 1.6423, -0.1596, -0.4974,  0.4396],\n",
      "        [-0.7581,  1.0783,  0.8008,  1.6806],\n",
      "        [ 0.0349,  0.3211,  1.5736, -0.8455],\n",
      "        [ 1.3123,  0.6872, -1.0892, -0.3553],\n",
      "        [-1.4181,  0.8963,  0.0499,  2.2667],\n",
      "        [ 1.1790, -0.4345, -1.3864, -1.2862]], requires_grad=True)\n",
      "\n",
      "Token/Vector embeddings for 3rd token id:\n",
      "tensor([-0.7521,  1.6487, -0.3925, -1.4036], grad_fn=<SelectBackward0>)\n",
      "\n",
      "Token embeddings for input ids [2, 3, 5, 6]:\n",
      "tensor([[-0.7521,  1.6487, -0.3925, -1.4036],\n",
      "        [-0.7279, -0.5594, -0.7688,  0.7624],\n",
      "        [-0.7581,  1.0783,  0.8008,  1.6806],\n",
      "        [ 0.0349,  0.3211,  1.5736, -0.8455]], grad_fn=<EmbeddingBackward0>)\n"
     ]
    }
   ],
   "source": [
    "# Example of input token ids.\n",
    "input_ids = torch.tensor([2, 3, 5, 6])\n",
    "\n",
    "# Define the vocabulary size and embedding dimension.\n",
    "vocab_size = 10\n",
    "embedding_dim = 4\n",
    "\n",
    "torch.manual_seed(42)  # Set seed for reproducibility.\n",
    "\n",
    "# Create a random embedding matrix.\n",
    "embedding_layer = torch.nn.Embedding(num_embeddings=vocab_size, embedding_dim=embedding_dim)\n",
    "\n",
    "print(f\"Embedding layer weights:\\n{embedding_layer.weight}\\n\")\n",
    "print(f\"Token/Vector embeddings for 3rd token id:\\n{embedding_layer.weight[2]}\\n\")\n",
    "\n",
    "# Get the token embeddings for the input ids.\n",
    "token_embeddings = embedding_layer(input_ids)\n",
    "print(f\"Token embeddings for input ids {input_ids.tolist()}:\\n{token_embeddings}\")"
   ]
  },
  {
   "cell_type": "markdown",
   "id": "e6190bf6",
   "metadata": {},
   "source": [
    "Positional embeddings (encoding word positions)"
   ]
  },
  {
   "cell_type": "code",
   "execution_count": 31,
   "id": "c688e6de",
   "metadata": {},
   "outputs": [
    {
     "name": "stdout",
     "output_type": "stream",
     "text": [
      "Sample of encoded text:\n",
      "[40, 367, 2885, 1464, 1807, 3619, 402, 271, 10899, 2138, 257, 7026, 15632, 438, 2016, 257, 922, 5891, 1576, 438, 568, 340, 373, 645, 1049, 5975, 284, 502, 284, 3285, 326, 11, 287, 262, 6001, 286, 465, 13476, 11, 339, 550, 5710, 465, 12036, 11, 6405, 257, 5527, 27075, 11, 290, 4920, 2241, 287, 257, 4489, 64, 319, 262, 34686, 41976, 13, 357, 10915, 314, 2138, 1807, 340, 561, 423, 587, 10598, 393, 28537, 2014, 198, 198, 1, 464, 6001, 286, 465, 13476, 1, 438, 5562, 373, 644, 262, 1466, 1444, 340, 13, 314, 460, 3285, 9074, 13, 46606, 536]\n"
     ]
    }
   ],
   "source": [
    "# Embedding dimension for token and positional embeddings. \n",
    "# token_embedding_dim = pos_embedding_dim\n",
    "embedding_dim = 256\n",
    "vocab_size = 50257\n",
    "context_size = 4\n",
    "\n",
    "# Create a token embedding layer.\n",
    "token_embedding_layer = torch.nn.Embedding(num_embeddings=vocab_size, embedding_dim=embedding_dim)\n",
    "\n",
    "text_encoded = tokeniser.encode(text=text_raw, allowed_special='all')\n",
    "print(f\"Sample of encoded text:\\n{text_encoded[:100]}\")"
   ]
  },
  {
   "cell_type": "code",
   "execution_count": 32,
   "id": "8830bbf1",
   "metadata": {},
   "outputs": [
    {
     "name": "stdout",
     "output_type": "stream",
     "text": [
      "Input ids:\n",
      "tensor([[   40,   367,  2885,  1464],\n",
      "        [ 1807,  3619,   402,   271],\n",
      "        [10899,  2138,   257,  7026],\n",
      "        [15632,   438,  2016,   257],\n",
      "        [  922,  5891,  1576,   438],\n",
      "        [  568,   340,   373,   645],\n",
      "        [ 1049,  5975,   284,   502],\n",
      "        [  284,  3285,   326,    11]])\n",
      "\n",
      "Target ids:\n",
      "tensor([[  367,  2885,  1464,  1807],\n",
      "        [ 3619,   402,   271, 10899],\n",
      "        [ 2138,   257,  7026, 15632],\n",
      "        [  438,  2016,   257,   922],\n",
      "        [ 5891,  1576,   438,   568],\n",
      "        [  340,   373,   645,  1049],\n",
      "        [ 5975,   284,   502,   284],\n",
      "        [ 3285,   326,    11,   287]])\n",
      "\n",
      "Input ids' shape: torch.Size([8, 4])\n",
      "Target ids' shape: torch.Size([8, 4])\n",
      "\n",
      "Token embeddings' shape: torch.Size([8, 4, 256])\n",
      "Positional token embeddings' shape: torch.Size([4, 256])\n"
     ]
    }
   ],
   "source": [
    "dataloader = create_dataloader_v1(\n",
    "    text=text_raw, batch_size=8, context_length=context_size,\n",
    "    stride=context_size, shuffle=False, num_workers=0\n",
    ")\n",
    "\n",
    "data_iter = iter(dataloader)\n",
    "\n",
    "input_ids, target_ids = next(data_iter)\n",
    "print(f\"Input ids:\\n{input_ids}\\n\")\n",
    "print(f\"Target ids:\\n{target_ids}\\n\")\n",
    "\n",
    "print(f\"Input ids' shape: {input_ids.shape}\")\n",
    "print(f\"Target ids' shape: {target_ids.shape}\\n\")\n",
    "\n",
    "token_embeddings = token_embedding_layer(input_ids)\n",
    "print(f\"Token embeddings' shape: {token_embeddings.shape}\")\n",
    "\n",
    "# Create a positional embedding layer.\n",
    "pos_embedding_layer = torch.nn.Embedding(num_embeddings=context_size, embedding_dim=embedding_dim)\n",
    "pos_embeddings = pos_embedding_layer(torch.arange(context_size))\n",
    "print(f\"Positional token embeddings' shape: {pos_embeddings.shape}\")"
   ]
  },
  {
   "cell_type": "code",
   "execution_count": 33,
   "id": "2a0a6c07",
   "metadata": {},
   "outputs": [
    {
     "name": "stdout",
     "output_type": "stream",
     "text": [
      "Input embeddings' shape: torch.Size([8, 4, 256])\n"
     ]
    }
   ],
   "source": [
    "input_embeddings = token_embeddings + pos_embeddings\n",
    "print(f\"Input embeddings' shape: {input_embeddings.shape}\")"
   ]
  },
  {
   "cell_type": "markdown",
   "id": "87112b84",
   "metadata": {},
   "source": [
    "- #### Step #2 - Attention mechanism\n",
    "\n",
    "Simplified self attention"
   ]
  },
  {
   "cell_type": "code",
   "execution_count": 34,
   "id": "42909102",
   "metadata": {},
   "outputs": [],
   "source": [
    "inputs = torch.tensor(\n",
    "[[0.43, 0.15, 0.89], # Your (x^1)\n",
    "[0.55, 0.87, 0.66], # journey (x^2)\n",
    "[0.57, 0.85, 0.64], # starts (x^3)\n",
    "[0.22, 0.58, 0.33], # with (x^4)\n",
    "[0.77, 0.25, 0.10], # one (x^5)\n",
    "[0.05, 0.80, 0.55]] # step (x^6)\n",
    ")"
   ]
  },
  {
   "cell_type": "code",
   "execution_count": 35,
   "id": "18334df7",
   "metadata": {},
   "outputs": [
    {
     "data": {
      "image/png": "[encoded data removed]",
      "text/plain": [
       "<Figure size 1000x1200 with 1 Axes>"
      ]
     },
     "metadata": {},
     "output_type": "display_data"
    }
   ],
   "source": [
    "import matplotlib.pyplot as plt\n",
    "# from mpl_toolkits.mplot3d import Axes3D\n",
    "\n",
    "# Corresponding words.\n",
    "words = ['Your', 'journey', 'starts', 'with', 'one', 'step']\n",
    "\n",
    "# Extract x, y, z coordinates.\n",
    "x_coords = inputs[:, 0].numpy()\n",
    "y_coords = inputs[:, 1].numpy()\n",
    "z_coords = inputs[:, 2].numpy()\n",
    "\n",
    "# Create a 3D scatter plot.\n",
    "fig = plt.figure(figsize=(10, 12))\n",
    "ax = fig.add_subplot(111, projection='3d')\n",
    "\n",
    "# Plot each point and annotate with the corresponding word.\n",
    "for x, y, z, word in zip(x_coords, y_coords, z_coords, words):\n",
    "    ax.scatter(x, y, z)\n",
    "    ax.text(x, y, z, word, fontsize=12, ha='right')\n",
    "\n",
    "# Set labels for axes.\n",
    "ax.set_xlabel('X-axis')\n",
    "ax.set_ylabel('Y-axis')\n",
    "ax.set_zlabel('Z-axis')\n",
    "\n",
    "plt.title('3D Scatter Plot of Word Embeddings')\n",
    "plt.tight_layout()\n",
    "plt.show()"
   ]
  },
  {
   "cell_type": "code",
   "execution_count": 36,
   "id": "6ff9e152",
   "metadata": {},
   "outputs": [
    {
     "data": {
      "image/png": "[encoded data removed]",
      "text/plain": [
       "<Figure size 1000x1200 with 1 Axes>"
      ]
     },
     "metadata": {},
     "output_type": "display_data"
    }
   ],
   "source": [
    "# Create 3D scatter plot with vectors from origin to each point, using different colors.\n",
    "fig = plt.figure(figsize=(10, 12))\n",
    "ax = fig.add_subplot(111, projection='3d')\n",
    "\n",
    "# Define colors for each point.\n",
    "colors = ['r', 'g', 'b', 'c', 'm', 'y']\n",
    "\n",
    "# Plot each vector with a different color and annotate with the corresponding word.\n",
    "for (x, y, z, word, color) in zip(x_coords, y_coords, z_coords, words, colors):\n",
    "    ax.quiver(0, 0, 0, x, y, z, color=color, arrow_length_ratio=0.03)\n",
    "    ax.text(x, y, z, word, fontsize=12, ha='right', color=color)\n",
    "\n",
    "# Set labels for axes.\n",
    "ax.set_xlabel('X-axis')\n",
    "ax.set_ylabel('Y-axis')\n",
    "ax.set_zlabel('Z-axis')\n",
    "\n",
    "# Set the limits for each axis.\n",
    "ax.set_xlim([0, 1])\n",
    "ax.set_ylim([0, 1])\n",
    "ax.set_zlim([0, 1])\n",
    "\n",
    "plt.title('3D Scatter Plot of Word Embeddings with Vectors')\n",
    "plt.tight_layout()\n",
    "plt.show()"
   ]
  },
  {
   "cell_type": "code",
   "execution_count": 37,
   "id": "9b755119",
   "metadata": {},
   "outputs": [
    {
     "name": "stdout",
     "output_type": "stream",
     "text": [
      "Input vector: \n",
      "tensor([[0.4300, 0.1500, 0.8900],\n",
      "        [0.5500, 0.8700, 0.6600],\n",
      "        [0.5700, 0.8500, 0.6400],\n",
      "        [0.2200, 0.5800, 0.3300],\n",
      "        [0.7700, 0.2500, 0.1000],\n",
      "        [0.0500, 0.8000, 0.5500]])\n",
      "\n",
      "Query/Input vector (x^2): tensor([0.5500, 0.8700, 0.6600])\n",
      "\n",
      "Shape of inputs: torch.Size([6, 3])\n",
      "Shape of query: torch.Size([3])\n",
      "\n",
      "attn_scores_2 = tensor([0.9544, 1.4950, 1.4754, 0.8434, 0.7070, 1.0865])\n",
      "Shape of attention scores: torch.Size([6])\n",
      "\n",
      "attn_weights_2_sum_norm = tensor([0.1455, 0.2278, 0.2249, 0.1285, 0.1077, 0.1656])\n",
      "Sum of attention weights: 1.0000001192092896\n",
      "\n",
      "attn_weights_2_naive_softmax_norm = tensor([0.1385, 0.2379, 0.2333, 0.1240, 0.1082, 0.1581])\n",
      "Sum of attention weights: 1.0\n",
      "\n",
      "attn_weights_2_torch_softmax_norm = tensor([0.1385, 0.2379, 0.2333, 0.1240, 0.1082, 0.1581])\n",
      "Sum of attention weights: 1.0\n",
      "\n",
      "context_vec_2 = tensor([0.4419, 0.6515, 0.5683])\n",
      "Shape of context vector: torch.Size([3])\n"
     ]
    }
   ],
   "source": [
    "# 2nd example of inputs.\n",
    "query = inputs[1]\n",
    "print(f\"Input vector: \\n{inputs}\\n\")\n",
    "print(f\"Query/Input vector (x^2): {query}\\n\")\n",
    "\n",
    "print(f\"Shape of inputs: {inputs.shape}\")\n",
    "print(f\"Shape of query: {query.shape}\\n\")\n",
    "\n",
    "# Calculate attention scores using dot product.\n",
    "attn_scores_2 = torch.empty(inputs.shape[0])\n",
    "for i, x_i in enumerate(inputs):\n",
    "    attn_scores_2[i] = torch.dot(x_i, query)\n",
    "print(f\"{attn_scores_2 = }\")\n",
    "print(f\"Shape of attention scores: {attn_scores_2.shape}\\n\")\n",
    "\n",
    "# Summation normalisation.\n",
    "attn_weights_2_sum_norm = attn_scores_2 / attn_scores_2.sum()\n",
    "print(f\"{attn_weights_2_sum_norm = }\")\n",
    "print(f\"Sum of attention weights: {attn_weights_2_sum_norm.sum()}\\n\")\n",
    "\n",
    "# Naive softmax normalisation.\n",
    "def softmax_naive(x):\n",
    "    return torch.exp(x) / torch.exp(x).sum(dim=0)\n",
    "attn_weights_2_naive_softmax_norm = softmax_naive(attn_scores_2)\n",
    "print(f\"{attn_weights_2_naive_softmax_norm = }\")\n",
    "print(f\"Sum of attention weights: {attn_weights_2_naive_softmax_norm.sum()}\\n\")\n",
    "\n",
    "# Pytorch softmax normalisation.\n",
    "attn_weights_2_torch_softmax_norm = torch.softmax(attn_scores_2, dim=0)\n",
    "print(f\"{attn_weights_2_torch_softmax_norm = }\")\n",
    "print(f\"Sum of attention weights: {attn_weights_2_torch_softmax_norm.sum()}\\n\")\n",
    "\n",
    "# Context vector calculation.\n",
    "context_vec_2 = torch.zeros(query.shape)\n",
    "for i,x_i in enumerate(inputs):\n",
    "    context_vec_2 += attn_weights_2_torch_softmax_norm[i] * x_i\n",
    "print(f\"{context_vec_2 = }\")\n",
    "print(f\"Shape of context vector: {context_vec_2.shape}\")"
   ]
  },
  {
   "cell_type": "code",
   "execution_count": 38,
   "id": "ac0b01f9",
   "metadata": {},
   "outputs": [
    {
     "name": "stdout",
     "output_type": "stream",
     "text": [
      "Attention score (normal 'for-loop' multiplication):\n",
      "tensor([[0.9995, 0.9544, 0.9422, 0.4753, 0.4576, 0.6310],\n",
      "        [0.9544, 1.4950, 1.4754, 0.8434, 0.7070, 1.0865],\n",
      "        [0.9422, 1.4754, 1.4570, 0.8296, 0.7154, 1.0605],\n",
      "        [0.4753, 0.8434, 0.8296, 0.4937, 0.3474, 0.6565],\n",
      "        [0.4576, 0.7070, 0.7154, 0.3474, 0.6654, 0.2935],\n",
      "        [0.6310, 1.0865, 1.0605, 0.6565, 0.2935, 0.9450]])\n",
      "\n",
      "Attention score ('matrix' multiplication):\n",
      "tensor([[0.9995, 0.9544, 0.9422, 0.4753, 0.4576, 0.6310],\n",
      "        [0.9544, 1.4950, 1.4754, 0.8434, 0.7070, 1.0865],\n",
      "        [0.9422, 1.4754, 1.4570, 0.8296, 0.7154, 1.0605],\n",
      "        [0.4753, 0.8434, 0.8296, 0.4937, 0.3474, 0.6565],\n",
      "        [0.4576, 0.7070, 0.7154, 0.3474, 0.6654, 0.2935],\n",
      "        [0.6310, 1.0865, 1.0605, 0.6565, 0.2935, 0.9450]])\n",
      "\n",
      "Attention weights (normalised):\n",
      "tensor([[0.2098, 0.2006, 0.1981, 0.1242, 0.1220, 0.1452],\n",
      "        [0.1385, 0.2379, 0.2333, 0.1240, 0.1082, 0.1581],\n",
      "        [0.1390, 0.2369, 0.2326, 0.1242, 0.1108, 0.1565],\n",
      "        [0.1435, 0.2074, 0.2046, 0.1462, 0.1263, 0.1720],\n",
      "        [0.1526, 0.1958, 0.1975, 0.1367, 0.1879, 0.1295],\n",
      "        [0.1385, 0.2184, 0.2128, 0.1420, 0.0988, 0.1896]])\n",
      "\n",
      "row_2_sum = 1.0\n",
      "All row sums: tensor([1.0000, 1.0000, 1.0000, 1.0000, 1.0000, 1.0000])\n"
     ]
    }
   ],
   "source": [
    "# Calculate attention scores using dot product, for entire input.\n",
    "# attn_scores = torch.empty(6, 6)\n",
    "attn_scores = torch.empty(inputs.shape[0], inputs.shape[0])\n",
    "for i, x_i in enumerate(inputs):\n",
    "    for j, x_j in enumerate(inputs):\n",
    "        attn_scores[i, j] = torch.dot(x_i, x_j)\n",
    "print(f\"Attention score (normal 'for-loop' multiplication):\\n{attn_scores}\\n\")\n",
    "\n",
    "# Calculate attention scores using matrix multiplication.\n",
    "attn_scores = inputs @ inputs.T\n",
    "print(f\"Attention score ('matrix' multiplication):\\n{attn_scores}\\n\")\n",
    "\n",
    "# Normalise attention scores using softmax.\n",
    "attn_weights = torch.softmax(attn_scores, dim=-1)\n",
    "print(f\"Attention weights (normalised):\\n{attn_weights}\\n\")\n",
    "\n",
    "row_2_sum = sum([0.1385, 0.2379, 0.2333, 0.1240, 0.1082, 0.1581])\n",
    "print(f\"{row_2_sum = }\")\n",
    "print(f\"All row sums: {attn_weights.sum(dim=-1)}\")"
   ]
  },
  {
   "cell_type": "code",
   "execution_count": 39,
   "id": "656e6e1d",
   "metadata": {},
   "outputs": [
    {
     "name": "stdout",
     "output_type": "stream",
     "text": [
      "Shape of attention scores: torch.Size([6, 6])\n",
      "Shape of attention weights: torch.Size([6, 6])\n",
      "Shape of inputs: torch.Size([6, 3])\n",
      "\n",
      "Context vectore:\n",
      "tensor([[0.4421, 0.5931, 0.5790],\n",
      "        [0.4419, 0.6515, 0.5683],\n",
      "        [0.4431, 0.6496, 0.5671],\n",
      "        [0.4304, 0.6298, 0.5510],\n",
      "        [0.4671, 0.5910, 0.5266],\n",
      "        [0.4177, 0.6503, 0.5645]])\n",
      "\n",
      "Shape of context vectors: torch.Size([6, 3])\n",
      "\n",
      "Previous 2nd context vector: tensor([0.4419, 0.6515, 0.5683])\n"
     ]
    }
   ],
   "source": [
    "print(f\"Shape of attention scores: {attn_scores.shape}\")\n",
    "print(f\"Shape of attention weights: {attn_weights.shape}\")\n",
    "print(f\"Shape of inputs: {inputs.shape}\\n\")\n",
    "\n",
    "all_context_vecs = attn_weights @ inputs\n",
    "print(f\"Context vectore:\\n{all_context_vecs}\\n\")\n",
    "print(f\"Shape of context vectors: {all_context_vecs.shape}\\n\")\n",
    "print(f\"Previous 2nd context vector: {context_vec_2}\")"
   ]
  },
  {
   "cell_type": "code",
   "execution_count": 40,
   "id": "1a48d821",
   "metadata": {},
   "outputs": [
    {
     "name": "stdout",
     "output_type": "stream",
     "text": [
      "x_sum_norm = [0.0024630541871921183, 0.0049261083743842365, 0.007389162561576354, 0.9852216748768473]\n",
      "\n",
      "x_exp_norm = [5.205970713164919e-174, 1.4151295589086178e-173, 3.84672096489656e-173, 1.0]\n",
      "\n",
      "x_torch_softmax = tensor([0., 0., 0., 1.])\n"
     ]
    }
   ],
   "source": [
    "# Different normalisation methods, extreme values.\n",
    "import math\n",
    "x = [1, 2, 3, 400]\n",
    "\n",
    "x_sum_norm = [xi / sum(x) for xi in x]\n",
    "print(f\"{x_sum_norm = }\\n\")\n",
    "\n",
    "x_exp_norm = [math.exp(xi) / sum(math.exp(xi) for xi in x) for xi in x]\n",
    "print(f\"{x_exp_norm = }\\n\")\n",
    "\n",
    "x_torch_softmax = torch.softmax(torch.tensor(x, dtype=torch.float32), dim=0)\n",
    "print(f\"{x_torch_softmax = }\")"
   ]
  },
  {
   "cell_type": "markdown",
   "id": "7de0123c",
   "metadata": {},
   "source": [
    "What is the difference between the following?\n",
    "\n",
    "- `torch.softmax(attn_scores, dim=0)`\n",
    "    - Softmax is applied down each column (along rows).\n",
    "    - For each column, the values in that column are exponentiated and normalized so the column sums to 1.\n",
    "    - Each column sums to 1.\n",
    "\n",
    "- `torch.softmax(attn_scores, dim=1)`\n",
    "    - Softmax is applied across each row (along columns).\n",
    "    - For each row, the values in that row are exponentiated and normalized so the row sums to 1.\n",
    "    - Each row sums to 1.\n",
    "    - This is the standard for attention mechanisms.\n",
    "\n",
    "- `torch.softmax(attn_scores, dim=-1)`\n",
    "    - `dim=-1` means the last dimension (for 2D, same as `dim=1`).\n",
    "    - Softmax is applied across each row (just like `dim=1` for 2D tensors).\n",
    "    - Each row sums to 1.\n",
    "\n",
    "Summary Table:\n",
    "\n",
    "| Call                            | Softmax Applied On   | Sums to 1?         | Typical for Attention? |\n",
    "|---------------------------------|----------------------|--------------------|------------------------|\n",
    "| `torch.softmax(..., dim=0)`     | Down columns         | Each column        | No                     |\n",
    "| `torch.softmax(..., dim=1)`     | Across rows          | Each row           | Yes                    |\n",
    "| `torch.softmax(..., dim=-1)`    | Across last axis     | Each row (2D)      | Yes                    |\n",
    "\n",
    "In attention, you almost always want `dim=1` or `dim=-1` so each row (query) gets a probability distribution over keys.\n",
    "\n"
   ]
  },
  {
   "cell_type": "markdown",
   "id": "b1e11ba6",
   "metadata": {},
   "source": [
    "Self attention (with trainable weights)"
   ]
  },
  {
   "cell_type": "code",
   "execution_count": 41,
   "id": "53246252",
   "metadata": {},
   "outputs": [
    {
     "name": "stdout",
     "output_type": "stream",
     "text": [
      "tensor([0.4306, 1.4551])\n",
      "\n",
      "keys.shape: torch.Size([6, 2])\n",
      "values.shape: torch.Size([6, 2])\n"
     ]
    }
   ],
   "source": [
    "# in GPT-like models, the input and output dimensions are usually the same.\n",
    "x_2 = inputs[1] # The second input element.\n",
    "d_in = inputs.shape[1] # The input embedding size, d=3.\n",
    "d_out = 2 #The output embedding size, d_out=2.\n",
    "\n",
    "torch.manual_seed(123)\n",
    "W_query = torch.nn.Parameter(torch.rand(d_in, d_out), requires_grad=False)\n",
    "W_key = torch.nn.Parameter(torch.rand(d_in, d_out), requires_grad=False)\n",
    "W_value = torch.nn.Parameter(torch.rand(d_in, d_out), requires_grad=False)\n",
    "\n",
    "query_2 = x_2 @ W_query\n",
    "key_2 = x_2 @ W_key\n",
    "value_2 = x_2 @ W_value\n",
    "print(query_2)\n",
    "\n",
    "keys = inputs @ W_key\n",
    "values = inputs @ W_value\n",
    "print(\"\\nkeys.shape:\", keys.shape)\n",
    "print(\"values.shape:\", values.shape)"
   ]
  },
  {
   "cell_type": "code",
   "execution_count": 42,
   "id": "18b891f5",
   "metadata": {},
   "outputs": [
    {
     "name": "stdout",
     "output_type": "stream",
     "text": [
      "tensor(1.8524)\n",
      "tensor([1.2705, 1.8524, 1.8111, 1.0795, 0.5577, 1.5440])\n",
      "tensor([0.1500, 0.2264, 0.2199, 0.1311, 0.0906, 0.1820])\n",
      "tensor([0.3061, 0.8210])\n"
     ]
    }
   ],
   "source": [
    "keys_2 = keys[1]\n",
    "attn_score_22 = query_2.dot(keys_2)\n",
    "print(attn_score_22)\n",
    "\n",
    "attn_scores_2 = query_2 @ keys.T\n",
    "print(attn_scores_2)\n",
    "\n",
    "d_k = keys.shape[-1]\n",
    "attn_weights_2 = torch.softmax(attn_scores_2 / d_k**0.5, dim=-1)\n",
    "print(attn_weights_2)\n",
    "\n",
    "context_vec_2 = attn_weights_2 @ values\n",
    "print(context_vec_2)"
   ]
  },
  {
   "cell_type": "code",
   "execution_count": 43,
   "id": "5a277ee1",
   "metadata": {},
   "outputs": [
    {
     "name": "stdout",
     "output_type": "stream",
     "text": [
      "Softmax without scaling:\n",
      "tensor([0.1976, 0.1464, 0.2414, 0.1199, 0.2948])\n",
      "\n",
      "Softmax without scaling (large tensor):\n",
      "tensor([1.5862e-02, 7.8972e-04, 1.1721e-01, 1.0688e-04, 8.6604e-01])\n",
      "\n",
      "Softmax with scaling:\n",
      "tensor([0.2015, 0.1762, 0.2203, 0.1611, 0.2409])\n"
     ]
    }
   ],
   "source": [
    "# Why divide by sqrt(d_k)?\n",
    "# The division by sqrt(d_k) is a scaling factor to prevent the dot product from growing too large, which can lead to numerical instability and saturation of the softmax function.\n",
    "# This scaling helps to keep the gradients in a reasonable range during training, making the model more stable and easier to optimize.\n",
    "\n",
    "# Define a tensor.\n",
    "tensor_x = torch.tensor(data=[0.1, -0.2, 0.3, -0.4, 0.5], dtype=torch.float32)\n",
    "\n",
    "# Apply softmax without scaling.\n",
    "softmax_x = torch.softmax(tensor_x, dim=-1)\n",
    "print(f\"Softmax without scaling:\\n{softmax_x}\\n\")\n",
    "\n",
    "# Multiply the tensor by a large number.\n",
    "large_number = 10\n",
    "tensor_x_large = tensor_x * large_number\n",
    "# Apply softmax without scaling.\n",
    "softmax_x_large = torch.softmax(tensor_x_large, dim=-1)\n",
    "print(f\"Softmax without scaling (large tensor):\\n{softmax_x_large}\\n\")\n",
    "\n",
    "# Apply softmax with scaling.\n",
    "scaled_tensor_x = tensor_x / (5 ** 0.5) # dim = 5, 1 row and 5 columns.\n",
    "softmax_x_scaled = torch.softmax(scaled_tensor_x, dim=-1)\n",
    "print(f\"Softmax with scaling:\\n{softmax_x_scaled}\")\n",
    "\n",
    "# # Apply softmax with scaling on the large tensor.\n",
    "# scaled_tensor_x_large = tensor_x_large / (5 ** 0.5)\n",
    "# softmax_x_scaled_large = torch.softmax(scaled_tensor_x_large, dim=-1)\n",
    "# print(f\"Softmax with scaling (large tensor):\\n{softmax_x_scaled_large}\\n\")"
   ]
  },
  {
   "cell_type": "code",
   "execution_count": 44,
   "id": "ac15233e",
   "metadata": {},
   "outputs": [
    {
     "name": "stdout",
     "output_type": "stream",
     "text": [
      "Variance before scaling (dim=10): 10.407144657637721\n",
      "Variance after scaling (dim=10): 1.0407144657637724\n",
      "\n",
      "Variance before scaling (dim=100): 98.32887966875002\n",
      "Variance after scaling (dim=100): 0.9832887966875001\n",
      "\n",
      "Variance before scaling (dim=1000): 1084.2805311211634\n",
      "Variance after scaling (dim=1000): 1.0842805311211634\n",
      "\n",
      "Variance before scaling (dim=10000): 9914.236775292125\n",
      "Variance after scaling (dim=10000): 0.9914236775292126\n"
     ]
    }
   ],
   "source": [
    "import numpy as np\n",
    "\n",
    "# Function to compute variance before and after scaling.\n",
    "def compute_variance(dim, num_trails=1000):\n",
    "\n",
    "    dot_products = []\n",
    "    dot_products_scaled = []\n",
    "\n",
    "    # Set random seed for reproducibility.\n",
    "    np.random.seed(14)\n",
    "\n",
    "    # Generate multiple random vectors and compute dot products.\n",
    "    for _ in range(num_trails):\n",
    "        # Generate random vectors.\n",
    "        _query = np.random.randn(dim)\n",
    "        _key = np.random.randn(dim)\n",
    "\n",
    "        # Compute dot product.\n",
    "        dot_products.append(np.dot(_query, _key))\n",
    "\n",
    "        # Compute scaled dot product.\n",
    "        scaled_dot_product = np.dot(_query, _key) / np.sqrt(dim)\n",
    "        dot_products_scaled.append(scaled_dot_product)\n",
    "\n",
    "    #  Calculate variance of dot products.\n",
    "    variance_before_scaling = np.var(dot_products)\n",
    "    variance_after_scaling = np.var(dot_products_scaled)\n",
    "\n",
    "    return variance_before_scaling, variance_after_scaling\n",
    "\n",
    "# Compute variance for different dimensions.\n",
    "dim = 10\n",
    "variance_before, variance_after = compute_variance(dim=dim)\n",
    "print(f\"Variance before scaling (dim={dim}): {variance_before}\")\n",
    "print(f\"Variance after scaling (dim={dim}): {variance_after}\\n\")\n",
    "\n",
    "dim = 100\n",
    "variance_before, variance_after = compute_variance(dim=dim)\n",
    "print(f\"Variance before scaling (dim={dim}): {variance_before}\")\n",
    "print(f\"Variance after scaling (dim={dim}): {variance_after}\\n\")\n",
    "\n",
    "dim = 1000\n",
    "variance_before, variance_after = compute_variance(dim=dim)\n",
    "print(f\"Variance before scaling (dim={dim}): {variance_before}\")\n",
    "print(f\"Variance after scaling (dim={dim}): {variance_after}\\n\")\n",
    "\n",
    "dim = 10000\n",
    "variance_before, variance_after = compute_variance(dim=dim)\n",
    "print(f\"Variance before scaling (dim={dim}): {variance_before}\")\n",
    "print(f\"Variance after scaling (dim={dim}): {variance_after}\")"
   ]
  },
  {
   "cell_type": "markdown",
   "id": "5976b450",
   "metadata": {},
   "source": [
    "<div>\n",
    "<img src=\"_docs/self-attention-full-flow.png\" width=\"800\"/><br>\n",
    "<img src=\"_docs/self-attention-step1.png\" width=\"800\"/><br>\n",
    "<img src=\"_docs/self-attention-step2.png\" width=\"800\"/><br>\n",
    "<img src=\"_docs/self-attention-step3.png\" width=\"800\"/><br>\n",
    "<img src=\"_docs/self-attention-step4.png\" width=\"800\"/><br>\n",
    "</div>"
   ]
  },
  {
   "cell_type": "code",
   "execution_count": 45,
   "id": "a6abccf4",
   "metadata": {},
   "outputs": [
    {
     "name": "stdout",
     "output_type": "stream",
     "text": [
      "'inputs':\n",
      "tensor([[0.4300, 0.1500, 0.8900],\n",
      "        [0.5500, 0.8700, 0.6600],\n",
      "        [0.5700, 0.8500, 0.6400],\n",
      "        [0.2200, 0.5800, 0.3300],\n",
      "        [0.7700, 0.2500, 0.1000],\n",
      "        [0.0500, 0.8000, 0.5500]])\n",
      "\n",
      "SelfAttention_v1 for 'inputs':\n",
      "tensor([[0.4741, 1.0206],\n",
      "        [0.4837, 1.0375],\n",
      "        [0.4831, 1.0363],\n",
      "        [0.4709, 1.0147],\n",
      "        [0.4632, 0.9975],\n",
      "        [0.4782, 1.0289]], grad_fn=<MmBackward0>)\n"
     ]
    }
   ],
   "source": [
    "import torch.nn as nn\n",
    "\n",
    "# Set seed for reproducibility.\n",
    "torch.manual_seed(14)\n",
    "\n",
    "# Create a compact self-attention class.\n",
    "class SelfAttention_v1(nn.Module):\n",
    "    def __init__(self, d_in, d_out):\n",
    "        super().__init__()\n",
    "        self.w_query = nn.Parameter(torch.rand(d_in, d_out))\n",
    "        self.w_key = nn.Parameter(torch.rand(d_in, d_out))\n",
    "        self.w_value = nn.Parameter(torch.rand(d_in, d_out))\n",
    "\n",
    "    def forward(self, x):\n",
    "        # Compute query, key, and value vectors.\n",
    "        queries = x @ self.w_query\n",
    "        keys = x @ self.w_key\n",
    "        values = x @ self.w_value\n",
    "\n",
    "        # Compute attention scores.\n",
    "        attn_scores = queries @ keys.T\n",
    "\n",
    "        # Scale attention scores.\n",
    "        d_k = keys.shape[-1]\n",
    "        attn_weights = torch.softmax(attn_scores / d_k**0.5, dim=-1)\n",
    "\n",
    "        # Compute context vectors.\n",
    "        context_vecs = attn_weights @ values\n",
    "\n",
    "        return context_vecs\n",
    "    \n",
    "# Create an instance of the self-attention class.\n",
    "d_in = inputs.shape[1]  # Input embedding size.\n",
    "d_out = 2  # Output embedding size.\n",
    "sa_v1 = SelfAttention_v1(d_in=d_in, d_out=d_out)\n",
    "\n",
    "print(f\"'inputs':\\n{inputs}\\n\")\n",
    "print(f\"SelfAttention_v1 for 'inputs':\\n{sa_v1(inputs)}\")"
   ]
  },
  {
   "cell_type": "code",
   "execution_count": 46,
   "id": "7cd172af",
   "metadata": {},
   "outputs": [
    {
     "name": "stdout",
     "output_type": "stream",
     "text": [
      "'inputs':\n",
      "tensor([[0.4300, 0.1500, 0.8900],\n",
      "        [0.5500, 0.8700, 0.6600],\n",
      "        [0.5700, 0.8500, 0.6400],\n",
      "        [0.2200, 0.5800, 0.3300],\n",
      "        [0.7700, 0.2500, 0.1000],\n",
      "        [0.0500, 0.8000, 0.5500]])\n",
      "\n",
      "SelfAttention_v2 for 'inputs':\n",
      "tensor([[ 0.0963, -0.1460],\n",
      "        [ 0.0963, -0.1459],\n",
      "        [ 0.0963, -0.1460],\n",
      "        [ 0.0988, -0.1522],\n",
      "        [ 0.0988, -0.1521],\n",
      "        [ 0.0981, -0.1503]], grad_fn=<MmBackward0>)\n"
     ]
    }
   ],
   "source": [
    "# Set seed for reproducibility.\n",
    "torch.manual_seed(14)\n",
    "\n",
    "# Create a self-attention class with PyTorch's Linear layer.\n",
    "class SelfAttention_v2(nn.Module):\n",
    "    def __init__(self, d_in, d_out, qkv_bias=False):\n",
    "        super().__init__()\n",
    "        self.w_query = nn.Linear(d_in, d_out, bias=qkv_bias)\n",
    "        self.w_key = nn.Linear(d_in, d_out, bias=qkv_bias)\n",
    "        self.w_value = nn.Linear(d_in, d_out, bias=qkv_bias)\n",
    "\n",
    "    def forward(self, x):\n",
    "        # Compute query, key, and value vectors.\n",
    "        queries = self.w_query(x)\n",
    "        keys = self.w_key(x)\n",
    "        values = self.w_value(x)\n",
    "\n",
    "        # Compute attention scores.\n",
    "        attn_scores = queries @ keys.T\n",
    "\n",
    "        # Scale attention scores.\n",
    "        d_k = keys.shape[-1]\n",
    "        attn_weights = torch.softmax(attn_scores / d_k**0.5, dim=-1)\n",
    "\n",
    "        # Compute context vectors.\n",
    "        context_vecs = attn_weights @ values\n",
    "\n",
    "        return context_vecs\n",
    "    \n",
    "# Create an instance of the self-attention class with PyTorch's Linear layer.\n",
    "d_in = inputs.shape[1]  # Input embedding size.\n",
    "d_out = 2  # Output embedding size.\n",
    "sa_v2 = SelfAttention_v2(d_in=d_in, d_out=d_out)\n",
    "\n",
    "print(f\"'inputs':\\n{inputs}\\n\")\n",
    "print(f\"SelfAttention_v2 for 'inputs':\\n{sa_v2(inputs)}\")"
   ]
  },
  {
   "cell_type": "markdown",
   "id": "039afadf",
   "metadata": {},
   "source": [
    "Causal attention"
   ]
  },
  {
   "cell_type": "markdown",
   "id": "83de1d88",
   "metadata": {},
   "source": [
    "<div>\n",
    "<img src=\"_docs/triangular-matrix.jpeg\" width=\"800\"/>\n",
    "</div>"
   ]
  },
  {
   "cell_type": "code",
   "execution_count": 47,
   "id": "ea935420",
   "metadata": {},
   "outputs": [
    {
     "name": "stdout",
     "output_type": "stream",
     "text": [
      "'inputs':\n",
      "tensor([[0.4300, 0.1500, 0.8900],\n",
      "        [0.5500, 0.8700, 0.6600],\n",
      "        [0.5700, 0.8500, 0.6400],\n",
      "        [0.2200, 0.5800, 0.3300],\n",
      "        [0.7700, 0.2500, 0.1000],\n",
      "        [0.0500, 0.8000, 0.5500]])\n",
      "\n",
      "Attention weights (normalised):\n",
      " tensor([[0.1883, 0.1539, 0.1540, 0.1692, 0.1685, 0.1660],\n",
      "        [0.1918, 0.1644, 0.1644, 0.1577, 0.1640, 0.1576],\n",
      "        [0.1915, 0.1644, 0.1644, 0.1578, 0.1641, 0.1578],\n",
      "        [0.1795, 0.1674, 0.1674, 0.1603, 0.1646, 0.1607],\n",
      "        [0.1788, 0.1649, 0.1650, 0.1629, 0.1657, 0.1627],\n",
      "        [0.1834, 0.1673, 0.1673, 0.1587, 0.1641, 0.1592]],\n",
      "       grad_fn=<SoftmaxBackward0>)\n",
      "\n",
      "Simple mask to apply on attention weights:\n",
      "tensor([[1., 0., 0., 0., 0., 0.],\n",
      "        [1., 1., 0., 0., 0., 0.],\n",
      "        [1., 1., 1., 0., 0., 0.],\n",
      "        [1., 1., 1., 1., 0., 0.],\n",
      "        [1., 1., 1., 1., 1., 0.],\n",
      "        [1., 1., 1., 1., 1., 1.]])\n"
     ]
    }
   ],
   "source": [
    "print(f\"'inputs':\\n{inputs}\\n\")\n",
    "\n",
    "queries = sa_v2.w_query(inputs)\n",
    "keys = sa_v2.w_key(inputs)\n",
    "attn_scores = queries @ keys.T\n",
    "attn_weights = torch.softmax(attn_scores / keys.shape[-1]**0.5, dim=-1)\n",
    "print(f\"Attention weights (normalised):\\n {attn_weights}\\n\")\n",
    "\n",
    "context_length = attn_scores.shape[0]\n",
    "# tril - lower triangular matrix. \n",
    "# triu - upper triangular matrix.\n",
    "mask_simple = torch.tril(torch.ones(context_length, context_length))\n",
    "print(f\"Simple mask to apply on attention weights:\\n{mask_simple}\")"
   ]
  },
  {
   "cell_type": "code",
   "execution_count": 48,
   "id": "8e95893f",
   "metadata": {},
   "outputs": [
    {
     "name": "stdout",
     "output_type": "stream",
     "text": [
      "Attention weights after applying mask:\n",
      "tensor([[0.1883, 0.0000, 0.0000, 0.0000, 0.0000, 0.0000],\n",
      "        [0.1918, 0.1644, 0.0000, 0.0000, 0.0000, 0.0000],\n",
      "        [0.1915, 0.1644, 0.1644, 0.0000, 0.0000, 0.0000],\n",
      "        [0.1795, 0.1674, 0.1674, 0.1603, 0.0000, 0.0000],\n",
      "        [0.1788, 0.1649, 0.1650, 0.1629, 0.1657, 0.0000],\n",
      "        [0.1834, 0.1673, 0.1673, 0.1587, 0.1641, 0.1592]],\n",
      "       grad_fn=<MulBackward0>)\n",
      "\n",
      "Attention weights renormalised after masking:\n",
      "tensor([[1.0000, 0.0000, 0.0000, 0.0000, 0.0000, 0.0000],\n",
      "        [0.5386, 0.4614, 0.0000, 0.0000, 0.0000, 0.0000],\n",
      "        [0.3681, 0.3159, 0.3160, 0.0000, 0.0000, 0.0000],\n",
      "        [0.2661, 0.2482, 0.2482, 0.2375, 0.0000, 0.0000],\n",
      "        [0.2135, 0.1970, 0.1970, 0.1946, 0.1979, 0.0000],\n",
      "        [0.1834, 0.1673, 0.1673, 0.1587, 0.1641, 0.1592]],\n",
      "       grad_fn=<DivBackward0>)\n"
     ]
    }
   ],
   "source": [
    "masked_simple = attn_weights*mask_simple\n",
    "print(f\"Attention weights after applying mask:\\n{masked_simple}\\n\")\n",
    "\n",
    "row_sums = masked_simple.sum(dim=-1, keepdim=True)\n",
    "masked_simple_norm = masked_simple / row_sums\n",
    "print(f\"Attention weights renormalised after masking:\\n{masked_simple_norm}\")"
   ]
  },
  {
   "cell_type": "code",
   "execution_count": 49,
   "id": "c853af04",
   "metadata": {},
   "outputs": [
    {
     "name": "stdout",
     "output_type": "stream",
     "text": [
      "Simple mask to apply on attention scores:\n",
      "tensor([[0., 1., 1., 1., 1., 1.],\n",
      "        [0., 0., 1., 1., 1., 1.],\n",
      "        [0., 0., 0., 1., 1., 1.],\n",
      "        [0., 0., 0., 0., 1., 1.],\n",
      "        [0., 0., 0., 0., 0., 1.],\n",
      "        [0., 0., 0., 0., 0., 0.]])\n",
      "\n",
      "Attention scores masked and filled (replaced):\n",
      "tensor([[-0.0625,    -inf,    -inf,    -inf,    -inf,    -inf],\n",
      "        [ 0.2607,  0.0422,    -inf,    -inf,    -inf,    -inf],\n",
      "        [ 0.2567,  0.0404,  0.0409,    -inf,    -inf,    -inf],\n",
      "        [ 0.1854,  0.0870,  0.0870,  0.0250,    -inf,    -inf],\n",
      "        [ 0.1113, -0.0027, -0.0024, -0.0203,  0.0039,    -inf],\n",
      "        [ 0.2318,  0.1018,  0.1019,  0.0268,  0.0748,  0.0313]],\n",
      "       grad_fn=<MaskedFillBackward0>)\n",
      "\n",
      "Attention weights after masking and softmax:\n",
      "tensor([[1.0000, 0.0000, 0.0000, 0.0000, 0.0000, 0.0000],\n",
      "        [0.5386, 0.4614, 0.0000, 0.0000, 0.0000, 0.0000],\n",
      "        [0.3681, 0.3159, 0.3160, 0.0000, 0.0000, 0.0000],\n",
      "        [0.2661, 0.2482, 0.2482, 0.2375, 0.0000, 0.0000],\n",
      "        [0.2135, 0.1970, 0.1970, 0.1946, 0.1979, 0.0000],\n",
      "        [0.1834, 0.1673, 0.1673, 0.1587, 0.1641, 0.1592]],\n",
      "       grad_fn=<SoftmaxBackward0>)\n",
      "\n",
      "Sum of each row in attention weights:\n",
      "tensor([1.0000, 1.0000, 1.0000, 1.0000, 1.0000, 1.0000],\n",
      "       grad_fn=<SumBackward1>)\n"
     ]
    }
   ],
   "source": [
    "mask = torch.triu(torch.ones(context_length, context_length), diagonal=1)\n",
    "print(f\"Simple mask to apply on attention scores:\\n{mask}\\n\")\n",
    "\n",
    "masked = attn_scores.masked_fill(mask.bool(), -torch.inf)\n",
    "print(f\"Attention scores masked and filled (replaced):\\n{masked}\\n\")\n",
    "\n",
    "attn_weights = torch.softmax(masked / keys.shape[-1]**0.5, dim=1)\n",
    "print(f\"Attention weights after masking and softmax:\\n{attn_weights}\\n\")\n",
    "\n",
    "print(f\"Sum of each row in attention weights:\\n{attn_weights.sum(dim=-1)}\")"
   ]
  },
  {
   "cell_type": "markdown",
   "id": "d8703c51",
   "metadata": {},
   "source": [
    "Why `triu` is used, instead of `tril`?\n",
    "\n",
    "```python\n",
    "print(f\"attn_scores:\\n{attn_scores}\\n\")\n",
    "print(f\"mask_simple:\\n{mask_simple}\\n\")\n",
    "\n",
    "attn_scores_masked = attn_scores * mask_simple\n",
    "print(f\"attn_scores * mask_simple:\\n{attn_scores_masked}\\n\")\n",
    "\n",
    "attn_weights_masked = torch.softmax(attn_scores_masked, dim=-1)\n",
    "print(f\"Attention weights after simple masking and softmax:\\n{attn_weights_masked}\\n\")\n",
    "\n",
    "print(f\"Sum of each row in attention weights:\\n{attn_weights.sum(dim=-1)}\\n\")\n",
    "```\n",
    "```\n",
    "attn_scores:\n",
    "tensor([[-0.0625, -0.3480, -0.3464, -0.2135, -0.2192, -0.2407],\n",
    "        [ 0.2607,  0.0422,  0.0426, -0.0164,  0.0392, -0.0172],\n",
    "        [ 0.2567,  0.0404,  0.0409, -0.0168,  0.0379, -0.0177],\n",
    "        [ 0.1854,  0.0870,  0.0870,  0.0250,  0.0633,  0.0291],\n",
    "        [ 0.1113, -0.0027, -0.0024, -0.0203,  0.0039, -0.0223],\n",
    "        [ 0.2318,  0.1018,  0.1019,  0.0268,  0.0748,  0.0313]],\n",
    "       grad_fn=<MmBackward0>)\n",
    "\n",
    "mask_simple:\n",
    "tensor([[1., 0., 0., 0., 0., 0.],\n",
    "        [1., 1., 0., 0., 0., 0.],\n",
    "        [1., 1., 1., 0., 0., 0.],\n",
    "        [1., 1., 1., 1., 0., 0.],\n",
    "        [1., 1., 1., 1., 1., 0.],\n",
    "        [1., 1., 1., 1., 1., 1.]])\n",
    "\n",
    "attn_scores * mask_simple:\n",
    "tensor([[-0.0625, -0.0000, -0.0000, -0.0000, -0.0000, -0.0000],\n",
    "        [ 0.2607,  0.0422,  0.0000, -0.0000,  0.0000, -0.0000],\n",
    "        [ 0.2567,  0.0404,  0.0409, -0.0000,  0.0000, -0.0000],\n",
    "        [ 0.1854,  0.0870,  0.0870,  0.0250,  0.0000,  0.0000],\n",
    "        [ 0.1113, -0.0027, -0.0024, -0.0203,  0.0039, -0.0000],\n",
    "        [ 0.2318,  0.1018,  0.1019,  0.0268,  0.0748,  0.0313]],\n",
    "       grad_fn=<MulBackward0>)\n",
    "\n",
    "Attention weights after simple masking and softmax:\n",
    "tensor([[0.1582, 0.1684, 0.1684, 0.1684, 0.1684, 0.1684],\n",
    "        [0.2047, 0.1645, 0.1577, 0.1577, 0.1577, 0.1577],\n",
    "        [0.2027, 0.1633, 0.1634, 0.1568, 0.1568, 0.1568],\n",
    "        [0.1878, 0.1702, 0.1702, 0.1599, 0.1560, 0.1560],\n",
    "        [0.1833, 0.1636, 0.1636, 0.1607, 0.1647, 0.1640],\n",
    "        [0.1907, 0.1675, 0.1675, 0.1554, 0.1630, 0.1561]],\n",
    "       grad_fn=<SoftmaxBackward0>)\n",
    "\n",
    "Sum of each row in attention weights:\n",
    "tensor([1.0000, 1.0000, 1.0000, 1.0000, 1.0000, 1.0000],\n",
    "       grad_fn=<SumBackward1>)\n",
    "```\n",
    "\n",
    "In this approach, the values that we wanted to mask in the `attention_weights` matrix do carry information and is __NOT Zero__."
   ]
  },
  {
   "cell_type": "code",
   "execution_count": 50,
   "id": "f6a57371",
   "metadata": {},
   "outputs": [
    {
     "name": "stdout",
     "output_type": "stream",
     "text": [
      "Example tensor before dropout:\n",
      "tensor([[1., 1., 1., 1., 1., 1.],\n",
      "        [1., 1., 1., 1., 1., 1.],\n",
      "        [1., 1., 1., 1., 1., 1.],\n",
      "        [1., 1., 1., 1., 1., 1.],\n",
      "        [1., 1., 1., 1., 1., 1.],\n",
      "        [1., 1., 1., 1., 1., 1.]])\n",
      "\n",
      "Example tensor after dropout:\n",
      "tensor([[0., 2., 0., 2., 2., 2.],\n",
      "        [0., 0., 2., 2., 0., 0.],\n",
      "        [0., 2., 0., 2., 0., 2.],\n",
      "        [0., 0., 0., 0., 0., 0.],\n",
      "        [2., 0., 0., 0., 0., 0.],\n",
      "        [0., 0., 0., 0., 2., 0.]])\n"
     ]
    }
   ],
   "source": [
    "torch.manual_seed(14)\n",
    "dropout = torch.nn.Dropout(p=0.5) # Set dropout probability to 50%.\n",
    "example = torch.ones(6, 6) # Example tensor to apply dropout on.\n",
    "print(f\"Example tensor before dropout:\\n{example}\\n\")\n",
    "print(f\"Example tensor after dropout:\\n{dropout(example)}\")"
   ]
  },
  {
   "cell_type": "markdown",
   "id": "fcafc150",
   "metadata": {},
   "source": [
    "The outputs are scaled by a factor of `1/(1-p)` during training. More details can be found [here](https://docs.pytorch.org/docs/stable/generated/torch.nn.Dropout.html)."
   ]
  },
  {
   "cell_type": "code",
   "execution_count": 51,
   "id": "e613f296",
   "metadata": {},
   "outputs": [
    {
     "name": "stdout",
     "output_type": "stream",
     "text": [
      "Attention weights before dropout:\n",
      "tensor([[1.0000, 0.0000, 0.0000, 0.0000, 0.0000, 0.0000],\n",
      "        [0.5386, 0.4614, 0.0000, 0.0000, 0.0000, 0.0000],\n",
      "        [0.3681, 0.3159, 0.3160, 0.0000, 0.0000, 0.0000],\n",
      "        [0.2661, 0.2482, 0.2482, 0.2375, 0.0000, 0.0000],\n",
      "        [0.2135, 0.1970, 0.1970, 0.1946, 0.1979, 0.0000],\n",
      "        [0.1834, 0.1673, 0.1673, 0.1587, 0.1641, 0.1592]],\n",
      "       grad_fn=<SoftmaxBackward0>)\n",
      "\n",
      "Attention weights after dropout:\n",
      "tensor([[0.0000, 0.0000, 0.0000, 0.0000, 0.0000, 0.0000],\n",
      "        [0.0000, 0.0000, 0.0000, 0.0000, 0.0000, 0.0000],\n",
      "        [0.0000, 0.6318, 0.0000, 0.0000, 0.0000, 0.0000],\n",
      "        [0.0000, 0.0000, 0.0000, 0.0000, 0.0000, 0.0000],\n",
      "        [0.4270, 0.0000, 0.0000, 0.0000, 0.0000, 0.0000],\n",
      "        [0.0000, 0.0000, 0.0000, 0.0000, 0.3283, 0.0000]],\n",
      "       grad_fn=<MulBackward0>)\n"
     ]
    }
   ],
   "source": [
    "torch.manual_seed(14)\n",
    "print(f\"Attention weights before dropout:\\n{attn_weights}\\n\")\n",
    "print(f\"Attention weights after dropout:\\n{dropout(attn_weights)}\")"
   ]
  },
  {
   "cell_type": "code",
   "execution_count": 52,
   "id": "b96d7557",
   "metadata": {},
   "outputs": [
    {
     "name": "stdout",
     "output_type": "stream",
     "text": [
      "Batch of inputs:\n",
      "tensor([[[0.4300, 0.1500, 0.8900],\n",
      "         [0.5500, 0.8700, 0.6600],\n",
      "         [0.5700, 0.8500, 0.6400],\n",
      "         [0.2200, 0.5800, 0.3300],\n",
      "         [0.7700, 0.2500, 0.1000],\n",
      "         [0.0500, 0.8000, 0.5500]],\n",
      "\n",
      "        [[0.4300, 0.1500, 0.8900],\n",
      "         [0.5500, 0.8700, 0.6600],\n",
      "         [0.5700, 0.8500, 0.6400],\n",
      "         [0.2200, 0.5800, 0.3300],\n",
      "         [0.7700, 0.2500, 0.1000],\n",
      "         [0.0500, 0.8000, 0.5500]]])\n",
      "\n",
      "Shape of the batch: torch.Size([2, 6, 3])\n",
      "\n"
     ]
    }
   ],
   "source": [
    "# Create a batch of inputs by stacking two copies of the same input tensor.\n",
    "batch = torch.stack((inputs, inputs), dim=0)\n",
    "print(f\"Batch of inputs:\\n{batch}\\n\")\n",
    "print(f\"Shape of the batch: {batch.shape}\\n\")\n",
    "\n",
    "# Implement a compact causal attention class.\n",
    "class CausalAttention(nn.Module):\n",
    "    def __init__(self, d_in, d_out, context_length, dropout, qkv_bias=False):\n",
    "        super().__init__()\n",
    "        self.w_query = nn.Linear(d_in, d_out, bias=qkv_bias)\n",
    "        self.w_key = nn.Linear(d_in, d_out, bias=qkv_bias)\n",
    "        self.w_value = nn.Linear(d_in, d_out, bias=qkv_bias)\n",
    "        self.context_length = context_length\n",
    "        self.dropout = nn.Dropout(p=dropout)\n",
    "        self.register_buffer(\n",
    "            name='mask', \n",
    "            tensor=torch.triu(torch.ones(context_length, context_length), diagonal=1)\n",
    "        )\n",
    "\n",
    "    def forward(self, x):\n",
    "        b, num_tokens, d_in = x.shape # Batch size, number of tokens, and input dimension.\n",
    "        # Here, batch size (b) and input dimension (d_in) are not used, but they can be useful for further processing.\n",
    "        \n",
    "        # Compute query, key, and value vectors.\n",
    "        queries = self.w_query(x)\n",
    "        keys = self.w_key(x)\n",
    "        values = self.w_value(x)\n",
    "\n",
    "        # Compute attention scores.\n",
    "        attn_scores = queries @ keys.transpose(1, 2) # Transpose dimensions 1 and 2, keeping the batch dimension at the first position (0).\n",
    "        \n",
    "        # Mask attention scores using the pre-defined mask.\n",
    "        # In PyTorch, operations with a trailing underscore are performed in-place, avoiding unnecessary memory copies.\n",
    "        attn_scores.masked_fill_(\n",
    "            self.mask.bool()[:num_tokens, :num_tokens], -torch.inf \n",
    "        )\n",
    "\n",
    "        # Normalise attention scores.\n",
    "        attn_weights = torch.softmax(input=attn_scores / keys.shape[-1]**0.5, dim=-1)\n",
    "\n",
    "        # Apply dropout to attention weights.\n",
    "        attn_weights = self.dropout(attn_weights)\n",
    "\n",
    "        # Compute context vectors.\n",
    "        context_vecs = attn_weights @ values\n",
    "\n",
    "        return context_vecs"
   ]
  },
  {
   "cell_type": "markdown",
   "id": "a6d75d39",
   "metadata": {},
   "source": [
    "| Variable        | Shape                        | Meaning                                  |\n",
    "|-----------------|-----------------------------|------------------------------------------|\n",
    "| `batch`         | (b, num_tokens, d_in)       | Input batch of sequences                 |\n",
    "| `queries`       | (b, num_tokens, d_out)      | Projected queries per batch              |\n",
    "| `keys`          | (b, num_tokens, d_out)      | Projected keys per batch                 |\n",
    "| `attn_scores`   | (b, num_tokens, num_tokens) | Attention scores per batch               |\n",
    "| `attn_weights`  | (b, num_tokens, num_tokens) | Normalized attention weights per batch   |\n",
    "| `values`        | (b, num_tokens, d_out)      | Projected values per batch               |\n",
    "| `context_vecs`  | (b, num_tokens, d_out)      | Output context vectors per batch         |"
   ]
  },
  {
   "cell_type": "code",
   "execution_count": 53,
   "id": "0d36d39d",
   "metadata": {},
   "outputs": [
    {
     "name": "stdout",
     "output_type": "stream",
     "text": [
      "Context vectors for the batch of inputs:\n",
      "tensor([[[-0.4519,  0.2216],\n",
      "         [-0.5874,  0.0058],\n",
      "         [-0.6300, -0.0632],\n",
      "         [-0.5675, -0.0843],\n",
      "         [-0.5526, -0.0981],\n",
      "         [-0.5299, -0.1081]],\n",
      "\n",
      "        [[-0.4519,  0.2216],\n",
      "         [-0.5874,  0.0058],\n",
      "         [-0.6300, -0.0632],\n",
      "         [-0.5675, -0.0843],\n",
      "         [-0.5526, -0.0981],\n",
      "         [-0.5299, -0.1081]]], grad_fn=<UnsafeViewBackward0>)\n",
      "\n",
      "Shape of context vectors: torch.Size([2, 6, 2])\n"
     ]
    }
   ],
   "source": [
    "torch.manual_seed(123)\n",
    "\n",
    "context_length = batch.shape[1] # Context length is the number of tokens in the input sequence.\n",
    "d_in = batch.shape[-1]  # Input embedding size.\n",
    "d_out = 2  # Output embedding size.\n",
    "\n",
    "# Create an instance of the CausalAttention class.\n",
    "ca = CausalAttention(d_in=d_in, d_out=d_out, context_length=context_length, dropout=0.0)\n",
    "\n",
    "# Calcuate context vectors for the batch of inputs.\n",
    "context_vecs = ca(batch)\n",
    "print(f\"Context vectors for the batch of inputs:\\n{context_vecs}\\n\")\n",
    "print(f\"Shape of context vectors: {context_vecs.shape}\")"
   ]
  },
  {
   "cell_type": "markdown",
   "id": "d7116d1e",
   "metadata": {},
   "source": [
    "__How does the class know that the inputs are in batches?__\n",
    "\n",
    "The class knows the inputs are in batches because of the shape of the input tensor you pass to it.\n",
    "\n",
    "When you call:\n",
    "\n",
    "```python\n",
    "context_vecs = ca(batch)\n",
    "```\n",
    "\n",
    "your `batch` tensor has shape (batch_size, num_tokens, d_in), for example `(2, 6, 3)`.\n",
    "\n",
    "Inside the `forward` method:\n",
    "\n",
    "```python\n",
    "b, num_tokens, d_in = x.shape\n",
    "```\n",
    "\n",
    "PyTorch automatically handles the first dimension `(b)` as the batch size. All operations (like linear layers and matrix multiplications) are __vectorized__ to work on each batch independently.\n",
    "\n",
    "- The `nn.Linear` layers (`self.w_query`, etc.) are designed to process the batch dimension automatically.\n",
    "- Matrix multiplications like `queries @ keys.transpose(1, 2)` are performed for each batch in parallel.\n",
    "\n",
    "_Summary:_\n",
    "\n",
    "The class doesn't need any special code to \"know\" about batches—PyTorch's tensor operations and layers always treat the first dimension as the batch, and process all batches in parallel. The shape of the input tells the class how many batches there are."
   ]
  },
  {
   "cell_type": "markdown",
   "id": "6e89e1f6",
   "metadata": {},
   "source": [
    "Multi-head attention\n",
    "\n",
    "<div>\n",
    "<img src=\"_docs/multihead-attention-01.png\" width=\"800\"/><br>\n",
    "<img src=\"_docs/multihead-attention-02.png\" width=\"800\"/><br>\n",
    "</div>"
   ]
  },
  {
   "cell_type": "code",
   "execution_count": 54,
   "id": "a0ff263f",
   "metadata": {},
   "outputs": [],
   "source": [
    "# Wrapper class to implement multi-head attention.\n",
    "class MultiHeadAttentionWrapper(nn.Module):\n",
    "    def __init__(self, d_in, d_out, context_length,\n",
    "                 dropout, num_heads, qkv_bias=False):\n",
    "        super().__init__()\n",
    "        self.heads = nn.ModuleList(\n",
    "            modules=[\n",
    "                CausalAttention(\n",
    "                    d_in=d_in, d_out=d_out, context_length=context_length,\n",
    "                    dropout=dropout, qkv_bias=qkv_bias\n",
    "                )\n",
    "                for _ in range(num_heads)\n",
    "            ]\n",
    "        )\n",
    "\n",
    "    def forward(self, x):\n",
    "        # Concatenate context vectors from all heads along the last dimension.\n",
    "        return torch.cat([head(x) for head in self.heads], dim=-1)"
   ]
  },
  {
   "cell_type": "code",
   "execution_count": 55,
   "id": "cb70f846",
   "metadata": {},
   "outputs": [
    {
     "name": "stdout",
     "output_type": "stream",
     "text": [
      "Input batch:\n",
      "tensor([[[0.4300, 0.1500, 0.8900],\n",
      "         [0.5500, 0.8700, 0.6600],\n",
      "         [0.5700, 0.8500, 0.6400],\n",
      "         [0.2200, 0.5800, 0.3300],\n",
      "         [0.7700, 0.2500, 0.1000],\n",
      "         [0.0500, 0.8000, 0.5500]],\n",
      "\n",
      "        [[0.4300, 0.1500, 0.8900],\n",
      "         [0.5500, 0.8700, 0.6600],\n",
      "         [0.5700, 0.8500, 0.6400],\n",
      "         [0.2200, 0.5800, 0.3300],\n",
      "         [0.7700, 0.2500, 0.1000],\n",
      "         [0.0500, 0.8000, 0.5500]]])\n",
      "\n",
      "Shape of the input batch: torch.Size([2, 6, 3])\n"
     ]
    }
   ],
   "source": [
    "print(f\"Input batch:\\n{batch}\\n\")\n",
    "print(f\"Shape of the input batch: {batch.shape}\")"
   ]
  },
  {
   "cell_type": "code",
   "execution_count": 56,
   "id": "ba719fe8",
   "metadata": {},
   "outputs": [
    {
     "name": "stdout",
     "output_type": "stream",
     "text": [
      "Context vectors for the batch of inputs:\n",
      "tensor([[[-0.0430,  0.2785,  0.3550,  0.2952,  0.3919, -0.2866],\n",
      "         [ 0.0550,  0.0223,  0.2980,  0.3787,  0.4385, -0.2164],\n",
      "         [ 0.0883, -0.0746,  0.2801,  0.4013,  0.4448, -0.1903],\n",
      "         [ 0.1034, -0.1121,  0.2310,  0.3728,  0.4086, -0.1674],\n",
      "         [ 0.0730, -0.1552,  0.2312,  0.2970,  0.3114, -0.1030],\n",
      "         [ 0.0981, -0.1503,  0.2038,  0.3307,  0.3417, -0.1192]],\n",
      "\n",
      "        [[-0.0430,  0.2785,  0.3550,  0.2952,  0.3919, -0.2866],\n",
      "         [ 0.0550,  0.0223,  0.2980,  0.3787,  0.4385, -0.2164],\n",
      "         [ 0.0883, -0.0746,  0.2801,  0.4013,  0.4448, -0.1903],\n",
      "         [ 0.1034, -0.1121,  0.2310,  0.3728,  0.4086, -0.1674],\n",
      "         [ 0.0730, -0.1552,  0.2312,  0.2970,  0.3114, -0.1030],\n",
      "         [ 0.0981, -0.1503,  0.2038,  0.3307,  0.3417, -0.1192]]],\n",
      "       grad_fn=<CatBackward0>)\n",
      "\n",
      "Shape of context vectors: torch.Size([2, 6, 6])\n"
     ]
    }
   ],
   "source": [
    "torch.manual_seed(14)\n",
    "context_length = batch.shape[1] # Number of tokens.\n",
    "d_in, d_out = 3, 2\n",
    "num_heads = 3 # Number of attention heads.\n",
    "\n",
    "# Create an instance of the MultiHeadAttention class.\n",
    "mhaw = MultiHeadAttentionWrapper(\n",
    "    d_in=d_in, d_out=d_out, context_length=context_length,\n",
    "    dropout=0.0, num_heads=num_heads\n",
    ")\n",
    "\n",
    "# Calculate context vectors for the batch of inputs.\n",
    "context_vecs = mhaw(batch)\n",
    "print(f\"Context vectors for the batch of inputs:\\n{context_vecs}\\n\")\n",
    "print(f\"Shape of context vectors: {context_vecs.shape}\")"
   ]
  },
  {
   "cell_type": "markdown",
   "id": "63fe7d49",
   "metadata": {},
   "source": [
    "Multi-head attention with weight splits\n",
    "\n",
    "<div>\n",
    "<img src=\"_docs/multihead-attention-03.png\" width=\"800\"/>\n",
    "</div>"
   ]
  },
  {
   "cell_type": "code",
   "execution_count": 57,
   "id": "e7bdd3d2",
   "metadata": {},
   "outputs": [
    {
     "name": "stdout",
     "output_type": "stream",
     "text": [
      "Input tensor shape: torch.Size([2, 4, 6])\n",
      "Input tensor:\n",
      "tensor([[[-0.3400, -0.1000,  1.4000,  0.7800, -1.1800,  0.2500],\n",
      "         [-0.3500,  0.1200,  1.2500, -0.0200,  1.8400, -1.4100],\n",
      "         [ 1.4700, -1.6900,  0.0400,  0.5500,  0.2600, -2.1500],\n",
      "         [-1.4300,  0.1000, -0.5200,  2.2900,  0.1400, -0.7400]],\n",
      "\n",
      "        [[-0.0700,  2.0300, -0.0300, -1.0800,  0.9800,  0.8000],\n",
      "         [-1.3800,  0.5800,  0.9400, -0.7300,  0.6800, -0.4200],\n",
      "         [ 0.6200, -0.0500, -0.8400, -1.8700, -1.3300, -0.7100],\n",
      "         [ 1.6800,  1.6900, -1.2400, -0.0900, -0.4400, -0.1500]]])\n",
      "\n"
     ]
    }
   ],
   "source": [
    "torch.manual_seed(14)\n",
    "\n",
    "b = 2 # Batch size.\n",
    "context_length = 4 # Number of tokens.\n",
    "d_in = d_out = 6 # Input and output embedding sizes.\n",
    "test_input = torch.randn(b, context_length, d_in).round(decimals=2)\n",
    "print(f\"Input tensor shape: {test_input.shape}\")\n",
    "print(f\"Input tensor:\\n{test_input}\\n\") "
   ]
  },
  {
   "cell_type": "code",
   "execution_count": 58,
   "id": "b9766a40",
   "metadata": {},
   "outputs": [
    {
     "name": "stdout",
     "output_type": "stream",
     "text": [
      "Each head's dimension: (6, 3)\n",
      "\n",
      "Test query shape: torch.Size([6, 6])\n",
      "Test query:\n",
      "tensor([[-0.3400, -0.1000,  1.4000,  0.7800, -1.1800,  0.2500],\n",
      "        [-0.3500,  0.1200,  1.2500, -0.0200,  1.8400, -1.4100],\n",
      "        [ 1.4700, -1.6900,  0.0400,  0.5500,  0.2600, -2.1500],\n",
      "        [-1.4300,  0.1000,  0.6200, -0.0500, -0.8400, -1.8700],\n",
      "        [-0.2600,  0.3000,  0.6100, -0.1100, -1.2400, -0.0900],\n",
      "        [-0.4400, -0.1500,  1.9200, -1.3700, -0.2200, -0.8200]])\n",
      "\n",
      "Test key shape: torch.Size([6, 6])\n",
      "Test key:\n",
      "tensor([[ 0.2900, -0.3900, -0.3400,  1.2800,  0.9800,  2.2200],\n",
      "        [ 1.0600, -0.4700,  1.1300, -0.2800,  0.5600, -1.5100],\n",
      "        [ 0.9200, -0.5600, -0.2600,  1.3200, -0.0100,  0.0100],\n",
      "        [-0.3200, -1.7400,  0.2700, -0.0100, -1.3400,  0.5200],\n",
      "        [ 1.2800,  0.7300, -0.5100,  0.2400,  2.0200, -0.1600],\n",
      "        [-0.7600, -0.0000, -0.8900,  0.2100,  0.4800, -0.7500]])\n",
      "\n",
      "Test value shape: torch.Size([6, 6])\n",
      "\n",
      "Test value:\n",
      "tensor([[ 1.0200, -1.2600, -0.8700, -0.2000,  0.2300,  1.5200],\n",
      "        [ 0.5400, -0.6700,  1.9700,  0.4800, -0.5800, -2.4100],\n",
      "        [-2.1200,  0.1100,  0.1000,  0.3000,  0.9200, -0.3700],\n",
      "        [ 1.4600, -0.1300, -0.9500, -0.6600,  0.2200,  0.7500],\n",
      "        [ 0.3100,  0.6500, -0.8200,  0.2400,  0.1000, -0.6800],\n",
      "        [-0.8400,  0.8300, -0.2300,  0.7500, -0.0200, -0.2700]])\n",
      "\n"
     ]
    }
   ],
   "source": [
    "torch.manual_seed(14)\n",
    "\n",
    "num_heads = 2 # Number of attention heads.\n",
    "dim_head = d_out // num_heads # Output embedding size per head.\n",
    "\n",
    "w_query = torch.randn(d_in, d_out).round(decimals=2)\n",
    "w_key = torch.randn(d_in, d_out).round(decimals=2)\n",
    "w_value = torch.randn(d_in, d_out).round(decimals=2)\n",
    "\n",
    "print(f\"Each head's dimension: {d_in, dim_head}\\n\")\n",
    "print(f\"Test query shape: {w_query.shape}\")\n",
    "print(f\"Test query:\\n{w_query}\\n\")\n",
    "print(f\"Test key shape: {w_key.shape}\")\n",
    "print(f\"Test key:\\n{w_key}\\n\")\n",
    "print(f\"Test value shape: {w_value.shape}\\n\")\n",
    "print(f\"Test value:\\n{w_value}\\n\")"
   ]
  },
  {
   "cell_type": "code",
   "execution_count": 59,
   "id": "03f990aa",
   "metadata": {},
   "outputs": [
    {
     "name": "stdout",
     "output_type": "stream",
     "text": [
      "Test query shape: torch.Size([2, 4, 6])\n",
      "Test query:\n",
      "tensor([[[ 1.2900, -2.6575, -0.3012,  0.2551,  1.3342, -4.5114],\n",
      "         [ 2.0851, -1.3016, -1.8872,  2.1424, -0.9958, -1.9162],\n",
      "         [ 0.2424,  0.0381, -3.6813,  4.0918, -5.1452,  3.3755],\n",
      "         [-3.2987,  1.4158, -1.8134, -0.5195, -0.1982, -3.0686]],\n",
      "\n",
      "        [[ 0.2068,  0.3673,  3.9025, -1.2615,  3.3260, -1.5399],\n",
      "         [ 2.6999, -1.1870, -2.0136, -0.0339,  2.8024, -1.5355],\n",
      "         [ 1.9042,  0.8721, -2.5620,  1.2351,  2.3342,  6.2303],\n",
      "         [-2.6764,  2.0119,  3.8027,  0.8530,  1.4590,  1.0340]]])\n",
      "\n",
      "Test keys shape: torch.Size([2, 4, 6])\n",
      "Test keys:\n",
      "tensor([[[-0.8666, -2.8230,  0.2285,  1.2023, -3.7120, -0.1829],\n",
      "         [ 4.6089,  0.7581,  0.2407,  1.3141,  2.7785, -0.1930],\n",
      "         [ 0.4625, -0.5686, -0.4905,  2.0130, -0.7500,  7.6726],\n",
      "         [-0.7783, -3.0805,  1.9399, -2.6895, -4.4812, -1.6074]],\n",
      "\n",
      "        [[ 3.0959,  1.6846,  0.8221, -0.2836,  4.8793, -4.5394],\n",
      "         [ 2.5026,  1.5058,  0.7101, -0.6057,  1.1132, -4.1034],\n",
      "         [-1.2104,  2.5350,  0.7564, -0.7508,  0.0664,  1.2164],\n",
      "         [ 0.7174, -0.9197,  1.9945, -0.0958,  1.7650,  1.3014]]])\n",
      "\n",
      "Test values shape: torch.Size([2, 4, 6])\n",
      "\n",
      "Test values:\n",
      "tensor([[[-2.8058, -0.0115,  0.4079, -0.1705,  1.3164,  0.5261],\n",
      "         [-1.2166,  0.5264, -0.4996, -0.1001,  1.2077, -2.1692],\n",
      "         [ 3.1916, -2.4025, -4.8454, -3.0063,  1.5451,  7.1087],\n",
      "         [ 3.7062,  0.8567, -0.7310, -1.8548, -0.3327, -0.4001]],\n",
      "\n",
      "        [[-0.8566,  0.1662,  4.0954,  2.5274, -1.3767, -6.6800],\n",
      "         [-3.5894,  1.6419,  2.6697,  1.1664,  0.1268, -4.7397],\n",
      "         [-0.1599, -2.0508,  2.3085, -0.0175, -1.1314,  1.0673],\n",
      "         [ 5.1132, -3.7843,  2.2245, -0.0555, -1.7954, -0.7883]]])\n",
      "\n"
     ]
    }
   ],
   "source": [
    "test_query = test_input @ w_query\n",
    "test_keys = test_input @ w_key\n",
    "test_values = test_input @ w_value\n",
    "\n",
    "print(f\"Test query shape: {test_query.shape}\")\n",
    "print(f\"Test query:\\n{test_query}\\n\")\n",
    "print(f\"Test keys shape: {test_keys.shape}\")\n",
    "print(f\"Test keys:\\n{test_keys}\\n\")\n",
    "print(f\"Test values shape: {test_values.shape}\\n\")\n",
    "print(f\"Test values:\\n{test_values}\\n\")\n"
   ]
  },
  {
   "cell_type": "code",
   "execution_count": 60,
   "id": "7962de4d",
   "metadata": {},
   "outputs": [
    {
     "name": "stdout",
     "output_type": "stream",
     "text": [
      "Test query shape after reshaping: torch.Size([2, 4, 2, 3])\n",
      "Test query after reshaping:\n",
      "tensor([[[[ 1.2900, -2.6575, -0.3012],\n",
      "          [ 0.2551,  1.3342, -4.5114]],\n",
      "\n",
      "         [[ 2.0851, -1.3016, -1.8872],\n",
      "          [ 2.1424, -0.9958, -1.9162]],\n",
      "\n",
      "         [[ 0.2424,  0.0381, -3.6813],\n",
      "          [ 4.0918, -5.1452,  3.3755]],\n",
      "\n",
      "         [[-3.2987,  1.4158, -1.8134],\n",
      "          [-0.5195, -0.1982, -3.0686]]],\n",
      "\n",
      "\n",
      "        [[[ 0.2068,  0.3673,  3.9025],\n",
      "          [-1.2615,  3.3260, -1.5399]],\n",
      "\n",
      "         [[ 2.6999, -1.1870, -2.0136],\n",
      "          [-0.0339,  2.8024, -1.5355]],\n",
      "\n",
      "         [[ 1.9042,  0.8721, -2.5620],\n",
      "          [ 1.2351,  2.3342,  6.2303]],\n",
      "\n",
      "         [[-2.6764,  2.0119,  3.8027],\n",
      "          [ 0.8530,  1.4590,  1.0340]]]])\n",
      "\n",
      "Test keys shape after reshaping: torch.Size([2, 4, 2, 3])\n",
      "Test keys after reshaping:\n",
      "tensor([[[[-0.8666, -2.8230,  0.2285],\n",
      "          [ 1.2023, -3.7120, -0.1829]],\n",
      "\n",
      "         [[ 4.6089,  0.7581,  0.2407],\n",
      "          [ 1.3141,  2.7785, -0.1930]],\n",
      "\n",
      "         [[ 0.4625, -0.5686, -0.4905],\n",
      "          [ 2.0130, -0.7500,  7.6726]],\n",
      "\n",
      "         [[-0.7783, -3.0805,  1.9399],\n",
      "          [-2.6895, -4.4812, -1.6074]]],\n",
      "\n",
      "\n",
      "        [[[ 3.0959,  1.6846,  0.8221],\n",
      "          [-0.2836,  4.8793, -4.5394]],\n",
      "\n",
      "         [[ 2.5026,  1.5058,  0.7101],\n",
      "          [-0.6057,  1.1132, -4.1034]],\n",
      "\n",
      "         [[-1.2104,  2.5350,  0.7564],\n",
      "          [-0.7508,  0.0664,  1.2164]],\n",
      "\n",
      "         [[ 0.7174, -0.9197,  1.9945],\n",
      "          [-0.0958,  1.7650,  1.3014]]]])\n",
      "\n",
      "Test values shape after reshaping: torch.Size([2, 4, 2, 3])\n",
      "Test values after reshaping:\n",
      "tensor([[[[-2.8058, -0.0115,  0.4079],\n",
      "          [-0.1705,  1.3164,  0.5261]],\n",
      "\n",
      "         [[-1.2166,  0.5264, -0.4996],\n",
      "          [-0.1001,  1.2077, -2.1692]],\n",
      "\n",
      "         [[ 3.1916, -2.4025, -4.8454],\n",
      "          [-3.0063,  1.5451,  7.1087]],\n",
      "\n",
      "         [[ 3.7062,  0.8567, -0.7310],\n",
      "          [-1.8548, -0.3327, -0.4001]]],\n",
      "\n",
      "\n",
      "        [[[-0.8566,  0.1662,  4.0954],\n",
      "          [ 2.5274, -1.3767, -6.6800]],\n",
      "\n",
      "         [[-3.5894,  1.6419,  2.6697],\n",
      "          [ 1.1664,  0.1268, -4.7397]],\n",
      "\n",
      "         [[-0.1599, -2.0508,  2.3085],\n",
      "          [-0.0175, -1.1314,  1.0673]],\n",
      "\n",
      "         [[ 5.1132, -3.7843,  2.2245],\n",
      "          [-0.0555, -1.7954, -0.7883]]]])\n",
      "\n"
     ]
    }
   ],
   "source": [
    "# Reshape the test query, keys, and values for multi-head attention.\n",
    "query = test_query.reshape(b, context_length, num_heads, dim_head)\n",
    "keys = test_keys.reshape(b, context_length, num_heads, dim_head)\n",
    "values = test_values.reshape(b, context_length, num_heads, dim_head)\n",
    "\n",
    "print(f\"Test query shape after reshaping: {query.shape}\")\n",
    "print(f\"Test query after reshaping:\\n{query}\\n\")\n",
    "print(f\"Test keys shape after reshaping: {keys.shape}\")\n",
    "print(f\"Test keys after reshaping:\\n{keys}\\n\")\n",
    "print(f\"Test values shape after reshaping: {values.shape}\")\n",
    "print(f\"Test values after reshaping:\\n{values}\\n\")"
   ]
  },
  {
   "cell_type": "markdown",
   "id": "fe20ec89",
   "metadata": {},
   "source": [
    "A __contiguous tensor__ in PyTorch means that the data is stored in a single, continuous chunk of memory, with no gaps or jumps between elements. This is important for some operations (like `.view()`) that rely on the underlying memory layout.\n",
    "\n",
    "- _Why does it matter?_\n",
    "\n",
    "    Some tensor operations (like slicing, transposing, or certain advanced indexing) can create non-contiguous tensors. These tensors still work for most operations, but some methods (like `.view()`) require the tensor to be contiguous for efficiency and correctness.\n",
    "\n",
    "- _How to check?_\n",
    "\n",
    "    You can check if a tensor is contiguous with `.is_contiguous()`:\n",
    "\n",
    "    ```python\n",
    "    print(tensor.is_contiguous())\n",
    "    ```\n",
    "\n",
    "- _How to make a tensor contiguous?_\n",
    "\n",
    "    Use `.contiguous()` to get a contiguous copy:\n",
    "    ```python\n",
    "    tensor = tensor.contiguous()\n",
    "    ```\n",
    "\n",
    "- _Why does `.reshape()` work?_\n",
    "\n",
    "    `.reshape()` is more flexible: if the tensor is not contiguous, it will automatically make a contiguous copy if needed, so it works in more cases than `.view()`.\n",
    "\n",
    "__Summary:__\n",
    "\n",
    "A contiguous tensor has its elements stored in an unbroken block of memory. Some operations require this for efficiency. If you get a \"not contiguous\" error, use `.reshape()` or `.contiguous()` to fix it."
   ]
  },
  {
   "cell_type": "code",
   "execution_count": 61,
   "id": "eb3ef2cc",
   "metadata": {},
   "outputs": [
    {
     "name": "stdout",
     "output_type": "stream",
     "text": [
      "Test query shape after reshaping: torch.Size([2, 4, 2, 3])\n",
      "Test query after reshaping:\n",
      "tensor([[[[ 1.2900, -2.6575, -0.3012],\n",
      "          [ 0.2551,  1.3342, -4.5114]],\n",
      "\n",
      "         [[ 2.0851, -1.3016, -1.8872],\n",
      "          [ 2.1424, -0.9958, -1.9162]],\n",
      "\n",
      "         [[ 0.2424,  0.0381, -3.6813],\n",
      "          [ 4.0918, -5.1452,  3.3755]],\n",
      "\n",
      "         [[-3.2987,  1.4158, -1.8134],\n",
      "          [-0.5195, -0.1982, -3.0686]]],\n",
      "\n",
      "\n",
      "        [[[ 0.2068,  0.3673,  3.9025],\n",
      "          [-1.2615,  3.3260, -1.5399]],\n",
      "\n",
      "         [[ 2.6999, -1.1870, -2.0136],\n",
      "          [-0.0339,  2.8024, -1.5355]],\n",
      "\n",
      "         [[ 1.9042,  0.8721, -2.5620],\n",
      "          [ 1.2351,  2.3342,  6.2303]],\n",
      "\n",
      "         [[-2.6764,  2.0119,  3.8027],\n",
      "          [ 0.8530,  1.4590,  1.0340]]]])\n",
      "\n",
      "Test keys shape after reshaping: torch.Size([2, 4, 2, 3])\n",
      "Test keys after reshaping:\n",
      "tensor([[[[-0.8666, -2.8230,  0.2285],\n",
      "          [ 1.2023, -3.7120, -0.1829]],\n",
      "\n",
      "         [[ 4.6089,  0.7581,  0.2407],\n",
      "          [ 1.3141,  2.7785, -0.1930]],\n",
      "\n",
      "         [[ 0.4625, -0.5686, -0.4905],\n",
      "          [ 2.0130, -0.7500,  7.6726]],\n",
      "\n",
      "         [[-0.7783, -3.0805,  1.9399],\n",
      "          [-2.6895, -4.4812, -1.6074]]],\n",
      "\n",
      "\n",
      "        [[[ 3.0959,  1.6846,  0.8221],\n",
      "          [-0.2836,  4.8793, -4.5394]],\n",
      "\n",
      "         [[ 2.5026,  1.5058,  0.7101],\n",
      "          [-0.6057,  1.1132, -4.1034]],\n",
      "\n",
      "         [[-1.2104,  2.5350,  0.7564],\n",
      "          [-0.7508,  0.0664,  1.2164]],\n",
      "\n",
      "         [[ 0.7174, -0.9197,  1.9945],\n",
      "          [-0.0958,  1.7650,  1.3014]]]])\n",
      "\n",
      "Test values shape after reshaping: torch.Size([2, 4, 2, 3])\n",
      "Test values after reshaping:\n",
      "tensor([[[[-2.8058, -0.0115,  0.4079],\n",
      "          [-0.1705,  1.3164,  0.5261]],\n",
      "\n",
      "         [[-1.2166,  0.5264, -0.4996],\n",
      "          [-0.1001,  1.2077, -2.1692]],\n",
      "\n",
      "         [[ 3.1916, -2.4025, -4.8454],\n",
      "          [-3.0063,  1.5451,  7.1087]],\n",
      "\n",
      "         [[ 3.7062,  0.8567, -0.7310],\n",
      "          [-1.8548, -0.3327, -0.4001]]],\n",
      "\n",
      "\n",
      "        [[[-0.8566,  0.1662,  4.0954],\n",
      "          [ 2.5274, -1.3767, -6.6800]],\n",
      "\n",
      "         [[-3.5894,  1.6419,  2.6697],\n",
      "          [ 1.1664,  0.1268, -4.7397]],\n",
      "\n",
      "         [[-0.1599, -2.0508,  2.3085],\n",
      "          [-0.0175, -1.1314,  1.0673]],\n",
      "\n",
      "         [[ 5.1132, -3.7843,  2.2245],\n",
      "          [-0.0555, -1.7954, -0.7883]]]])\n",
      "\n"
     ]
    }
   ],
   "source": [
    "# Reshape the test query, keys, and values for multi-head attention.\n",
    "query = test_query.contiguous().view(b, context_length, num_heads, dim_head)\n",
    "keys = test_keys.contiguous().view(b, context_length, num_heads, dim_head)\n",
    "values = test_values.contiguous().view(b, context_length, num_heads, dim_head)\n",
    "\n",
    "print(f\"Test query shape after reshaping: {query.shape}\")\n",
    "print(f\"Test query after reshaping:\\n{query}\\n\")\n",
    "print(f\"Test keys shape after reshaping: {keys.shape}\")\n",
    "print(f\"Test keys after reshaping:\\n{keys}\\n\")\n",
    "print(f\"Test values shape after reshaping: {values.shape}\")\n",
    "print(f\"Test values after reshaping:\\n{values}\\n\")"
   ]
  },
  {
   "cell_type": "code",
   "execution_count": 62,
   "id": "a6233c8e",
   "metadata": {},
   "outputs": [
    {
     "name": "stdout",
     "output_type": "stream",
     "text": [
      "Test query shape after reshaping: torch.Size([2, 2, 4, 3])\n",
      "Test query after reshaping:\n",
      "tensor([[[[ 1.2900, -2.6575, -0.3012],\n",
      "          [ 2.0851, -1.3016, -1.8872],\n",
      "          [ 0.2424,  0.0381, -3.6813],\n",
      "          [-3.2987,  1.4158, -1.8134]],\n",
      "\n",
      "         [[ 0.2551,  1.3342, -4.5114],\n",
      "          [ 2.1424, -0.9958, -1.9162],\n",
      "          [ 4.0918, -5.1452,  3.3755],\n",
      "          [-0.5195, -0.1982, -3.0686]]],\n",
      "\n",
      "\n",
      "        [[[ 0.2068,  0.3673,  3.9025],\n",
      "          [ 2.6999, -1.1870, -2.0136],\n",
      "          [ 1.9042,  0.8721, -2.5620],\n",
      "          [-2.6764,  2.0119,  3.8027]],\n",
      "\n",
      "         [[-1.2615,  3.3260, -1.5399],\n",
      "          [-0.0339,  2.8024, -1.5355],\n",
      "          [ 1.2351,  2.3342,  6.2303],\n",
      "          [ 0.8530,  1.4590,  1.0340]]]])\n",
      "\n",
      "Test keys shape after reshaping: torch.Size([2, 2, 4, 3])\n",
      "Test keys after reshaping:\n",
      "tensor([[[[-0.8666, -2.8230,  0.2285],\n",
      "          [ 4.6089,  0.7581,  0.2407],\n",
      "          [ 0.4625, -0.5686, -0.4905],\n",
      "          [-0.7783, -3.0805,  1.9399]],\n",
      "\n",
      "         [[ 1.2023, -3.7120, -0.1829],\n",
      "          [ 1.3141,  2.7785, -0.1930],\n",
      "          [ 2.0130, -0.7500,  7.6726],\n",
      "          [-2.6895, -4.4812, -1.6074]]],\n",
      "\n",
      "\n",
      "        [[[ 3.0959,  1.6846,  0.8221],\n",
      "          [ 2.5026,  1.5058,  0.7101],\n",
      "          [-1.2104,  2.5350,  0.7564],\n",
      "          [ 0.7174, -0.9197,  1.9945]],\n",
      "\n",
      "         [[-0.2836,  4.8793, -4.5394],\n",
      "          [-0.6057,  1.1132, -4.1034],\n",
      "          [-0.7508,  0.0664,  1.2164],\n",
      "          [-0.0958,  1.7650,  1.3014]]]])\n",
      "\n",
      "Test values shape after reshaping: torch.Size([2, 2, 4, 3])\n",
      "Test values after reshaping:\n",
      "tensor([[[[-2.8058, -0.0115,  0.4079],\n",
      "          [-1.2166,  0.5264, -0.4996],\n",
      "          [ 3.1916, -2.4025, -4.8454],\n",
      "          [ 3.7062,  0.8567, -0.7310]],\n",
      "\n",
      "         [[-0.1705,  1.3164,  0.5261],\n",
      "          [-0.1001,  1.2077, -2.1692],\n",
      "          [-3.0063,  1.5451,  7.1087],\n",
      "          [-1.8548, -0.3327, -0.4001]]],\n",
      "\n",
      "\n",
      "        [[[-0.8566,  0.1662,  4.0954],\n",
      "          [-3.5894,  1.6419,  2.6697],\n",
      "          [-0.1599, -2.0508,  2.3085],\n",
      "          [ 5.1132, -3.7843,  2.2245]],\n",
      "\n",
      "         [[ 2.5274, -1.3767, -6.6800],\n",
      "          [ 1.1664,  0.1268, -4.7397],\n",
      "          [-0.0175, -1.1314,  1.0673],\n",
      "          [-0.0555, -1.7954, -0.7883]]]])\n",
      "\n"
     ]
    }
   ],
   "source": [
    "# Transposes from shape (b, context_length, num_heads, dim_head) to (b, num_heads, context_length, dim_head)\n",
    "query = test_query.view(b, context_length, num_heads, dim_head).transpose(1, 2)\n",
    "keys = test_keys.view(b, context_length, num_heads, dim_head).transpose(1, 2)\n",
    "values = test_values.view(b, context_length, num_heads, dim_head).transpose(1, 2)\n",
    "\n",
    "print(f\"Test query shape after reshaping: {query.shape}\")\n",
    "print(f\"Test query after reshaping:\\n{query}\\n\")\n",
    "print(f\"Test keys shape after reshaping: {keys.shape}\")\n",
    "print(f\"Test keys after reshaping:\\n{keys}\\n\")\n",
    "print(f\"Test values shape after reshaping: {values.shape}\")\n",
    "print(f\"Test values after reshaping:\\n{values}\\n\")"
   ]
  },
  {
   "cell_type": "code",
   "execution_count": 63,
   "id": "3f69f0aa",
   "metadata": {},
   "outputs": [
    {
     "name": "stdout",
     "output_type": "stream",
     "text": [
      "Attention scores shape: torch.Size([2, 2, 4, 4])\n",
      "Attention scores:\n",
      "tensor([[[[  6.3154,   3.8583,   2.2554,   6.5981],\n",
      "          [  1.4362,   8.1690,   2.6301,  -1.2742],\n",
      "          [ -1.1588,   0.2600,   1.8961,  -7.4474],\n",
      "          [ -1.5525, -14.5665,  -1.4412,  -5.3118]],\n",
      "\n",
      "         [[ -3.8207,   4.9130, -35.1013,   0.5867],\n",
      "          [  6.6227,   0.4183,  -9.6427,   1.7805],\n",
      "          [ 23.4012,  -9.5704,  37.9946,   6.6260],\n",
      "          [  0.6724,  -0.6411, -24.4412,   7.2178]]],\n",
      "\n",
      "\n",
      "        [[[  4.4672,   3.8418,   3.6326,   7.5941],\n",
      "          [  4.7036,   3.5395,  -7.8001,  -0.9875],\n",
      "          [  5.2581,   4.2594,  -2.0320,  -4.5459],\n",
      "          [ -1.7704,  -0.9681,  11.2160,   3.8141]],\n",
      "\n",
      "         [[ 23.5765,  10.7854,  -0.7052,   3.9872],\n",
      "          [ 20.6536,   9.4409,  -1.6563,   2.9512],\n",
      "          [-17.2428, -23.7151,   6.8062,  12.1097],\n",
      "          [  2.1832,  -3.1354,   0.7142,   3.8391]]]])\n",
      "\n"
     ]
    }
   ],
   "source": [
    "# Attention scores calculation.\n",
    "attn_scores = query @ keys.transpose(-2, -1)  # Transpose the last two dimensions.\n",
    "print(f\"Attention scores shape: {attn_scores.shape}\")\n",
    "print(f\"Attention scores:\\n{attn_scores}\\n\")"
   ]
  },
  {
   "cell_type": "code",
   "execution_count": 64,
   "id": "07832c4e",
   "metadata": {},
   "outputs": [
    {
     "name": "stdout",
     "output_type": "stream",
     "text": [
      "Context vectors shape (w/o transpose): torch.Size([2, 2, 4, 3])\n",
      "Context vectors (w/o transpose):\n",
      "tensor([[[[   9.2386,    2.1924,  -15.1032],\n",
      "          [ -10.2965,   -3.1268,  -15.3079],\n",
      "          [ -18.6148,  -10.7854,   -4.3460],\n",
      "          [  -2.2087,   -8.7381,   17.5103]],\n",
      "\n",
      "         [[ 104.5964,  -53.5264, -262.4267],\n",
      "          [  24.5155,   -6.2680,  -66.6829],\n",
      "          [-129.5448,   75.7481,  300.5123],\n",
      "          [  60.0396,  -40.0547, -174.8888]]],\n",
      "\n",
      "\n",
      "        [[[  20.6329,  -29.1379,   53.8305],\n",
      "          [ -20.5361,   26.3268,    8.5094],\n",
      "          [ -42.7120,   29.2376,   18.1023],\n",
      "          [  22.7003,  -39.3194,   24.5415]],\n",
      "\n",
      "         [[  71.9585,  -37.4511, -212.5066],\n",
      "          [  63.0770,  -30.6614, -186.8075],\n",
      "          [ -72.0320,   -8.7111,  225.3027],\n",
      "          [   1.6352,  -11.1040,   -1.9872]]]])\n",
      "\n"
     ]
    }
   ],
   "source": [
    "# Masking and softmax normalisation are not applied in this example.\n",
    "# For simplicity, assume 'attn_scores' = 'attn_weights'.\n",
    "attn_weights = attn_scores\n",
    "\n",
    "# Calculate context vectors.\n",
    "context_vecs = attn_weights @ values\n",
    "print(f\"Context vectors shape (w/o transpose): {context_vecs.shape}\")\n",
    "print(f\"Context vectors (w/o transpose):\\n{context_vecs}\\n\")"
   ]
  },
  {
   "cell_type": "code",
   "execution_count": 65,
   "id": "5c96486b",
   "metadata": {},
   "outputs": [
    {
     "name": "stdout",
     "output_type": "stream",
     "text": [
      "Context vectors shape (w/ transpose): torch.Size([2, 4, 2, 3])\n",
      "Context vectors (w/ transpose):\n",
      "tensor([[[[   9.2386,    2.1924,  -15.1032],\n",
      "          [ 104.5964,  -53.5264, -262.4267]],\n",
      "\n",
      "         [[ -10.2965,   -3.1268,  -15.3079],\n",
      "          [  24.5155,   -6.2680,  -66.6829]],\n",
      "\n",
      "         [[ -18.6148,  -10.7854,   -4.3460],\n",
      "          [-129.5448,   75.7481,  300.5123]],\n",
      "\n",
      "         [[  -2.2087,   -8.7381,   17.5103],\n",
      "          [  60.0396,  -40.0547, -174.8888]]],\n",
      "\n",
      "\n",
      "        [[[  20.6329,  -29.1379,   53.8305],\n",
      "          [  71.9585,  -37.4511, -212.5066]],\n",
      "\n",
      "         [[ -20.5361,   26.3268,    8.5094],\n",
      "          [  63.0770,  -30.6614, -186.8075]],\n",
      "\n",
      "         [[ -42.7120,   29.2376,   18.1023],\n",
      "          [ -72.0320,   -8.7111,  225.3027]],\n",
      "\n",
      "         [[  22.7003,  -39.3194,   24.5415],\n",
      "          [   1.6352,  -11.1040,   -1.9872]]]])\n",
      "\n"
     ]
    }
   ],
   "source": [
    "context_vecs = (attn_weights @ values).transpose(1, 2)\n",
    "print(f\"Context vectors shape (w/ transpose): {context_vecs.shape}\")\n",
    "print(f\"Context vectors (w/ transpose):\\n{context_vecs}\\n\")"
   ]
  },
  {
   "cell_type": "code",
   "execution_count": 66,
   "id": "ec4a701b",
   "metadata": {},
   "outputs": [
    {
     "name": "stdout",
     "output_type": "stream",
     "text": [
      "Context vectors shape (after combining heads): torch.Size([2, 4, 6])\n",
      "Context vectors (after combining heads):\n",
      "tensor([[[   9.2386,    2.1924,  -15.1032,  104.5964,  -53.5264, -262.4267],\n",
      "         [ -10.2965,   -3.1268,  -15.3079,   24.5155,   -6.2680,  -66.6829],\n",
      "         [ -18.6148,  -10.7854,   -4.3460, -129.5448,   75.7481,  300.5123],\n",
      "         [  -2.2087,   -8.7381,   17.5103,   60.0396,  -40.0547, -174.8888]],\n",
      "\n",
      "        [[  20.6329,  -29.1379,   53.8305,   71.9585,  -37.4511, -212.5066],\n",
      "         [ -20.5361,   26.3268,    8.5094,   63.0770,  -30.6614, -186.8075],\n",
      "         [ -42.7120,   29.2376,   18.1023,  -72.0320,   -8.7111,  225.3027],\n",
      "         [  22.7003,  -39.3194,   24.5415,    1.6352,  -11.1040,   -1.9872]]])\n",
      "\n"
     ]
    }
   ],
   "source": [
    "context_vecs = (attn_weights @ values).transpose(1, 2)\n",
    "\n",
    "# Combine heads, d_out = num_heads * dim_head.\n",
    "context_vecs = context_vecs.contiguous().view(b, context_length, d_out)  # Flatten the last two dimensions.\n",
    "print(f\"Context vectors shape (after combining heads): {context_vecs.shape}\")\n",
    "print(f\"Context vectors (after combining heads):\\n{context_vecs}\\n\")"
   ]
  },
  {
   "cell_type": "code",
   "execution_count": 67,
   "id": "1d2459e4",
   "metadata": {},
   "outputs": [
    {
     "name": "stdout",
     "output_type": "stream",
     "text": [
      "'query' shape (b, num_heads, context_length, dim_head): torch.Size([2, 2, 4, 3])\n",
      "\n",
      "'keys' shape (b, num_heads, context_length, dim_head): torch.Size([2, 2, 4, 3])\n",
      "'keys.transpose(-2, -1)' shape (b, num_heads, dim_head, context_length): torch.Size([2, 2, 3, 4])\n",
      "\n",
      "'values' shape (b, num_heads, context_length, dim_head): torch.Size([2, 2, 4, 3])\n",
      "\n",
      "'attn_scores' shape (b, num_heads, context_length, context_length): torch.Size([2, 2, 4, 4])\n",
      "\n",
      "'context_vecs' shape, before transpose, (b, num_heads, context_length, dim_head): torch.Size([2, 2, 4, 3])\n",
      "'context_vecs' shape, after transpose, (b, context_length, num_heads, dim_head): torch.Size([2, 4, 2, 3])\n",
      "'context_vecs' shape, after combining heads, (b, context_length, d_out): torch.Size([2, 4, 6])\n"
     ]
    }
   ],
   "source": [
    "print(f\"'query' shape (b, num_heads, context_length, dim_head): {query.shape}\\n\")\n",
    "\n",
    "print(f\"'keys' shape (b, num_heads, context_length, dim_head): {keys.shape}\")\n",
    "print(f\"'keys.transpose(-2, -1)' shape (b, num_heads, dim_head, context_length): {keys.transpose(-2, -1).shape}\\n\")\n",
    "\n",
    "print(f\"'values' shape (b, num_heads, context_length, dim_head): {values.shape}\\n\")\n",
    "\n",
    "print(f\"'attn_scores' shape (b, num_heads, context_length, context_length): {attn_scores.shape}\\n\")\n",
    "\n",
    "print(f\"'context_vecs' shape, before transpose, (b, num_heads, context_length, dim_head): {(attn_weights @ values).shape}\")\n",
    "print(f\"'context_vecs' shape, after transpose, (b, context_length, num_heads, dim_head): {(attn_weights @ values).transpose(1, 2).shape}\")\n",
    "print(f\"'context_vecs' shape, after combining heads, (b, context_length, d_out): {context_vecs.shape}\")"
   ]
  },
  {
   "cell_type": "code",
   "execution_count": 73,
   "id": "5c50813e",
   "metadata": {},
   "outputs": [],
   "source": [
    "# An efficient implementation of multi-head attention.\n",
    "class MultiHeadAttention(nn.Module):\n",
    "    def __init__(self, d_in, d_out, context_length, dropout, num_heads, qkv_bias=False):\n",
    "        super().__init__()\n",
    "        assert (d_out % num_heads == 0), \"d_out must be divisible by num_heads\"\n",
    "\n",
    "        self.d_out = d_out\n",
    "        self.context_length = context_length\n",
    "        self.num_heads = num_heads\n",
    "        self.dim_head = d_out // num_heads # Reduces the projection dim to match the desired output dim.\n",
    "\n",
    "        self.w_query = nn.Linear(d_in, d_out, bias=qkv_bias)\n",
    "        self.w_key = nn.Linear(d_in, d_out, bias=qkv_bias)\n",
    "        self.w_value = nn.Linear(d_in, d_out, bias=qkv_bias)\n",
    "\n",
    "        self.out_proj = nn.Linear(d_out, d_out) # Use a Linear layer to combine head outputs.\n",
    "        self.dropout = nn.Dropout(p=dropout)\n",
    "        self.register_buffer(\n",
    "            \"mask\",\n",
    "            torch.triu(torch.ones(context_length, context_length), diagonal=1)\n",
    "        )\n",
    "\n",
    "    def forward(self, x):\n",
    "        b, num_tokens, d_in = x.shape\n",
    "        \n",
    "        # # Compute query, key, and value vectors.\n",
    "        queries = self.w_query(x)\n",
    "        keys = self.w_key(x)\n",
    "        values = self.w_value(x)\n",
    "\n",
    "        # Implicitly split the matrix by adding a num_heads dimension. \n",
    "        # Then unroll the last dim: (b, num_tokens, d_out) --> (b, num_tokens, num_heads, head_dim).\n",
    "        keys = keys.view(b, num_tokens, self.num_heads, self.dim_head)\n",
    "        values = values.view(b, num_tokens, self.num_heads, self.dim_head)\n",
    "        queries = queries.view(b, num_tokens, self.num_heads, self.dim_head)\n",
    "\n",
    "        # Transpose from shape (b, num_tokens, num_heads, dim_head) to (b, num_heads, num_tokens, dim_head).\n",
    "        keys = keys.transpose(1, 2)\n",
    "        queries = queries.transpose(1, 2)\n",
    "        values = values.transpose(1, 2)\n",
    "\n",
    "        # Compute attention scores.\n",
    "        attn_scores = queries @ keys.transpose(2, 3) # Compute dot product for each head.\n",
    "        mask_bool = self.mask.bool()[:num_tokens, :num_tokens] # Mask truncated to the number of tokens.\n",
    "\n",
    "        attn_scores.masked_fill_(mask_bool, -torch.inf) # Use the mask to fill attention scores.\n",
    "\n",
    "        # Normalise attention scores.\n",
    "        attn_weights = torch.softmax(attn_scores / keys.shape[-1]**0.5, dim=-1)\n",
    "        \n",
    "        # Apply dropout to attention weights.\n",
    "        attn_weights = self.dropout(attn_weights)\n",
    "\n",
    "        # Compute context vectors.\n",
    "        context_vecs = (attn_weights @ values).transpose(1, 2) # Tensor shape: (b, num_tokens, n_heads, dim_head).\n",
    "        context_vecs = context_vecs.contiguous().view(b, num_tokens, self.d_out) # Combine heads, where self.d_out = self.num_heads * self.dim_head\n",
    "        context_vecs = self.out_proj(context_vecs)  # Add an optional linear projection.\n",
    "\n",
    "        return context_vecs"
   ]
  },
  {
   "cell_type": "code",
   "execution_count": 77,
   "id": "73013d02",
   "metadata": {},
   "outputs": [
    {
     "name": "stdout",
     "output_type": "stream",
     "text": [
      "Shape of input batch: torch.Size([2, 6, 3])\n",
      "Input batch:\n",
      "tensor([[[0.4300, 0.1500, 0.8900],\n",
      "         [0.5500, 0.8700, 0.6600],\n",
      "         [0.5700, 0.8500, 0.6400],\n",
      "         [0.2200, 0.5800, 0.3300],\n",
      "         [0.7700, 0.2500, 0.1000],\n",
      "         [0.0500, 0.8000, 0.5500]],\n",
      "\n",
      "        [[0.4300, 0.1500, 0.8900],\n",
      "         [0.5500, 0.8700, 0.6600],\n",
      "         [0.5700, 0.8500, 0.6400],\n",
      "         [0.2200, 0.5800, 0.3300],\n",
      "         [0.7700, 0.2500, 0.1000],\n",
      "         [0.0500, 0.8000, 0.5500]]])\n",
      "\n",
      "Shape of context vectors: torch.Size([2, 6, 6])\n",
      "Context vectors for the batch of inputs:\n",
      "tensor([[[ 0.3067, -0.4544, -0.2244, -0.1679, -0.1750,  0.0730],\n",
      "         [ 0.4069, -0.3530, -0.2964, -0.1856, -0.0851,  0.1264],\n",
      "         [ 0.4376, -0.3175, -0.3122, -0.1917, -0.0561,  0.1387],\n",
      "         [ 0.4166, -0.3093, -0.2737, -0.1918, -0.0655,  0.1103],\n",
      "         [ 0.4035, -0.2625, -0.1844, -0.2097, -0.0685,  0.0565],\n",
      "         [ 0.4029, -0.2826, -0.2185, -0.2001, -0.0693,  0.0749]],\n",
      "\n",
      "        [[ 0.3067, -0.4544, -0.2244, -0.1679, -0.1750,  0.0730],\n",
      "         [ 0.4069, -0.3530, -0.2964, -0.1856, -0.0851,  0.1264],\n",
      "         [ 0.4376, -0.3175, -0.3122, -0.1917, -0.0561,  0.1387],\n",
      "         [ 0.4166, -0.3093, -0.2737, -0.1918, -0.0655,  0.1103],\n",
      "         [ 0.4035, -0.2625, -0.1844, -0.2097, -0.0685,  0.0565],\n",
      "         [ 0.4029, -0.2826, -0.2185, -0.2001, -0.0693,  0.0749]]],\n",
      "       grad_fn=<ViewBackward0>)\n"
     ]
    }
   ],
   "source": [
    "torch.manual_seed(14)\n",
    "\n",
    "# Define inputs for the multi-head attention class.\n",
    "batch_size, context_length, d_in = batch.shape # Batch size, context length, and input embedding size.\n",
    "d_out = 6 # Output embedding size.\n",
    "num_heads = 2 # Number of attention heads.\n",
    "dropout = 0.0 # Dropout probability.\n",
    "\n",
    "# Create an instance of the MultiHeadAttention class.\n",
    "mha = MultiHeadAttention(d_in=d_in, d_out=d_out, context_length=context_length, dropout=dropout, num_heads=num_heads)\n",
    "\n",
    "# Calculate context vectors for the batch of inputs.\n",
    "context_vecs = mha(batch)\n",
    "\n",
    "print(f\"Shape of input batch: {batch.shape}\")\n",
    "print(f\"Input batch:\\n{batch}\\n\")\n",
    "\n",
    "print(f\"Shape of context vectors: {context_vecs.shape}\")\n",
    "print(f\"Context vectors for the batch of inputs:\\n{context_vecs}\")"
   ]
  },
  {
   "cell_type": "markdown",
   "id": "90806b70",
   "metadata": {},
   "source": [
    "- #### Step #3 - LLM architecture"
   ]
  },
  {
   "cell_type": "markdown",
   "id": "40d981d8",
   "metadata": {},
   "source": [
    "### Stage #2 - Foundation model"
   ]
  },
  {
   "cell_type": "markdown",
   "id": "496e2044",
   "metadata": {},
   "source": [
    "- #### Step #1 - Training Loop"
   ]
  },
  {
   "cell_type": "markdown",
   "id": "96a531da",
   "metadata": {},
   "source": [
    "- #### Step #2 - Model evaluation"
   ]
  },
  {
   "cell_type": "markdown",
   "id": "c4050425",
   "metadata": {},
   "source": [
    "- #### Step #3 - Load pretrained weights"
   ]
  },
  {
   "cell_type": "markdown",
   "id": "90cb3e87",
   "metadata": {},
   "source": [
    "### Stage #3 - "
   ]
  },
  {
   "cell_type": "markdown",
   "id": "5d858ad8",
   "metadata": {},
   "source": [
    "- #### Step #1 - `TBC`"
   ]
  },
  {
   "cell_type": "markdown",
   "id": "48f22e90",
   "metadata": {},
   "source": [
    "- #### Step #2 - `TBC`"
   ]
  }
 ],
 "metadata": {
  "kernelspec": {
   "display_name": ".venv",
   "language": "python",
   "name": "python3"
  },
  "language_info": {
   "codemirror_mode": {
    "name": "ipython",
    "version": 3
   },
   "file_extension": ".py",
   "mimetype": "text/x-python",
   "name": "python",
   "nbconvert_exporter": "python",
   "pygments_lexer": "ipython3",
   "version": "3.11.10"
  }
 },
 "nbformat": 4,
 "nbformat_minor": 5
}
